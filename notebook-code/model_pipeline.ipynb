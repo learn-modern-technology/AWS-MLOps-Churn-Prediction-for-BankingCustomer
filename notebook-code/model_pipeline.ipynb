{
 "cells": [
  {
   "cell_type": "code",
   "execution_count": 1,
   "id": "bf685804",
   "metadata": {},
   "outputs": [],
   "source": [
    "import pandas as pd\n",
    "import numpy as np\n",
    "import matplotlib.pyplot as plt\n",
    "import seaborn as sns\n",
    "\n",
    "# ------------Split Train and Test Data----------\n",
    "from sklearn.model_selection import train_test_split\n",
    "\n",
    "# -----Classification ML Algorithms--------------\n",
    "from sklearn.linear_model import LinearRegression\n",
    "from sklearn.linear_model import LogisticRegression\n",
    "from sklearn.tree import DecisionTreeClassifier\n",
    "from sklearn.discriminant_analysis import LinearDiscriminantAnalysis\n",
    "from sklearn.naive_bayes import GaussianNB \n",
    "\n",
    "from sklearn.ensemble import RandomForestClassifier\n",
    "from sklearn.ensemble import GradientBoostingClassifier\n",
    "from sklearn.ensemble import AdaBoostClassifier\n",
    "from sklearn.ensemble import BaggingClassifier\n",
    "from sklearn.ensemble import VotingClassifier\n",
    "\n",
    "from sklearn.svm import SVC \n",
    "\n",
    "from sklearn.neighbors import KNeighborsClassifier\n",
    "\n",
    "# ----------HyperParameter Tuning --------------\n",
    "from sklearn.model_selection import GridSearchCV\n",
    "\n",
    "# ---------Evaluating Performance Metrics-------\n",
    "from sklearn import metrics\n",
    "from sklearn.metrics import classification_report\n",
    "from sklearn.metrics import roc_auc_score\n",
    "from sklearn.metrics import accuracy_score\n",
    "from sklearn.metrics import precision_recall_curve\n",
    "from sklearn.metrics import precision_score, recall_score, f1_score\n",
    "from sklearn.metrics import confusion_matrix\n",
    "\n",
    "# ---------SMOTE for OvrSampling----------------\n",
    "from imblearn.over_sampling import SMOTE\n",
    "\n",
    "# --------Supress Future Warning----------------\n",
    "import warnings\n",
    "warnings.filterwarnings(\"ignore\")"
   ]
  },
  {
   "cell_type": "code",
   "execution_count": 2,
   "id": "10da39aa",
   "metadata": {},
   "outputs": [],
   "source": [
    "df = pd.read_csv('../data/AfterDataCleaning.csv')"
   ]
  },
  {
   "cell_type": "code",
   "execution_count": 3,
   "id": "9493e7d5",
   "metadata": {},
   "outputs": [
    {
     "data": {
      "text/html": [
       "<div>\n",
       "<style scoped>\n",
       "    .dataframe tbody tr th:only-of-type {\n",
       "        vertical-align: middle;\n",
       "    }\n",
       "\n",
       "    .dataframe tbody tr th {\n",
       "        vertical-align: top;\n",
       "    }\n",
       "\n",
       "    .dataframe thead th {\n",
       "        text-align: right;\n",
       "    }\n",
       "</style>\n",
       "<table border=\"1\" class=\"dataframe\">\n",
       "  <thead>\n",
       "    <tr style=\"text-align: right;\">\n",
       "      <th></th>\n",
       "      <th>CreditScore</th>\n",
       "      <th>Geography</th>\n",
       "      <th>Gender</th>\n",
       "      <th>Age</th>\n",
       "      <th>Tenure</th>\n",
       "      <th>Balance</th>\n",
       "      <th>NumOfProducts</th>\n",
       "      <th>HasCrCard</th>\n",
       "      <th>IsActiveMember</th>\n",
       "      <th>EstimatedSalary</th>\n",
       "      <th>Exited</th>\n",
       "    </tr>\n",
       "  </thead>\n",
       "  <tbody>\n",
       "    <tr>\n",
       "      <th>0</th>\n",
       "      <td>619</td>\n",
       "      <td>1</td>\n",
       "      <td>0</td>\n",
       "      <td>42</td>\n",
       "      <td>2</td>\n",
       "      <td>0.00</td>\n",
       "      <td>1</td>\n",
       "      <td>1</td>\n",
       "      <td>1</td>\n",
       "      <td>101348.88</td>\n",
       "      <td>1</td>\n",
       "    </tr>\n",
       "    <tr>\n",
       "      <th>1</th>\n",
       "      <td>608</td>\n",
       "      <td>3</td>\n",
       "      <td>0</td>\n",
       "      <td>41</td>\n",
       "      <td>1</td>\n",
       "      <td>83807.86</td>\n",
       "      <td>1</td>\n",
       "      <td>0</td>\n",
       "      <td>1</td>\n",
       "      <td>112542.58</td>\n",
       "      <td>0</td>\n",
       "    </tr>\n",
       "    <tr>\n",
       "      <th>2</th>\n",
       "      <td>502</td>\n",
       "      <td>1</td>\n",
       "      <td>0</td>\n",
       "      <td>42</td>\n",
       "      <td>8</td>\n",
       "      <td>159660.80</td>\n",
       "      <td>3</td>\n",
       "      <td>1</td>\n",
       "      <td>0</td>\n",
       "      <td>113931.57</td>\n",
       "      <td>1</td>\n",
       "    </tr>\n",
       "    <tr>\n",
       "      <th>3</th>\n",
       "      <td>699</td>\n",
       "      <td>1</td>\n",
       "      <td>0</td>\n",
       "      <td>39</td>\n",
       "      <td>1</td>\n",
       "      <td>0.00</td>\n",
       "      <td>2</td>\n",
       "      <td>0</td>\n",
       "      <td>0</td>\n",
       "      <td>93826.63</td>\n",
       "      <td>0</td>\n",
       "    </tr>\n",
       "    <tr>\n",
       "      <th>4</th>\n",
       "      <td>850</td>\n",
       "      <td>3</td>\n",
       "      <td>0</td>\n",
       "      <td>43</td>\n",
       "      <td>2</td>\n",
       "      <td>125510.82</td>\n",
       "      <td>1</td>\n",
       "      <td>1</td>\n",
       "      <td>1</td>\n",
       "      <td>79084.10</td>\n",
       "      <td>0</td>\n",
       "    </tr>\n",
       "  </tbody>\n",
       "</table>\n",
       "</div>"
      ],
      "text/plain": [
       "   CreditScore  Geography  Gender  Age  Tenure    Balance  NumOfProducts  \\\n",
       "0          619          1       0   42       2       0.00              1   \n",
       "1          608          3       0   41       1   83807.86              1   \n",
       "2          502          1       0   42       8  159660.80              3   \n",
       "3          699          1       0   39       1       0.00              2   \n",
       "4          850          3       0   43       2  125510.82              1   \n",
       "\n",
       "   HasCrCard  IsActiveMember  EstimatedSalary  Exited  \n",
       "0          1               1        101348.88       1  \n",
       "1          0               1        112542.58       0  \n",
       "2          1               0        113931.57       1  \n",
       "3          0               0         93826.63       0  \n",
       "4          1               1         79084.10       0  "
      ]
     },
     "execution_count": 3,
     "metadata": {},
     "output_type": "execute_result"
    }
   ],
   "source": [
    "df.head()"
   ]
  },
  {
   "cell_type": "code",
   "execution_count": 4,
   "id": "434dc17f",
   "metadata": {},
   "outputs": [
    {
     "name": "stdout",
     "output_type": "stream",
     "text": [
      "Shape of X_train is- (7000, 10)\n",
      "Shape of X_test is- (3000, 10)\n",
      "Shape of y_train is- (7000,)\n",
      "Shape of y_test is- (3000,)\n"
     ]
    }
   ],
   "source": [
    "X = df.drop('Exited',axis=1)\n",
    "Y = df['Exited']\n",
    "\n",
    "X_train, X_test, y_train, y_test = train_test_split(X,Y, test_size=0.3, random_state=1234)\n",
    "\n",
    "print(f'Shape of X_train is- {X_train.shape}')\n",
    "print(f'Shape of X_test is- {X_test.shape}')\n",
    "print(f'Shape of y_train is- {y_train.shape}')\n",
    "print(f'Shape of y_test is- {y_test.shape}')"
   ]
  },
  {
   "cell_type": "code",
   "execution_count": 5,
   "id": "4ea9a080",
   "metadata": {},
   "outputs": [],
   "source": [
    "##  Function to calculate different metric scores of the model - Accuracy, Recall and Precision\n",
    "def get_metrics_score(model, X_training_data, X_test_data, Y_training_data, Y_test_data, flag=True):\n",
    "    '''\n",
    "    model : classifier to predict values of X\n",
    "\n",
    "    '''\n",
    "    # defining an empty list to store train and test results\n",
    "    score_list=[] \n",
    "    \n",
    "    pred_train = model.predict(X_training_data)\n",
    "    pred_test = model.predict(X_test_data)\n",
    "    \n",
    "    train_acc = accuracy_score(Y_training_data, pred_train)\n",
    "    test_acc = accuracy_score(Y_test_data, pred_test)\n",
    "    \n",
    "    train_recall = recall_score(Y_training_data,pred_train)\n",
    "    test_recall = recall_score(Y_test_data,pred_test)\n",
    "    \n",
    "    train_precision = precision_score(Y_training_data,pred_train)\n",
    "    test_precision = precision_score(Y_test_data,pred_test)\n",
    "    \n",
    "    train_f1 = f1_score(Y_training_data,pred_train)\n",
    "    test_f1 = f1_score(Y_test_data,pred_test)\n",
    "\n",
    "    score_list.extend((train_acc,test_acc,train_recall,test_recall,train_precision,test_precision,train_f1,test_f1))\n",
    "    \n",
    "    # If the flag is set to True then only the following print statements will be dispayed. The default value is set to True.\n",
    "    if flag == True: \n",
    "        print(\"Accuracy on training set : \",accuracy_score(Y_training_data,pred_train))\n",
    "        print(\"Accuracy on test set : \",accuracy_score(Y_test_data,pred_test))\n",
    "        print(\"Recall on training set : \",recall_score(Y_training_data,pred_train))\n",
    "        print(\"Recall on test set : \",recall_score(Y_test_data,pred_test))\n",
    "        print(\"Precision on training set : \",precision_score(Y_training_data,pred_train))\n",
    "        print(\"Precision on test set : \",precision_score(Y_test_data,pred_test))\n",
    "        print(\"F1-Score on training set : \",f1_score(Y_training_data,pred_train))\n",
    "        print(\"F1-Score on test set : \",f1_score(Y_test_data,pred_test))\n",
    "    \n",
    "    return score_list # returning the list with train and test scores"
   ]
  },
  {
   "cell_type": "code",
   "execution_count": 6,
   "id": "b0d744a5",
   "metadata": {},
   "outputs": [],
   "source": [
    "def get_summary_of_models(models):\n",
    "    # defining list of models\n",
    "\n",
    "    # defining empty lists to add train and test results\n",
    "    acc_train = []\n",
    "    acc_test = []\n",
    "    recall_train = []\n",
    "    recall_test = []\n",
    "    precision_train = []\n",
    "    precision_test = []\n",
    "    f1_train =[]\n",
    "    f1_test = []\n",
    "    roc_auc_train = []\n",
    "    roc_auc_test = []\n",
    "    \n",
    "    # looping through all the models to get the accuracy, precall and precision scores\n",
    "    for idx,model in enumerate(models):\n",
    "            #print(model)\n",
    "            j = get_metrics_score(model,X_train, X_test, y_train, y_test,False)\n",
    "            acc_train.append(np.round(j[0],2))\n",
    "            acc_test.append(np.round(j[1],2))\n",
    "            recall_train.append(np.round(j[2],2))\n",
    "            recall_test.append(np.round(j[3],2))\n",
    "            precision_train.append(np.round(j[4],2))\n",
    "            precision_test.append(np.round(j[5],2))\n",
    "            f1_train.append(np.round(j[6],2))\n",
    "            f1_test.append(np.round(j[7],2))\n",
    "    \n",
    "    model_metrics = pd.DataFrame({'TrainAccuracy': acc_train, 'TestAccuracy': acc_test, 'Train_Recall':recall_train, \n",
    "                                  'TestRecall':recall_test, 'TrainPrecision':precision_train, 'TestPrecision':precision_test, \n",
    "                                  'TrainF1Score':f1_train, 'TestF1Score':f1_test\n",
    "                                 })\n",
    "    \n",
    "    return model_metrics"
   ]
  },
  {
   "cell_type": "code",
   "execution_count": 7,
   "id": "d765eb38",
   "metadata": {},
   "outputs": [],
   "source": [
    "##  Function to calculate different metric scores of the model - Accuracy, Recall and Precision\n",
    "def get_ROC_AUC_score(model, X_training_data, X_test_data, Y_training_data, Y_test_data, flag=True):\n",
    "    '''\n",
    "    model : classifier to predict values of X\n",
    "\n",
    "    '''\n",
    "    # defining an empty list to store train and test results\n",
    "    score_list=[] \n",
    "    \n",
    "    pred_train_prob = model.predict_proba(X_training_data)\n",
    "    pred_train_prob = pred_train_prob[:,1]\n",
    "    train_auc = roc_auc_score(Y_training_data, pred_train_prob)\n",
    "    pred_test_prob = model.predict_proba(X_test_data)\n",
    "    pred_test_prob = pred_test_prob[:,1]\n",
    "    test_auc = roc_auc_score(Y_test_data,pred_test_prob)\n",
    "\n",
    "    score_list.extend((train_auc,test_auc))\n",
    "    \n",
    "    # If the flag is set to True then only the following print statements will be dispayed. The default value is set to True.\n",
    "    if flag == True:    \n",
    "        print(\"ROC AUC Score on training set : \",roc_auc_score(Y_training_data,pred_train_prob))\n",
    "        print(\"ROC AUC Score on test set : \",roc_auc_score(Y_test_data,pred_test_prob))\n",
    "        \n",
    "    return score_list"
   ]
  },
  {
   "cell_type": "code",
   "execution_count": 8,
   "id": "eaf380d1",
   "metadata": {},
   "outputs": [],
   "source": [
    "def get_ROC_AUC_score_of_models(models):\n",
    "    # defining list of models\n",
    "\n",
    "    roc_auc_train = []\n",
    "    roc_auc_test = []\n",
    "    \n",
    "    # looping through all the models to get the accuracy, precall and precision scores\n",
    "    for idx,model in enumerate(models):\n",
    "            #print(model)\n",
    "            j = get_ROC_AUC_score(model,X_train, X_test, y_train, y_test,False)\n",
    "            roc_auc_train.append(np.round(j[0],2))\n",
    "            roc_auc_test.append(np.round(j[1],2))\n",
    "    \n",
    "    model_auc_score = pd.DataFrame({'Train ROC-AUC Score': roc_auc_train, 'Test ROC-AUC Score': roc_auc_test})\n",
    "    \n",
    "    return model_auc_score"
   ]
  },
  {
   "cell_type": "markdown",
   "id": "b0ef2ba9",
   "metadata": {},
   "source": [
    "## 1. Logistic Regression"
   ]
  },
  {
   "cell_type": "code",
   "execution_count": 9,
   "id": "0e7b936c",
   "metadata": {},
   "outputs": [
    {
     "name": "stdout",
     "output_type": "stream",
     "text": [
      "Accuracy on training set :  0.7891428571428571\n",
      "Accuracy on test set :  0.7916666666666666\n",
      "Recall on training set :  0.05931612002791347\n",
      "Recall on test set :  0.057947019867549666\n",
      "Precision on training set :  0.39906103286384975\n",
      "Precision on test set :  0.38461538461538464\n",
      "F1-Score on training set :  0.10328068043742406\n",
      "F1-Score on test set :  0.10071942446043164\n"
     ]
    }
   ],
   "source": [
    "lr_model = LogisticRegression()\n",
    "lr_model.fit(X_train,y_train)\n",
    "y_lr_train_predicted = lr_model.predict(X_train)\n",
    "y_lr_test_predicted = lr_model.predict(X_test)\n",
    "metrics.accuracy_score(y_train,y_lr_train_predicted)\n",
    "#Using above defined function to get accuracy, recall and precision on train and test set\n",
    "lr_score=get_metrics_score(lr_model, X_train, X_test, y_train, y_test)"
   ]
  },
  {
   "cell_type": "code",
   "execution_count": 10,
   "id": "69735616",
   "metadata": {},
   "outputs": [
    {
     "name": "stdout",
     "output_type": "stream",
     "text": [
      "Classification Report for Training Data- \n",
      "               precision    recall  f1-score   support\n",
      "\n",
      "           0       0.80      0.98      0.88      5567\n",
      "           1       0.40      0.06      0.10      1433\n",
      "\n",
      "    accuracy                           0.79      7000\n",
      "   macro avg       0.60      0.52      0.49      7000\n",
      "weighted avg       0.72      0.79      0.72      7000\n",
      "\n",
      "\n",
      "Classification Report for Test Data- \n",
      "               precision    recall  f1-score   support\n",
      "\n",
      "           0       0.80      0.98      0.88      2396\n",
      "           1       0.38      0.06      0.10       604\n",
      "\n",
      "    accuracy                           0.79      3000\n",
      "   macro avg       0.59      0.52      0.49      3000\n",
      "weighted avg       0.72      0.79      0.72      3000\n",
      "\n",
      "Confusion matrix for the train Data- \n",
      " [[5439  128]\n",
      " [1348   85]]\n",
      "\n",
      "Confusion matrix for the test Data- \n",
      " [[2340   56]\n",
      " [ 569   35]]\n"
     ]
    }
   ],
   "source": [
    "print('Classification Report for Training Data- \\n',classification_report(y_train, y_lr_train_predicted))\n",
    "print('\\nClassification Report for Test Data- \\n',classification_report(y_test, y_lr_test_predicted))\n",
    "print('Confusion matrix for the train Data- \\n',confusion_matrix(y_train, y_lr_train_predicted))\n",
    "print('\\nConfusion matrix for the test Data- \\n',confusion_matrix(y_test, y_lr_test_predicted))"
   ]
  },
  {
   "cell_type": "markdown",
   "id": "1bc45115",
   "metadata": {},
   "source": [
    "## 2. Linear Discriminant Analysis"
   ]
  },
  {
   "cell_type": "code",
   "execution_count": 11,
   "id": "35047752",
   "metadata": {},
   "outputs": [
    {
     "name": "stdout",
     "output_type": "stream",
     "text": [
      "Accuracy on training set :  0.8045714285714286\n",
      "Accuracy on test set :  0.807\n",
      "Recall on training set :  0.19120725750174458\n",
      "Recall on test set :  0.1986754966887417\n",
      "Precision on training set :  0.567287784679089\n",
      "Precision on test set :  0.5581395348837209\n",
      "F1-Score on training set :  0.2860125260960334\n",
      "F1-Score on test set :  0.293040293040293\n"
     ]
    }
   ],
   "source": [
    "lda_model = LinearDiscriminantAnalysis(n_components=1)\n",
    "lda_model.fit(X_train,y_train)\n",
    "y_lda_train_predicted = lda_model.predict(X_train)\n",
    "y_lda_test_predicted = lda_model.predict(X_test)\n",
    "\n",
    "#Using above defined function to get accuracy, recall and precision on train and test set\n",
    "lda_score=get_metrics_score(lda_model, X_train, X_test, y_train, y_test)"
   ]
  },
  {
   "cell_type": "code",
   "execution_count": 12,
   "id": "b92f87c8",
   "metadata": {},
   "outputs": [
    {
     "name": "stdout",
     "output_type": "stream",
     "text": [
      "Classification Report for Training Data- \n",
      "               precision    recall  f1-score   support\n",
      "\n",
      "           0       0.82      0.96      0.89      5567\n",
      "           1       0.57      0.19      0.29      1433\n",
      "\n",
      "    accuracy                           0.80      7000\n",
      "   macro avg       0.69      0.58      0.59      7000\n",
      "weighted avg       0.77      0.80      0.76      7000\n",
      "\n",
      "\n",
      "Classification Report for Test Data- \n",
      "               precision    recall  f1-score   support\n",
      "\n",
      "           0       0.83      0.96      0.89      2396\n",
      "           1       0.56      0.20      0.29       604\n",
      "\n",
      "    accuracy                           0.81      3000\n",
      "   macro avg       0.69      0.58      0.59      3000\n",
      "weighted avg       0.77      0.81      0.77      3000\n",
      "\n",
      "Confusion matrix for the train data- \n",
      " [[5358  209]\n",
      " [1159  274]]\n",
      "\n",
      "Confusion matrix for the test data- \n",
      " [[2301   95]\n",
      " [ 484  120]]\n"
     ]
    }
   ],
   "source": [
    "print('Classification Report for Training Data- \\n',classification_report(y_train, y_lda_train_predicted))\n",
    "print('\\nClassification Report for Test Data- \\n',classification_report(y_test, y_lda_test_predicted))\n",
    "print('Confusion matrix for the train data- \\n',confusion_matrix(y_train, y_lda_train_predicted))\n",
    "print('\\nConfusion matrix for the test data- \\n',confusion_matrix(y_test, y_lda_test_predicted))"
   ]
  },
  {
   "cell_type": "markdown",
   "id": "c3ed3efa",
   "metadata": {},
   "source": [
    "## 3 Gaussian Naive Bayes"
   ]
  },
  {
   "cell_type": "code",
   "execution_count": 13,
   "id": "82cd96fb",
   "metadata": {},
   "outputs": [
    {
     "name": "stdout",
     "output_type": "stream",
     "text": [
      "Accuracy on training set :  0.7827142857142857\n",
      "Accuracy on test set :  0.7873333333333333\n",
      "Recall on training set :  0.07606420097697139\n",
      "Recall on test set :  0.0728476821192053\n",
      "Precision on training set :  0.3562091503267974\n",
      "Precision on test set :  0.36065573770491804\n",
      "F1-Score on training set :  0.12535940195514667\n",
      "F1-Score on test set :  0.1212121212121212\n"
     ]
    }
   ],
   "source": [
    "GNB_model = GaussianNB()\n",
    "GNB_model.fit(X_train, y_train)\n",
    "\n",
    "# make predictions for train data\n",
    "y_gnb_train_predicted = GNB_model.predict(X_train)\n",
    "# make predictions for test data\n",
    "y_gnb_test_predicted = GNB_model.predict(X_test)\n",
    "#Using above defined function to get accuracy, recall and precision on train and test set\n",
    "gnb_score=get_metrics_score(GNB_model, X_train, X_test, y_train, y_test)"
   ]
  },
  {
   "cell_type": "code",
   "execution_count": 14,
   "id": "b83408eb",
   "metadata": {},
   "outputs": [
    {
     "name": "stdout",
     "output_type": "stream",
     "text": [
      "Classification Report for Training Data- \n",
      "               precision    recall  f1-score   support\n",
      "\n",
      "           0       0.80      0.96      0.88      5567\n",
      "           1       0.36      0.08      0.13      1433\n",
      "\n",
      "    accuracy                           0.78      7000\n",
      "   macro avg       0.58      0.52      0.50      7000\n",
      "weighted avg       0.71      0.78      0.72      7000\n",
      "\n",
      "\n",
      "Classification Report for Test Data- \n",
      "               precision    recall  f1-score   support\n",
      "\n",
      "           0       0.81      0.97      0.88      2396\n",
      "           1       0.36      0.07      0.12       604\n",
      "\n",
      "    accuracy                           0.79      3000\n",
      "   macro avg       0.58      0.52      0.50      3000\n",
      "weighted avg       0.72      0.79      0.73      3000\n",
      "\n",
      "Confusion matrix for the train data- \n",
      " [[5370  197]\n",
      " [1324  109]]\n",
      "\n",
      "Confusion matrix for the test data- \n",
      " [[2318   78]\n",
      " [ 560   44]]\n"
     ]
    }
   ],
   "source": [
    "# summarize the fit of the model\n",
    "print('Classification Report for Training Data- \\n',classification_report(y_train, y_gnb_train_predicted))\n",
    "print('\\nClassification Report for Test Data- \\n',classification_report(y_test, y_gnb_test_predicted))\n",
    "print('Confusion matrix for the train data- \\n',confusion_matrix(y_train, y_gnb_train_predicted))\n",
    "print('\\nConfusion matrix for the test data- \\n',confusion_matrix(y_test, y_gnb_test_predicted))"
   ]
  },
  {
   "cell_type": "markdown",
   "id": "4bd050e8",
   "metadata": {},
   "source": [
    "## 4. Decision Tree Classifier"
   ]
  },
  {
   "cell_type": "code",
   "execution_count": 15,
   "id": "d8ec1146",
   "metadata": {},
   "outputs": [
    {
     "name": "stdout",
     "output_type": "stream",
     "text": [
      "Decision Tree Score is  1.0\n",
      "Accuracy on training set :  1.0\n",
      "Accuracy on test set :  0.7823333333333333\n",
      "Recall on training set :  1.0\n",
      "Recall on test set :  0.49337748344370863\n",
      "Precision on training set :  1.0\n",
      "Precision on test set :  0.462015503875969\n",
      "F1-Score on training set :  1.0\n",
      "F1-Score on test set :  0.4771817453963171\n",
      "Classification report for the training data \n",
      "               precision    recall  f1-score   support\n",
      "\n",
      "           0       1.00      1.00      1.00      5567\n",
      "           1       1.00      1.00      1.00      1433\n",
      "\n",
      "    accuracy                           1.00      7000\n",
      "   macro avg       1.00      1.00      1.00      7000\n",
      "weighted avg       1.00      1.00      1.00      7000\n",
      "\n",
      "Classification report for the test data \n",
      "               precision    recall  f1-score   support\n",
      "\n",
      "           0       0.87      0.86      0.86      2396\n",
      "           1       0.46      0.49      0.48       604\n",
      "\n",
      "    accuracy                           0.78      3000\n",
      "   macro avg       0.67      0.67      0.67      3000\n",
      "weighted avg       0.79      0.78      0.78      3000\n",
      "\n",
      "Confusion matrix for the train data- \n",
      " [[5567    0]\n",
      " [   0 1433]]\n",
      "\n",
      "Confusion matrix for the test data- \n",
      " [[2049  347]\n",
      " [ 306  298]]\n"
     ]
    }
   ],
   "source": [
    "dt_model = DecisionTreeClassifier()\n",
    "dt_model.fit(X_train,y_train)\n",
    "y_dt_train_predicted = dt_model.predict(X_train)\n",
    "y_dt_test_predicted = dt_model.predict(X_test)\n",
    "print('Decision Tree Score is ',dt_model.score(X_train, y_train))\n",
    "dt_score=gnb_score=get_metrics_score(dt_model, X_train, X_test, y_train, y_test)\n",
    "\n",
    "# summarize the fit of the model\n",
    "print('Classification report for the training data \\n',classification_report(y_train, y_dt_train_predicted))\n",
    "print('Classification report for the test data \\n',classification_report(y_test, y_dt_test_predicted))\n",
    "print('Confusion matrix for the train data- \\n',confusion_matrix(y_train, y_dt_train_predicted))\n",
    "print('\\nConfusion matrix for the test data- \\n',confusion_matrix(y_test, y_dt_test_predicted))"
   ]
  },
  {
   "cell_type": "markdown",
   "id": "123353b6",
   "metadata": {},
   "source": [
    "## 5. GridSearch on Decision Tree Classifier"
   ]
  },
  {
   "cell_type": "code",
   "execution_count": 16,
   "id": "65accc1e",
   "metadata": {},
   "outputs": [
    {
     "name": "stdout",
     "output_type": "stream",
     "text": [
      "Fitting 5 folds for each of 420 candidates, totalling 2100 fits\n"
     ]
    },
    {
     "data": {
      "text/html": [
       "<style>#sk-container-id-1 {color: black;background-color: white;}#sk-container-id-1 pre{padding: 0;}#sk-container-id-1 div.sk-toggleable {background-color: white;}#sk-container-id-1 label.sk-toggleable__label {cursor: pointer;display: block;width: 100%;margin-bottom: 0;padding: 0.3em;box-sizing: border-box;text-align: center;}#sk-container-id-1 label.sk-toggleable__label-arrow:before {content: \"▸\";float: left;margin-right: 0.25em;color: #696969;}#sk-container-id-1 label.sk-toggleable__label-arrow:hover:before {color: black;}#sk-container-id-1 div.sk-estimator:hover label.sk-toggleable__label-arrow:before {color: black;}#sk-container-id-1 div.sk-toggleable__content {max-height: 0;max-width: 0;overflow: hidden;text-align: left;background-color: #f0f8ff;}#sk-container-id-1 div.sk-toggleable__content pre {margin: 0.2em;color: black;border-radius: 0.25em;background-color: #f0f8ff;}#sk-container-id-1 input.sk-toggleable__control:checked~div.sk-toggleable__content {max-height: 200px;max-width: 100%;overflow: auto;}#sk-container-id-1 input.sk-toggleable__control:checked~label.sk-toggleable__label-arrow:before {content: \"▾\";}#sk-container-id-1 div.sk-estimator input.sk-toggleable__control:checked~label.sk-toggleable__label {background-color: #d4ebff;}#sk-container-id-1 div.sk-label input.sk-toggleable__control:checked~label.sk-toggleable__label {background-color: #d4ebff;}#sk-container-id-1 input.sk-hidden--visually {border: 0;clip: rect(1px 1px 1px 1px);clip: rect(1px, 1px, 1px, 1px);height: 1px;margin: -1px;overflow: hidden;padding: 0;position: absolute;width: 1px;}#sk-container-id-1 div.sk-estimator {font-family: monospace;background-color: #f0f8ff;border: 1px dotted black;border-radius: 0.25em;box-sizing: border-box;margin-bottom: 0.5em;}#sk-container-id-1 div.sk-estimator:hover {background-color: #d4ebff;}#sk-container-id-1 div.sk-parallel-item::after {content: \"\";width: 100%;border-bottom: 1px solid gray;flex-grow: 1;}#sk-container-id-1 div.sk-label:hover label.sk-toggleable__label {background-color: #d4ebff;}#sk-container-id-1 div.sk-serial::before {content: \"\";position: absolute;border-left: 1px solid gray;box-sizing: border-box;top: 0;bottom: 0;left: 50%;z-index: 0;}#sk-container-id-1 div.sk-serial {display: flex;flex-direction: column;align-items: center;background-color: white;padding-right: 0.2em;padding-left: 0.2em;position: relative;}#sk-container-id-1 div.sk-item {position: relative;z-index: 1;}#sk-container-id-1 div.sk-parallel {display: flex;align-items: stretch;justify-content: center;background-color: white;position: relative;}#sk-container-id-1 div.sk-item::before, #sk-container-id-1 div.sk-parallel-item::before {content: \"\";position: absolute;border-left: 1px solid gray;box-sizing: border-box;top: 0;bottom: 0;left: 50%;z-index: -1;}#sk-container-id-1 div.sk-parallel-item {display: flex;flex-direction: column;z-index: 1;position: relative;background-color: white;}#sk-container-id-1 div.sk-parallel-item:first-child::after {align-self: flex-end;width: 50%;}#sk-container-id-1 div.sk-parallel-item:last-child::after {align-self: flex-start;width: 50%;}#sk-container-id-1 div.sk-parallel-item:only-child::after {width: 0;}#sk-container-id-1 div.sk-dashed-wrapped {border: 1px dashed gray;margin: 0 0.4em 0.5em 0.4em;box-sizing: border-box;padding-bottom: 0.4em;background-color: white;}#sk-container-id-1 div.sk-label label {font-family: monospace;font-weight: bold;display: inline-block;line-height: 1.2em;}#sk-container-id-1 div.sk-label-container {text-align: center;}#sk-container-id-1 div.sk-container {/* jupyter's `normalize.less` sets `[hidden] { display: none; }` but bootstrap.min.css set `[hidden] { display: none !important; }` so we also need the `!important` here to be able to override the default hidden behavior on the sphinx rendered scikit-learn.org. See: https://github.com/scikit-learn/scikit-learn/issues/21755 */display: inline-block !important;position: relative;}#sk-container-id-1 div.sk-text-repr-fallback {display: none;}</style><div id=\"sk-container-id-1\" class=\"sk-top-container\"><div class=\"sk-text-repr-fallback\"><pre>GridSearchCV(cv=5, estimator=DecisionTreeClassifier(), n_jobs=-1,\n",
       "             param_grid={&#x27;criterion&#x27;: [&#x27;gini&#x27;, &#x27;entropy&#x27;],\n",
       "                         &#x27;max_depth&#x27;: [10, 15, 20, 25, 30],\n",
       "                         &#x27;min_samples_leaf&#x27;: [9, 12, 15, 18, 21, 24],\n",
       "                         &#x27;min_samples_split&#x27;: [3, 6, 9, 12, 15, 30, 35]},\n",
       "             verbose=True)</pre><b>In a Jupyter environment, please rerun this cell to show the HTML representation or trust the notebook. <br />On GitHub, the HTML representation is unable to render, please try loading this page with nbviewer.org.</b></div><div class=\"sk-container\" hidden><div class=\"sk-item sk-dashed-wrapped\"><div class=\"sk-label-container\"><div class=\"sk-label sk-toggleable\"><input class=\"sk-toggleable__control sk-hidden--visually\" id=\"sk-estimator-id-1\" type=\"checkbox\" ><label for=\"sk-estimator-id-1\" class=\"sk-toggleable__label sk-toggleable__label-arrow\">GridSearchCV</label><div class=\"sk-toggleable__content\"><pre>GridSearchCV(cv=5, estimator=DecisionTreeClassifier(), n_jobs=-1,\n",
       "             param_grid={&#x27;criterion&#x27;: [&#x27;gini&#x27;, &#x27;entropy&#x27;],\n",
       "                         &#x27;max_depth&#x27;: [10, 15, 20, 25, 30],\n",
       "                         &#x27;min_samples_leaf&#x27;: [9, 12, 15, 18, 21, 24],\n",
       "                         &#x27;min_samples_split&#x27;: [3, 6, 9, 12, 15, 30, 35]},\n",
       "             verbose=True)</pre></div></div></div><div class=\"sk-parallel\"><div class=\"sk-parallel-item\"><div class=\"sk-item\"><div class=\"sk-label-container\"><div class=\"sk-label sk-toggleable\"><input class=\"sk-toggleable__control sk-hidden--visually\" id=\"sk-estimator-id-2\" type=\"checkbox\" ><label for=\"sk-estimator-id-2\" class=\"sk-toggleable__label sk-toggleable__label-arrow\">estimator: DecisionTreeClassifier</label><div class=\"sk-toggleable__content\"><pre>DecisionTreeClassifier()</pre></div></div></div><div class=\"sk-serial\"><div class=\"sk-item\"><div class=\"sk-estimator sk-toggleable\"><input class=\"sk-toggleable__control sk-hidden--visually\" id=\"sk-estimator-id-3\" type=\"checkbox\" ><label for=\"sk-estimator-id-3\" class=\"sk-toggleable__label sk-toggleable__label-arrow\">DecisionTreeClassifier</label><div class=\"sk-toggleable__content\"><pre>DecisionTreeClassifier()</pre></div></div></div></div></div></div></div></div></div></div>"
      ],
      "text/plain": [
       "GridSearchCV(cv=5, estimator=DecisionTreeClassifier(), n_jobs=-1,\n",
       "             param_grid={'criterion': ['gini', 'entropy'],\n",
       "                         'max_depth': [10, 15, 20, 25, 30],\n",
       "                         'min_samples_leaf': [9, 12, 15, 18, 21, 24],\n",
       "                         'min_samples_split': [3, 6, 9, 12, 15, 30, 35]},\n",
       "             verbose=True)"
      ]
     },
     "execution_count": 16,
     "metadata": {},
     "output_type": "execute_result"
    }
   ],
   "source": [
    "param_grid = {\n",
    "        'max_depth' : [10,15,20,25,30], # maximum number of levels allowed in each decision tree\n",
    "        'min_samples_split' : [3,6,9,12,15,30,35], # minimum sample number to split a node\n",
    "        'min_samples_leaf' : [9,12,15,18,21,24],\n",
    "        'criterion' :['gini', 'entropy']\n",
    "    \n",
    "}\n",
    "\n",
    "dt_tuned = DecisionTreeClassifier()\n",
    "\n",
    "gs_dt = GridSearchCV(estimator = dt_tuned, \n",
    "                      param_grid = param_grid, \n",
    "                      cv = 5,\n",
    "                      verbose = True,\n",
    "                      n_jobs= -1\n",
    "                      )\n",
    "\n",
    "gs_dt.fit(X_train, y_train)"
   ]
  },
  {
   "cell_type": "code",
   "execution_count": 17,
   "id": "48cdfb03",
   "metadata": {},
   "outputs": [
    {
     "name": "stdout",
     "output_type": "stream",
     "text": [
      "Best Params are- {'criterion': 'entropy', 'max_depth': 10, 'min_samples_leaf': 24, 'min_samples_split': 30}\n",
      "\n",
      "\n",
      "Best Score is- 0.8487142857142856\n",
      "Accuracy on training set :  0.8702857142857143\n",
      "Accuracy on test set :  0.854\n",
      "Recall on training set :  0.48499651081646894\n",
      "Recall on test set :  0.43211920529801323\n",
      "Precision on training set :  0.8034682080924855\n",
      "Precision on test set :  0.7331460674157303\n",
      "F1-Score on training set :  0.6048738033072237\n",
      "F1-Score on test set :  0.54375\n"
     ]
    }
   ],
   "source": [
    "print('Best Params are-', gs_dt.best_params_)\n",
    "print('\\n\\nBest Score is-',gs_dt.best_score_)\n",
    "\n",
    "# Set the clf to the best combination of parameters\n",
    "gs_dt_tuned = gs_dt.best_estimator_\n",
    "\n",
    "gs_dt_tuned.fit(X_train, y_train)\n",
    "\n",
    "y_gs_dt_train_predicted = gs_dt_tuned.predict(X_train)\n",
    "\n",
    "y_gs_dt_test_predicted = gs_dt_tuned.predict(X_test)\n",
    "\n",
    "dt_score=get_metrics_score(gs_dt_tuned,X_train, X_test, y_train, y_test)"
   ]
  },
  {
   "cell_type": "code",
   "execution_count": 18,
   "id": "f3eff446",
   "metadata": {},
   "outputs": [
    {
     "data": {
      "text/plain": [
       "Text(0.5, 0, 'Decision Tree Feature Importance')"
      ]
     },
     "execution_count": 18,
     "metadata": {},
     "output_type": "execute_result"
    },
    {
     "data": {
      "image/png": "[encoded data removed]",
      "text/plain": [
       "<Figure size 640x480 with 1 Axes>"
      ]
     },
     "metadata": {},
     "output_type": "display_data"
    }
   ],
   "source": [
    "sorted_idx = gs_dt_tuned.feature_importances_.argsort()\n",
    "plt.barh(X_train.columns,gs_dt_tuned.feature_importances_[sorted_idx])\n",
    "plt.xlabel(\"Decision Tree Feature Importance\")"
   ]
  },
  {
   "cell_type": "markdown",
   "id": "7ef04c61",
   "metadata": {},
   "source": [
    "## 6. Random Forest Ensemble Technique"
   ]
  },
  {
   "cell_type": "code",
   "execution_count": 19,
   "id": "ff76281e",
   "metadata": {},
   "outputs": [
    {
     "name": "stdout",
     "output_type": "stream",
     "text": [
      "Accuracy on training set :  0.8658571428571429\n",
      "Accuracy on test set :  0.8593333333333333\n",
      "Recall on training set :  0.43475226796929517\n",
      "Recall on test set :  0.40397350993377484\n",
      "Precision on training set :  0.8284574468085106\n",
      "Precision on test set :  0.7973856209150327\n",
      "F1-Score on training set :  0.5702517162471396\n",
      "F1-Score on test set :  0.5362637362637362\n",
      "\n",
      "\n",
      "Classification report for the training data \n",
      "               precision    recall  f1-score   support\n",
      "\n",
      "           0       0.87      0.98      0.92      5567\n",
      "           1       0.83      0.43      0.57      1433\n",
      "\n",
      "    accuracy                           0.87      7000\n",
      "   macro avg       0.85      0.71      0.75      7000\n",
      "weighted avg       0.86      0.87      0.85      7000\n",
      "\n",
      "Classification report for the test data \n",
      "               precision    recall  f1-score   support\n",
      "\n",
      "           0       0.87      0.97      0.92      2396\n",
      "           1       0.80      0.40      0.54       604\n",
      "\n",
      "    accuracy                           0.86      3000\n",
      "   macro avg       0.83      0.69      0.73      3000\n",
      "weighted avg       0.85      0.86      0.84      3000\n",
      "\n",
      "Confusion matrix for the train data- \n",
      " [[5438  129]\n",
      " [ 810  623]]\n",
      "\n",
      "Confusion matrix for the test data- \n",
      " [[2334   62]\n",
      " [ 360  244]]\n"
     ]
    }
   ],
   "source": [
    "RF_model=RandomForestClassifier(max_depth=7,max_features=5,min_samples_leaf=10,min_samples_split=25,n_estimators=40,\n",
    "                                random_state=1)\n",
    "RF_model.fit(X_train, y_train)\n",
    "\n",
    "y_rf_train_predicted = RF_model.predict(X_train)\n",
    "y_rf_test_predicted = RF_model.predict(X_test)\n",
    "rf_score=get_metrics_score(RF_model,X_train, X_test, y_train, y_test)\n",
    "\n",
    "# summarize the fit of the model\n",
    "print('\\n\\nClassification report for the training data \\n',classification_report(y_train, y_rf_train_predicted))\n",
    "print('Classification report for the test data \\n',classification_report(y_test, y_rf_test_predicted))\n",
    "print('Confusion matrix for the train data- \\n',confusion_matrix(y_train, y_rf_train_predicted))\n",
    "print('\\nConfusion matrix for the test data- \\n',confusion_matrix(y_test, y_rf_test_predicted))"
   ]
  },
  {
   "cell_type": "markdown",
   "id": "2056570c",
   "metadata": {},
   "source": [
    "## 7. RandomForest Tuned"
   ]
  },
  {
   "cell_type": "code",
   "execution_count": 20,
   "id": "d0ee655b",
   "metadata": {},
   "outputs": [
    {
     "name": "stdout",
     "output_type": "stream",
     "text": [
      "Fitting 3 folds for each of 768 candidates, totalling 2304 fits\n"
     ]
    },
    {
     "data": {
      "text/html": [
       "<style>#sk-container-id-2 {color: black;background-color: white;}#sk-container-id-2 pre{padding: 0;}#sk-container-id-2 div.sk-toggleable {background-color: white;}#sk-container-id-2 label.sk-toggleable__label {cursor: pointer;display: block;width: 100%;margin-bottom: 0;padding: 0.3em;box-sizing: border-box;text-align: center;}#sk-container-id-2 label.sk-toggleable__label-arrow:before {content: \"▸\";float: left;margin-right: 0.25em;color: #696969;}#sk-container-id-2 label.sk-toggleable__label-arrow:hover:before {color: black;}#sk-container-id-2 div.sk-estimator:hover label.sk-toggleable__label-arrow:before {color: black;}#sk-container-id-2 div.sk-toggleable__content {max-height: 0;max-width: 0;overflow: hidden;text-align: left;background-color: #f0f8ff;}#sk-container-id-2 div.sk-toggleable__content pre {margin: 0.2em;color: black;border-radius: 0.25em;background-color: #f0f8ff;}#sk-container-id-2 input.sk-toggleable__control:checked~div.sk-toggleable__content {max-height: 200px;max-width: 100%;overflow: auto;}#sk-container-id-2 input.sk-toggleable__control:checked~label.sk-toggleable__label-arrow:before {content: \"▾\";}#sk-container-id-2 div.sk-estimator input.sk-toggleable__control:checked~label.sk-toggleable__label {background-color: #d4ebff;}#sk-container-id-2 div.sk-label input.sk-toggleable__control:checked~label.sk-toggleable__label {background-color: #d4ebff;}#sk-container-id-2 input.sk-hidden--visually {border: 0;clip: rect(1px 1px 1px 1px);clip: rect(1px, 1px, 1px, 1px);height: 1px;margin: -1px;overflow: hidden;padding: 0;position: absolute;width: 1px;}#sk-container-id-2 div.sk-estimator {font-family: monospace;background-color: #f0f8ff;border: 1px dotted black;border-radius: 0.25em;box-sizing: border-box;margin-bottom: 0.5em;}#sk-container-id-2 div.sk-estimator:hover {background-color: #d4ebff;}#sk-container-id-2 div.sk-parallel-item::after {content: \"\";width: 100%;border-bottom: 1px solid gray;flex-grow: 1;}#sk-container-id-2 div.sk-label:hover label.sk-toggleable__label {background-color: #d4ebff;}#sk-container-id-2 div.sk-serial::before {content: \"\";position: absolute;border-left: 1px solid gray;box-sizing: border-box;top: 0;bottom: 0;left: 50%;z-index: 0;}#sk-container-id-2 div.sk-serial {display: flex;flex-direction: column;align-items: center;background-color: white;padding-right: 0.2em;padding-left: 0.2em;position: relative;}#sk-container-id-2 div.sk-item {position: relative;z-index: 1;}#sk-container-id-2 div.sk-parallel {display: flex;align-items: stretch;justify-content: center;background-color: white;position: relative;}#sk-container-id-2 div.sk-item::before, #sk-container-id-2 div.sk-parallel-item::before {content: \"\";position: absolute;border-left: 1px solid gray;box-sizing: border-box;top: 0;bottom: 0;left: 50%;z-index: -1;}#sk-container-id-2 div.sk-parallel-item {display: flex;flex-direction: column;z-index: 1;position: relative;background-color: white;}#sk-container-id-2 div.sk-parallel-item:first-child::after {align-self: flex-end;width: 50%;}#sk-container-id-2 div.sk-parallel-item:last-child::after {align-self: flex-start;width: 50%;}#sk-container-id-2 div.sk-parallel-item:only-child::after {width: 0;}#sk-container-id-2 div.sk-dashed-wrapped {border: 1px dashed gray;margin: 0 0.4em 0.5em 0.4em;box-sizing: border-box;padding-bottom: 0.4em;background-color: white;}#sk-container-id-2 div.sk-label label {font-family: monospace;font-weight: bold;display: inline-block;line-height: 1.2em;}#sk-container-id-2 div.sk-label-container {text-align: center;}#sk-container-id-2 div.sk-container {/* jupyter's `normalize.less` sets `[hidden] { display: none; }` but bootstrap.min.css set `[hidden] { display: none !important; }` so we also need the `!important` here to be able to override the default hidden behavior on the sphinx rendered scikit-learn.org. See: https://github.com/scikit-learn/scikit-learn/issues/21755 */display: inline-block !important;position: relative;}#sk-container-id-2 div.sk-text-repr-fallback {display: none;}</style><div id=\"sk-container-id-2\" class=\"sk-top-container\"><div class=\"sk-text-repr-fallback\"><pre>GridSearchCV(cv=3, estimator=RandomForestClassifier(random_state=123),\n",
       "             n_jobs=-1,\n",
       "             param_grid={&#x27;max_depth&#x27;: [5, 7, 10, 15],\n",
       "                         &#x27;max_features&#x27;: [3, 5, 7, 9],\n",
       "                         &#x27;min_samples_leaf&#x27;: [10, 12, 15, 18],\n",
       "                         &#x27;min_samples_split&#x27;: [3, 6, 9, 12],\n",
       "                         &#x27;n_estimators&#x27;: [25, 30, 35]},\n",
       "             verbose=True)</pre><b>In a Jupyter environment, please rerun this cell to show the HTML representation or trust the notebook. <br />On GitHub, the HTML representation is unable to render, please try loading this page with nbviewer.org.</b></div><div class=\"sk-container\" hidden><div class=\"sk-item sk-dashed-wrapped\"><div class=\"sk-label-container\"><div class=\"sk-label sk-toggleable\"><input class=\"sk-toggleable__control sk-hidden--visually\" id=\"sk-estimator-id-4\" type=\"checkbox\" ><label for=\"sk-estimator-id-4\" class=\"sk-toggleable__label sk-toggleable__label-arrow\">GridSearchCV</label><div class=\"sk-toggleable__content\"><pre>GridSearchCV(cv=3, estimator=RandomForestClassifier(random_state=123),\n",
       "             n_jobs=-1,\n",
       "             param_grid={&#x27;max_depth&#x27;: [5, 7, 10, 15],\n",
       "                         &#x27;max_features&#x27;: [3, 5, 7, 9],\n",
       "                         &#x27;min_samples_leaf&#x27;: [10, 12, 15, 18],\n",
       "                         &#x27;min_samples_split&#x27;: [3, 6, 9, 12],\n",
       "                         &#x27;n_estimators&#x27;: [25, 30, 35]},\n",
       "             verbose=True)</pre></div></div></div><div class=\"sk-parallel\"><div class=\"sk-parallel-item\"><div class=\"sk-item\"><div class=\"sk-label-container\"><div class=\"sk-label sk-toggleable\"><input class=\"sk-toggleable__control sk-hidden--visually\" id=\"sk-estimator-id-5\" type=\"checkbox\" ><label for=\"sk-estimator-id-5\" class=\"sk-toggleable__label sk-toggleable__label-arrow\">estimator: RandomForestClassifier</label><div class=\"sk-toggleable__content\"><pre>RandomForestClassifier(random_state=123)</pre></div></div></div><div class=\"sk-serial\"><div class=\"sk-item\"><div class=\"sk-estimator sk-toggleable\"><input class=\"sk-toggleable__control sk-hidden--visually\" id=\"sk-estimator-id-6\" type=\"checkbox\" ><label for=\"sk-estimator-id-6\" class=\"sk-toggleable__label sk-toggleable__label-arrow\">RandomForestClassifier</label><div class=\"sk-toggleable__content\"><pre>RandomForestClassifier(random_state=123)</pre></div></div></div></div></div></div></div></div></div></div>"
      ],
      "text/plain": [
       "GridSearchCV(cv=3, estimator=RandomForestClassifier(random_state=123),\n",
       "             n_jobs=-1,\n",
       "             param_grid={'max_depth': [5, 7, 10, 15],\n",
       "                         'max_features': [3, 5, 7, 9],\n",
       "                         'min_samples_leaf': [10, 12, 15, 18],\n",
       "                         'min_samples_split': [3, 6, 9, 12],\n",
       "                         'n_estimators': [25, 30, 35]},\n",
       "             verbose=True)"
      ]
     },
     "execution_count": 20,
     "metadata": {},
     "output_type": "execute_result"
    }
   ],
   "source": [
    "param_grid = {\n",
    "        #'max_depth': [5,7,9,11,13],\n",
    "        'max_features': [3,5,7,9],\n",
    "        'n_estimators': [25,30,35], # number of trees in the random forest\n",
    "        'max_depth' : [5,7,10,15], # maximum number of levels allowed in each decision tree\n",
    "        'min_samples_split' : [3,6,9,12], #,15,20,25,30, # minimum sample number to split a node\n",
    "        'min_samples_leaf' : [10,12,15,18] # minimum sample number that can be stored in a leaf node\n",
    "}\n",
    "\n",
    "rf_tuned = RandomForestClassifier(random_state=123)\n",
    "\n",
    "gs_rf = GridSearchCV(estimator = rf_tuned, \n",
    "                      param_grid = param_grid, \n",
    "                      cv = 3,\n",
    "                      verbose = True,\n",
    "                      n_jobs= -1\n",
    "                      )\n",
    "\n",
    "gs_rf.fit(X_train, y_train)"
   ]
  },
  {
   "cell_type": "code",
   "execution_count": 21,
   "id": "7af0b7db",
   "metadata": {},
   "outputs": [
    {
     "name": "stdout",
     "output_type": "stream",
     "text": [
      "Best Params are- {'max_depth': 15, 'max_features': 5, 'min_samples_leaf': 12, 'min_samples_split': 3, 'n_estimators': 30}\n",
      "\n",
      "\n",
      "Best Score is- 0.8617136883185541\n",
      "\n",
      "Classification report for the training data \n",
      "               precision    recall  f1-score   support\n",
      "\n",
      "           0       0.89      0.98      0.93      5567\n",
      "           1       0.86      0.51      0.64      1433\n",
      "\n",
      "    accuracy                           0.88      7000\n",
      "   macro avg       0.88      0.75      0.79      7000\n",
      "weighted avg       0.88      0.88      0.87      7000\n",
      "\n",
      "Classification report for the test data \n",
      "               precision    recall  f1-score   support\n",
      "\n",
      "           0       0.87      0.97      0.92      2396\n",
      "           1       0.77      0.44      0.56       604\n",
      "\n",
      "    accuracy                           0.86      3000\n",
      "   macro avg       0.82      0.70      0.74      3000\n",
      "weighted avg       0.85      0.86      0.84      3000\n",
      "\n",
      "Confusion matrix for the train data- \n",
      " [[5452  115]\n",
      " [ 700  733]]\n",
      "\n",
      "Confusion matrix for the test data- \n",
      " [[2318   78]\n",
      " [ 341  263]]\n"
     ]
    }
   ],
   "source": [
    "print('Best Params are-', gs_rf.best_params_)\n",
    "print('\\n\\nBest Score is-',gs_rf.best_score_)\n",
    "\n",
    "# Set the clf to the best combination of parameters\n",
    "gs_rf_tuned = gs_rf.best_estimator_\n",
    "\n",
    "gs_rf_tuned.fit(X_train, y_train)\n",
    "\n",
    "y_gs_rf_train_predicted = gs_rf_tuned.predict(X_train)\n",
    "y_gs_rf_test_predicted = gs_rf_tuned.predict(X_test)\n",
    "\n",
    "# summarize the fit of the model\n",
    "print('\\nClassification report for the training data \\n',classification_report(y_train, y_gs_rf_train_predicted))\n",
    "print('Classification report for the test data \\n',classification_report(y_test, y_gs_rf_test_predicted))\n",
    "print('Confusion matrix for the train data- \\n',confusion_matrix(y_train, y_gs_rf_train_predicted))\n",
    "print('\\nConfusion matrix for the test data- \\n',confusion_matrix(y_test, y_gs_rf_test_predicted))"
   ]
  },
  {
   "cell_type": "code",
   "execution_count": 22,
   "id": "be336da5",
   "metadata": {},
   "outputs": [
    {
     "data": {
      "text/plain": [
       "Text(0.5, 0, 'Random Forest Feature Importance')"
      ]
     },
     "execution_count": 22,
     "metadata": {},
     "output_type": "execute_result"
    },
    {
     "data": {
      "image/png": "[encoded data removed]",
      "text/plain": [
       "<Figure size 640x480 with 1 Axes>"
      ]
     },
     "metadata": {},
     "output_type": "display_data"
    }
   ],
   "source": [
    "sorted_idx = gs_rf_tuned.feature_importances_.argsort()\n",
    "plt.barh(X_train.columns,gs_rf_tuned.feature_importances_[sorted_idx])\n",
    "plt.xlabel(\"Random Forest Feature Importance\")"
   ]
  },
  {
   "cell_type": "markdown",
   "id": "2a01587d",
   "metadata": {},
   "source": [
    "## 8. Gradient Boosting"
   ]
  },
  {
   "cell_type": "code",
   "execution_count": 23,
   "id": "8ef249fa",
   "metadata": {},
   "outputs": [
    {
     "name": "stdout",
     "output_type": "stream",
     "text": [
      "Accuracy on training set :  0.8741428571428571\n",
      "Accuracy on test set :  0.8633333333333333\n",
      "Recall on training set :  0.4961618981158409\n",
      "Recall on test set :  0.445364238410596\n",
      "Precision on training set :  0.8172413793103448\n",
      "Precision on test set :  0.7819767441860465\n",
      "F1-Score on training set :  0.617455492835432\n",
      "F1-Score on test set :  0.5675105485232067\n",
      "Classification Report for Training Data- \n",
      "               precision    recall  f1-score   support\n",
      "\n",
      "           0       0.88      0.97      0.92      5567\n",
      "           1       0.82      0.50      0.62      1433\n",
      "\n",
      "    accuracy                           0.87      7000\n",
      "   macro avg       0.85      0.73      0.77      7000\n",
      "weighted avg       0.87      0.87      0.86      7000\n",
      "\n",
      "Classification Report for Test Data- \n",
      "               precision    recall  f1-score   support\n",
      "\n",
      "           0       0.87      0.97      0.92      2396\n",
      "           1       0.78      0.45      0.57       604\n",
      "\n",
      "    accuracy                           0.86      3000\n",
      "   macro avg       0.83      0.71      0.74      3000\n",
      "weighted avg       0.86      0.86      0.85      3000\n",
      "\n",
      "Confusion Matrix for Training Data- \n",
      " [[5408  159]\n",
      " [ 722  711]]\n",
      "\n",
      "Confusion Matrix for Test Data - \n",
      " [[2321   75]\n",
      " [ 335  269]]\n"
     ]
    }
   ],
   "source": [
    "gbc_model = GradientBoostingClassifier(random_state=1)\n",
    "gbc_model.fit(X_train,y_train)\n",
    "# make predictions for train data\n",
    "y_gbc_train_predicted = gbc_model.predict(X_train)\n",
    "\n",
    "# make predictions for test data\n",
    "y_gbc_test_predicted = gbc_model.predict(X_test)\n",
    "gbc_score=get_metrics_score(gbc_model,X_train, X_test, y_train, y_test)\n",
    "\n",
    "# summarize the fit of the model\n",
    "print('Classification Report for Training Data- \\n',classification_report(y_train, y_gbc_train_predicted))\n",
    "print('Classification Report for Test Data- \\n',classification_report(y_test, y_gbc_test_predicted))\n",
    "print('Confusion Matrix for Training Data- \\n',confusion_matrix(y_train, y_gbc_train_predicted))\n",
    "print('\\nConfusion Matrix for Test Data - \\n',confusion_matrix(y_test, y_gbc_test_predicted))"
   ]
  },
  {
   "cell_type": "markdown",
   "id": "aa7d52b2",
   "metadata": {},
   "source": [
    "## 9. Gradient Boosting Tuned"
   ]
  },
  {
   "cell_type": "code",
   "execution_count": 24,
   "id": "08df51b5",
   "metadata": {},
   "outputs": [
    {
     "name": "stdout",
     "output_type": "stream",
     "text": [
      "Fitting 3 folds for each of 480 candidates, totalling 1440 fits\n"
     ]
    },
    {
     "data": {
      "text/html": [
       "<style>#sk-container-id-3 {color: black;background-color: white;}#sk-container-id-3 pre{padding: 0;}#sk-container-id-3 div.sk-toggleable {background-color: white;}#sk-container-id-3 label.sk-toggleable__label {cursor: pointer;display: block;width: 100%;margin-bottom: 0;padding: 0.3em;box-sizing: border-box;text-align: center;}#sk-container-id-3 label.sk-toggleable__label-arrow:before {content: \"▸\";float: left;margin-right: 0.25em;color: #696969;}#sk-container-id-3 label.sk-toggleable__label-arrow:hover:before {color: black;}#sk-container-id-3 div.sk-estimator:hover label.sk-toggleable__label-arrow:before {color: black;}#sk-container-id-3 div.sk-toggleable__content {max-height: 0;max-width: 0;overflow: hidden;text-align: left;background-color: #f0f8ff;}#sk-container-id-3 div.sk-toggleable__content pre {margin: 0.2em;color: black;border-radius: 0.25em;background-color: #f0f8ff;}#sk-container-id-3 input.sk-toggleable__control:checked~div.sk-toggleable__content {max-height: 200px;max-width: 100%;overflow: auto;}#sk-container-id-3 input.sk-toggleable__control:checked~label.sk-toggleable__label-arrow:before {content: \"▾\";}#sk-container-id-3 div.sk-estimator input.sk-toggleable__control:checked~label.sk-toggleable__label {background-color: #d4ebff;}#sk-container-id-3 div.sk-label input.sk-toggleable__control:checked~label.sk-toggleable__label {background-color: #d4ebff;}#sk-container-id-3 input.sk-hidden--visually {border: 0;clip: rect(1px 1px 1px 1px);clip: rect(1px, 1px, 1px, 1px);height: 1px;margin: -1px;overflow: hidden;padding: 0;position: absolute;width: 1px;}#sk-container-id-3 div.sk-estimator {font-family: monospace;background-color: #f0f8ff;border: 1px dotted black;border-radius: 0.25em;box-sizing: border-box;margin-bottom: 0.5em;}#sk-container-id-3 div.sk-estimator:hover {background-color: #d4ebff;}#sk-container-id-3 div.sk-parallel-item::after {content: \"\";width: 100%;border-bottom: 1px solid gray;flex-grow: 1;}#sk-container-id-3 div.sk-label:hover label.sk-toggleable__label {background-color: #d4ebff;}#sk-container-id-3 div.sk-serial::before {content: \"\";position: absolute;border-left: 1px solid gray;box-sizing: border-box;top: 0;bottom: 0;left: 50%;z-index: 0;}#sk-container-id-3 div.sk-serial {display: flex;flex-direction: column;align-items: center;background-color: white;padding-right: 0.2em;padding-left: 0.2em;position: relative;}#sk-container-id-3 div.sk-item {position: relative;z-index: 1;}#sk-container-id-3 div.sk-parallel {display: flex;align-items: stretch;justify-content: center;background-color: white;position: relative;}#sk-container-id-3 div.sk-item::before, #sk-container-id-3 div.sk-parallel-item::before {content: \"\";position: absolute;border-left: 1px solid gray;box-sizing: border-box;top: 0;bottom: 0;left: 50%;z-index: -1;}#sk-container-id-3 div.sk-parallel-item {display: flex;flex-direction: column;z-index: 1;position: relative;background-color: white;}#sk-container-id-3 div.sk-parallel-item:first-child::after {align-self: flex-end;width: 50%;}#sk-container-id-3 div.sk-parallel-item:last-child::after {align-self: flex-start;width: 50%;}#sk-container-id-3 div.sk-parallel-item:only-child::after {width: 0;}#sk-container-id-3 div.sk-dashed-wrapped {border: 1px dashed gray;margin: 0 0.4em 0.5em 0.4em;box-sizing: border-box;padding-bottom: 0.4em;background-color: white;}#sk-container-id-3 div.sk-label label {font-family: monospace;font-weight: bold;display: inline-block;line-height: 1.2em;}#sk-container-id-3 div.sk-label-container {text-align: center;}#sk-container-id-3 div.sk-container {/* jupyter's `normalize.less` sets `[hidden] { display: none; }` but bootstrap.min.css set `[hidden] { display: none !important; }` so we also need the `!important` here to be able to override the default hidden behavior on the sphinx rendered scikit-learn.org. See: https://github.com/scikit-learn/scikit-learn/issues/21755 */display: inline-block !important;position: relative;}#sk-container-id-3 div.sk-text-repr-fallback {display: none;}</style><div id=\"sk-container-id-3\" class=\"sk-top-container\"><div class=\"sk-text-repr-fallback\"><pre>GridSearchCV(cv=3, estimator=GradientBoostingClassifier(random_state=1),\n",
       "             n_jobs=-1,\n",
       "             param_grid={&#x27;learning_rate&#x27;: [0.1],\n",
       "                         &#x27;max_depth&#x27;: [1, 2, 3, 4, 5, 10, 15, 20],\n",
       "                         &#x27;max_features&#x27;: [0.8],\n",
       "                         &#x27;min_samples_leaf&#x27;: [3, 6, 9, 12, 15],\n",
       "                         &#x27;min_samples_split&#x27;: [30, 35, 40, 45],\n",
       "                         &#x27;n_estimators&#x27;: [20, 30, 40], &#x27;subsample&#x27;: [0.9]},\n",
       "             return_train_score=True, verbose=1)</pre><b>In a Jupyter environment, please rerun this cell to show the HTML representation or trust the notebook. <br />On GitHub, the HTML representation is unable to render, please try loading this page with nbviewer.org.</b></div><div class=\"sk-container\" hidden><div class=\"sk-item sk-dashed-wrapped\"><div class=\"sk-label-container\"><div class=\"sk-label sk-toggleable\"><input class=\"sk-toggleable__control sk-hidden--visually\" id=\"sk-estimator-id-7\" type=\"checkbox\" ><label for=\"sk-estimator-id-7\" class=\"sk-toggleable__label sk-toggleable__label-arrow\">GridSearchCV</label><div class=\"sk-toggleable__content\"><pre>GridSearchCV(cv=3, estimator=GradientBoostingClassifier(random_state=1),\n",
       "             n_jobs=-1,\n",
       "             param_grid={&#x27;learning_rate&#x27;: [0.1],\n",
       "                         &#x27;max_depth&#x27;: [1, 2, 3, 4, 5, 10, 15, 20],\n",
       "                         &#x27;max_features&#x27;: [0.8],\n",
       "                         &#x27;min_samples_leaf&#x27;: [3, 6, 9, 12, 15],\n",
       "                         &#x27;min_samples_split&#x27;: [30, 35, 40, 45],\n",
       "                         &#x27;n_estimators&#x27;: [20, 30, 40], &#x27;subsample&#x27;: [0.9]},\n",
       "             return_train_score=True, verbose=1)</pre></div></div></div><div class=\"sk-parallel\"><div class=\"sk-parallel-item\"><div class=\"sk-item\"><div class=\"sk-label-container\"><div class=\"sk-label sk-toggleable\"><input class=\"sk-toggleable__control sk-hidden--visually\" id=\"sk-estimator-id-8\" type=\"checkbox\" ><label for=\"sk-estimator-id-8\" class=\"sk-toggleable__label sk-toggleable__label-arrow\">estimator: GradientBoostingClassifier</label><div class=\"sk-toggleable__content\"><pre>GradientBoostingClassifier(random_state=1)</pre></div></div></div><div class=\"sk-serial\"><div class=\"sk-item\"><div class=\"sk-estimator sk-toggleable\"><input class=\"sk-toggleable__control sk-hidden--visually\" id=\"sk-estimator-id-9\" type=\"checkbox\" ><label for=\"sk-estimator-id-9\" class=\"sk-toggleable__label sk-toggleable__label-arrow\">GradientBoostingClassifier</label><div class=\"sk-toggleable__content\"><pre>GradientBoostingClassifier(random_state=1)</pre></div></div></div></div></div></div></div></div></div></div>"
      ],
      "text/plain": [
       "GridSearchCV(cv=3, estimator=GradientBoostingClassifier(random_state=1),\n",
       "             n_jobs=-1,\n",
       "             param_grid={'learning_rate': [0.1],\n",
       "                         'max_depth': [1, 2, 3, 4, 5, 10, 15, 20],\n",
       "                         'max_features': [0.8],\n",
       "                         'min_samples_leaf': [3, 6, 9, 12, 15],\n",
       "                         'min_samples_split': [30, 35, 40, 45],\n",
       "                         'n_estimators': [20, 30, 40], 'subsample': [0.9]},\n",
       "             return_train_score=True, verbose=1)"
      ]
     },
     "execution_count": 24,
     "metadata": {},
     "output_type": "execute_result"
    }
   ],
   "source": [
    "# Choose the type of classifier. \n",
    "gbc_tuned = GradientBoostingClassifier(random_state=1)\n",
    "\n",
    "# Grid of parameters to choose from article\n",
    "param_grid = {\n",
    "    \"n_estimators\": [20,30,40],\n",
    "    \"subsample\":[0.9],\n",
    "    \"max_features\":[0.8],\n",
    "    \"learning_rate\": [0.1],\n",
    "    'max_depth' : [1,2,3,4,5,10,15,20], # maximum number of levels allowed in each decision tree\n",
    "    'min_samples_split' : [30,35,40,45], # minimum sample number to split a node\n",
    "    'min_samples_leaf' : [3,6,9,12,15]\n",
    "}\n",
    "\n",
    "\n",
    "gs_gbc = GridSearchCV(estimator = gbc_tuned, \n",
    "                      param_grid = param_grid, \n",
    "                      cv = 3,\n",
    "                      verbose = 1,\n",
    "                      return_train_score = True,\n",
    "                      n_jobs= -1\n",
    "                      )\n",
    "\n",
    "gs_gbc.fit(X_train, y_train)"
   ]
  },
  {
   "cell_type": "code",
   "execution_count": 25,
   "id": "d27a25a6",
   "metadata": {
    "scrolled": false
   },
   "outputs": [
    {
     "name": "stdout",
     "output_type": "stream",
     "text": [
      "Best Params are- {'learning_rate': 0.1, 'max_depth': 5, 'max_features': 0.8, 'min_samples_leaf': 3, 'min_samples_split': 40, 'n_estimators': 40, 'subsample': 0.9}\n",
      "\n",
      "\n",
      "Best Score is- 0.8635707904409896\n",
      "Classification report for the training data \n",
      "               precision    recall  f1-score   support\n",
      "\n",
      "           0       0.88      0.98      0.93      5567\n",
      "           1       0.84      0.50      0.63      1433\n",
      "\n",
      "    accuracy                           0.88      7000\n",
      "   macro avg       0.86      0.74      0.78      7000\n",
      "weighted avg       0.87      0.88      0.87      7000\n",
      "\n",
      "Classification report for the test data \n",
      "               precision    recall  f1-score   support\n",
      "\n",
      "           0       0.87      0.97      0.92      2396\n",
      "           1       0.79      0.43      0.56       604\n",
      "\n",
      "    accuracy                           0.86      3000\n",
      "   macro avg       0.83      0.70      0.74      3000\n",
      "weighted avg       0.86      0.86      0.85      3000\n",
      "\n",
      "Confusion matrix for the train data- \n",
      " [[5431  136]\n",
      " [ 717  716]]\n",
      "\n",
      "Confusion matrix for the test data- \n",
      " [[2327   69]\n",
      " [ 342  262]]\n"
     ]
    }
   ],
   "source": [
    "print('Best Params are-', gs_gbc.best_params_)\n",
    "print('\\n\\nBest Score is-',gs_gbc.best_score_)\n",
    "\n",
    "# Set the clf to the best combination of parameters\n",
    "gs_gbc_tuned = gs_gbc.best_estimator_\n",
    "gs_gbc_tuned.fit(X_train, y_train)\n",
    "\n",
    "y_gs_gbc_train_predicted = gs_gbc_tuned.predict(X_train)\n",
    "y_gs_gbc_test_predicted = gs_gbc_tuned.predict(X_test)\n",
    "\n",
    "# summarize the fit of the model\n",
    "print('Classification report for the training data \\n',classification_report(y_train, y_gs_gbc_train_predicted))\n",
    "print('Classification report for the test data \\n',classification_report(y_test, y_gs_gbc_test_predicted))\n",
    "print('Confusion matrix for the train data- \\n',confusion_matrix(y_train, y_gs_gbc_train_predicted))\n",
    "print('\\nConfusion matrix for the test data- \\n',confusion_matrix(y_test, y_gs_gbc_test_predicted))"
   ]
  },
  {
   "cell_type": "code",
   "execution_count": 26,
   "id": "47e0ea52",
   "metadata": {},
   "outputs": [
    {
     "data": {
      "text/plain": [
       "Text(0.5, 0, 'Gradient Boosting Feature Importance')"
      ]
     },
     "execution_count": 26,
     "metadata": {},
     "output_type": "execute_result"
    },
    {
     "data": {
      "image/png": "[encoded data removed]",
      "text/plain": [
       "<Figure size 640x480 with 1 Axes>"
      ]
     },
     "metadata": {},
     "output_type": "display_data"
    }
   ],
   "source": [
    "sorted_idx = gs_gbc_tuned.feature_importances_.argsort()\n",
    "plt.barh(X_train.columns,gs_gbc_tuned.feature_importances_[sorted_idx])\n",
    "plt.xlabel(\"Gradient Boosting Feature Importance\")"
   ]
  },
  {
   "cell_type": "markdown",
   "id": "baf0f7d2",
   "metadata": {},
   "source": [
    "## 10. Bagging Classifier"
   ]
  },
  {
   "cell_type": "code",
   "execution_count": 27,
   "id": "a00ba17e",
   "metadata": {},
   "outputs": [
    {
     "name": "stdout",
     "output_type": "stream",
     "text": [
      "Accuracy on training set :  0.9882857142857143\n",
      "Accuracy on test set :  0.853\n",
      "Recall on training set :  0.9462665736217725\n",
      "Recall on test set :  0.43543046357615894\n",
      "Precision on training set :  0.9963262307127112\n",
      "Precision on test set :  0.7245179063360881\n",
      "F1-Score on training set :  0.9706513958482461\n",
      "F1-Score on test set :  0.5439503619441571\n",
      "Classification Report for Training Data- \n",
      "               precision    recall  f1-score   support\n",
      "\n",
      "           0       0.99      1.00      0.99      5567\n",
      "           1       1.00      0.95      0.97      1433\n",
      "\n",
      "    accuracy                           0.99      7000\n",
      "   macro avg       0.99      0.97      0.98      7000\n",
      "weighted avg       0.99      0.99      0.99      7000\n",
      "\n",
      "Classification Report for Test Data- \n",
      "               precision    recall  f1-score   support\n",
      "\n",
      "           0       0.87      0.96      0.91      2396\n",
      "           1       0.72      0.44      0.54       604\n",
      "\n",
      "    accuracy                           0.85      3000\n",
      "   macro avg       0.80      0.70      0.73      3000\n",
      "weighted avg       0.84      0.85      0.84      3000\n",
      "\n",
      "Confusion Matrix for Training Data- \n",
      " [[5562    5]\n",
      " [  77 1356]]\n",
      "\n",
      "Confusion Matrix for Test Data - \n",
      " [[2296  100]\n",
      " [ 341  263]]\n"
     ]
    }
   ],
   "source": [
    "bc_model = BaggingClassifier(random_state=1)\n",
    "bc_model.fit(X_train,y_train)\n",
    "# make predictions for train data\n",
    "y_bc_train_predicted = bc_model.predict(X_train)\n",
    "\n",
    "# make predictions for test data\n",
    "y_bc_test_predicted = bc_model.predict(X_test)\n",
    "bc_score=get_metrics_score(bc_model,X_train, X_test, y_train, y_test)\n",
    "\n",
    "# summarize the fit of the model\n",
    "print('Classification Report for Training Data- \\n',classification_report(y_train, y_bc_train_predicted))\n",
    "print('Classification Report for Test Data- \\n',classification_report(y_test, y_bc_test_predicted))\n",
    "print('Confusion Matrix for Training Data- \\n',confusion_matrix(y_train, y_bc_train_predicted))\n",
    "print('\\nConfusion Matrix for Test Data - \\n',confusion_matrix(y_test, y_bc_test_predicted))"
   ]
  },
  {
   "cell_type": "markdown",
   "id": "7d35cee3",
   "metadata": {},
   "source": [
    "## 11. Ada Boosting Classifier"
   ]
  },
  {
   "cell_type": "code",
   "execution_count": 28,
   "id": "70646865",
   "metadata": {},
   "outputs": [
    {
     "name": "stdout",
     "output_type": "stream",
     "text": [
      "Accuracy on training set :  0.8595714285714285\n",
      "Accuracy on test set :  0.857\n",
      "Recall on training set :  0.4884856943475227\n",
      "Recall on test set :  0.46357615894039733\n",
      "Precision on training set :  0.7368421052631579\n",
      "Precision on test set :  0.7272727272727273\n",
      "F1-Score on training set :  0.5874947545111204\n",
      "F1-Score on test set :  0.5662285136501517\n",
      "Classification Report for Training Data- \n",
      "               precision    recall  f1-score   support\n",
      "\n",
      "           0       0.88      0.96      0.92      5567\n",
      "           1       0.74      0.49      0.59      1433\n",
      "\n",
      "    accuracy                           0.86      7000\n",
      "   macro avg       0.81      0.72      0.75      7000\n",
      "weighted avg       0.85      0.86      0.85      7000\n",
      "\n",
      "Classification Report for Test Data- \n",
      "               precision    recall  f1-score   support\n",
      "\n",
      "           0       0.88      0.96      0.91      2396\n",
      "           1       0.73      0.46      0.57       604\n",
      "\n",
      "    accuracy                           0.86      3000\n",
      "   macro avg       0.80      0.71      0.74      3000\n",
      "weighted avg       0.85      0.86      0.84      3000\n",
      "\n",
      "Confusion Matrix for Training Data- \n",
      " [[5317  250]\n",
      " [ 733  700]]\n",
      "\n",
      "Confusion Matrix for Test Data - \n",
      " [[2291  105]\n",
      " [ 324  280]]\n"
     ]
    }
   ],
   "source": [
    "abc_model = AdaBoostClassifier(random_state=1)\n",
    "abc_model.fit(X_train,y_train)\n",
    "# make predictions for train data\n",
    "y_abc_train_predicted = abc_model.predict(X_train)\n",
    "\n",
    "# make predictions for test data\n",
    "y_abc_test_predicted = abc_model.predict(X_test)\n",
    "abc_score=get_metrics_score(abc_model,X_train, X_test, y_train, y_test)\n",
    "\n",
    "# summarize the fit of the model\n",
    "print('Classification Report for Training Data- \\n',classification_report(y_train, y_abc_train_predicted))\n",
    "print('Classification Report for Test Data- \\n',classification_report(y_test, y_abc_test_predicted))\n",
    "print('Confusion Matrix for Training Data- \\n',confusion_matrix(y_train, y_abc_train_predicted))\n",
    "print('\\nConfusion Matrix for Test Data - \\n',confusion_matrix(y_test, y_abc_test_predicted))"
   ]
  },
  {
   "cell_type": "markdown",
   "id": "60e85dda",
   "metadata": {},
   "source": [
    "## 12 Voting Classifier"
   ]
  },
  {
   "cell_type": "code",
   "execution_count": 29,
   "id": "c60ae3dd",
   "metadata": {},
   "outputs": [],
   "source": [
    "# defining list of models\n",
    "estimator= [('LR',lr_model), ('LDA',lda_model), ('GNB',GNB_model), ('DT',dt_model), ('GSDT',gs_dt_tuned), ('RF',RF_model),\n",
    "            ('GSRF',gs_rf_tuned), ('GBC',gbc_model), ('GSGBC',gs_gbc_tuned), ('BC', bc_model),('ABC',abc_model)]"
   ]
  },
  {
   "cell_type": "code",
   "execution_count": 30,
   "id": "2cd8a00d",
   "metadata": {},
   "outputs": [
    {
     "name": "stdout",
     "output_type": "stream",
     "text": [
      "Accuracy on training set :  0.8595714285714285\n",
      "Accuracy on test set :  0.857\n",
      "Recall on training set :  0.4884856943475227\n",
      "Recall on test set :  0.46357615894039733\n",
      "Precision on training set :  0.7368421052631579\n",
      "Precision on test set :  0.7272727272727273\n",
      "F1-Score on training set :  0.5874947545111204\n",
      "F1-Score on test set :  0.5662285136501517\n",
      "Classification Report for Training Data- \n",
      "               precision    recall  f1-score   support\n",
      "\n",
      "           0       0.89      0.99      0.94      5567\n",
      "           1       0.96      0.53      0.69      1433\n",
      "\n",
      "    accuracy                           0.90      7000\n",
      "   macro avg       0.93      0.76      0.81      7000\n",
      "weighted avg       0.91      0.90      0.89      7000\n",
      "\n",
      "Classification Report for Test Data- \n",
      "               precision    recall  f1-score   support\n",
      "\n",
      "           0       0.86      0.98      0.92      2396\n",
      "           1       0.82      0.39      0.53       604\n",
      "\n",
      "    accuracy                           0.86      3000\n",
      "   macro avg       0.84      0.69      0.72      3000\n",
      "weighted avg       0.86      0.86      0.84      3000\n",
      "\n",
      "Confusion Matrix for Training Data- \n",
      " [[5537   30]\n",
      " [ 670  763]]\n",
      "\n",
      "Confusion Matrix for Test Data - \n",
      " [[2345   51]\n",
      " [ 367  237]]\n"
     ]
    }
   ],
   "source": [
    "soft_vc_model = VotingClassifier(estimators= estimator, voting='soft')\n",
    "soft_vc_model.fit(X_train,y_train)\n",
    "\n",
    "# make predictions for train data\n",
    "y_soft_vc_train_predicted = soft_vc_model.predict(X_train)\n",
    "\n",
    "# make predictions for test data\n",
    "y_soft_vc_test_predicted = soft_vc_model.predict(X_test)\n",
    "soft_vc_score=get_metrics_score(abc_model,X_train, X_test, y_train, y_test)\n",
    "\n",
    "# summarize the fit of the model\n",
    "print('Classification Report for Training Data- \\n',classification_report(y_train, y_soft_vc_train_predicted))\n",
    "print('Classification Report for Test Data- \\n',classification_report(y_test, y_soft_vc_test_predicted))\n",
    "print('Confusion Matrix for Training Data- \\n',confusion_matrix(y_train, y_soft_vc_train_predicted))\n",
    "print('\\nConfusion Matrix for Test Data - \\n',confusion_matrix(y_test, y_soft_vc_test_predicted))"
   ]
  },
  {
   "cell_type": "code",
   "execution_count": 31,
   "id": "24830728",
   "metadata": {
    "scrolled": false
   },
   "outputs": [
    {
     "name": "stdout",
     "output_type": "stream",
     "text": [
      "Accuracy on training set :  0.8595714285714285\n",
      "Accuracy on test set :  0.857\n",
      "Recall on training set :  0.4884856943475227\n",
      "Recall on test set :  0.46357615894039733\n",
      "Precision on training set :  0.7368421052631579\n",
      "Precision on test set :  0.7272727272727273\n",
      "F1-Score on training set :  0.5874947545111204\n",
      "F1-Score on test set :  0.5662285136501517\n",
      "Classification Report for Training Data- \n",
      "               precision    recall  f1-score   support\n",
      "\n",
      "           0       0.88      0.99      0.93      5567\n",
      "           1       0.91      0.48      0.62      1433\n",
      "\n",
      "    accuracy                           0.88      7000\n",
      "   macro avg       0.89      0.73      0.78      7000\n",
      "weighted avg       0.89      0.88      0.87      7000\n",
      "\n",
      "Classification Report for Test Data- \n",
      "               precision    recall  f1-score   support\n",
      "\n",
      "           0       0.87      0.98      0.92      2396\n",
      "           1       0.82      0.40      0.54       604\n",
      "\n",
      "    accuracy                           0.86      3000\n",
      "   macro avg       0.85      0.69      0.73      3000\n",
      "weighted avg       0.86      0.86      0.84      3000\n",
      "\n",
      "Confusion Matrix for Training Data- \n",
      " [[5497   70]\n",
      " [ 752  681]]\n",
      "\n",
      "Confusion Matrix for Test Data - \n",
      " [[2344   52]\n",
      " [ 360  244]]\n"
     ]
    }
   ],
   "source": [
    "hard_vc_model = VotingClassifier(estimators= estimator, voting='hard')\n",
    "hard_vc_model.fit(X_train,y_train)\n",
    "\n",
    "# make predictions for train data\n",
    "y_hard_vc_train_predicted = hard_vc_model.predict(X_train)\n",
    "\n",
    "# make predictions for test data\n",
    "y_hard_vc_test_predicted = hard_vc_model.predict(X_test)\n",
    "hard_vc_score=get_metrics_score(abc_model,X_train, X_test, y_train, y_test)\n",
    "\n",
    "# summarize the fit of the model\n",
    "print('Classification Report for Training Data- \\n',classification_report(y_train, y_hard_vc_train_predicted))\n",
    "print('Classification Report for Test Data- \\n',classification_report(y_test, y_hard_vc_test_predicted))\n",
    "print('Confusion Matrix for Training Data- \\n',confusion_matrix(y_train, y_hard_vc_train_predicted))\n",
    "print('\\nConfusion Matrix for Test Data - \\n',confusion_matrix(y_test, y_hard_vc_test_predicted))"
   ]
  },
  {
   "cell_type": "code",
   "execution_count": 32,
   "id": "db4e1d74",
   "metadata": {},
   "outputs": [
    {
     "data": {
      "text/plain": [
       "<Figure size 1200x600 with 0 Axes>"
      ]
     },
     "metadata": {},
     "output_type": "display_data"
    },
    {
     "data": {
      "image/png": "[encoded data removed]",
      "text/plain": [
       "<Figure size 640x480 with 1 Axes>"
      ]
     },
     "metadata": {},
     "output_type": "display_data"
    }
   ],
   "source": [
    "models_list = [lr_model, lda_model, GNB_model, dt_model, gs_dt_tuned, RF_model, gs_rf_tuned, gbc_model, gs_gbc_tuned, bc_model, \n",
    "          abc_model, soft_vc_model]\n",
    "\n",
    "probability_list = [c.fit(X_train, y_train).predict_proba(X) for c in models_list]\n",
    "\n",
    "class1_1 = [pr[0, 0] for pr in probability_list]\n",
    "class2_1 = [pr[0, 1] for pr in probability_list]\n",
    "\n",
    "# plotting\n",
    "\n",
    "N = 12  # number of groups\n",
    "ind = np.arange(N)  # group positions\n",
    "width = 0.35  # bar width\n",
    "\n",
    "plt.figure(figsize=(12,6))\n",
    "fig, ax = plt.subplots()\n",
    "\n",
    "# bars for classifier 1-11\n",
    "p1 = ax.bar(ind, np.hstack(([class1_1[:-1], [0]])), width, color=\"green\", edgecolor=\"k\")\n",
    "p2 = ax.bar(\n",
    "    ind + width,\n",
    "    np.hstack(([class2_1[:-1], [0]])),\n",
    "    width,\n",
    "    color=\"lightgreen\",\n",
    "    edgecolor=\"k\",\n",
    ")\n",
    "\n",
    "# bars for VotingClassifier\n",
    "p3 = ax.bar(ind, [0, 0, 0, 0, 0, 0, 0, 0, 0, 0, 0, class1_1[-1]], width, color=\"blue\", edgecolor=\"k\")\n",
    "p4 = ax.bar(\n",
    "    ind + width, [0, 0, 0, 0, 0, 0, 0, 0, 0, 0, 0, class2_1[-1]], width, color=\"steelblue\", edgecolor=\"k\"\n",
    ")\n",
    "\n",
    "# plot annotations\n",
    "plt.axvline(10.8, color=\"k\", linestyle=\"dashed\")\n",
    "ax.set_xticks(ind + width)\n",
    "ax.set_xticklabels(\n",
    "    ['Logistic Regression','Linear Discriminant Analysis','Naive Bayes','Decision Tree','Decision Tree Tuned', \n",
    "     'Random Forest','Random Forest Tuned', 'Gradient Boosting','Gradient Boosting Tuned',\n",
    "     'Bagging Classifier','Ada Boosting Classifier','Soft Voting Classifier'],\n",
    "    rotation=90,\n",
    "    ha=\"right\",\n",
    ")\n",
    "plt.ylim([0, 1])\n",
    "plt.title(\"Class probabilities by different classifiers\")\n",
    "plt.legend([p1[0], p2[0]], [\"No\", \"Yes\"], loc=\"upper left\")\n",
    "plt.tight_layout()\n",
    "plt.show()"
   ]
  },
  {
   "cell_type": "code",
   "execution_count": 33,
   "id": "8c117dea",
   "metadata": {},
   "outputs": [
    {
     "data": {
      "text/html": [
       "<div>\n",
       "<style scoped>\n",
       "    .dataframe tbody tr th:only-of-type {\n",
       "        vertical-align: middle;\n",
       "    }\n",
       "\n",
       "    .dataframe tbody tr th {\n",
       "        vertical-align: top;\n",
       "    }\n",
       "\n",
       "    .dataframe thead th {\n",
       "        text-align: right;\n",
       "    }\n",
       "</style>\n",
       "<table border=\"1\" class=\"dataframe\">\n",
       "  <thead>\n",
       "    <tr style=\"text-align: right;\">\n",
       "      <th></th>\n",
       "      <th>TrainAccuracy</th>\n",
       "      <th>TestAccuracy</th>\n",
       "      <th>Train_Recall</th>\n",
       "      <th>TestRecall</th>\n",
       "      <th>TrainPrecision</th>\n",
       "      <th>TestPrecision</th>\n",
       "      <th>TrainF1Score</th>\n",
       "      <th>TestF1Score</th>\n",
       "    </tr>\n",
       "  </thead>\n",
       "  <tbody>\n",
       "    <tr>\n",
       "      <th>Logistic Regression</th>\n",
       "      <td>0.79</td>\n",
       "      <td>0.79</td>\n",
       "      <td>0.06</td>\n",
       "      <td>0.06</td>\n",
       "      <td>0.40</td>\n",
       "      <td>0.38</td>\n",
       "      <td>0.10</td>\n",
       "      <td>0.10</td>\n",
       "    </tr>\n",
       "    <tr>\n",
       "      <th>Linear Discriminant Analysis</th>\n",
       "      <td>0.80</td>\n",
       "      <td>0.81</td>\n",
       "      <td>0.19</td>\n",
       "      <td>0.20</td>\n",
       "      <td>0.57</td>\n",
       "      <td>0.56</td>\n",
       "      <td>0.29</td>\n",
       "      <td>0.29</td>\n",
       "    </tr>\n",
       "    <tr>\n",
       "      <th>Naive Bayes</th>\n",
       "      <td>0.78</td>\n",
       "      <td>0.79</td>\n",
       "      <td>0.08</td>\n",
       "      <td>0.07</td>\n",
       "      <td>0.36</td>\n",
       "      <td>0.36</td>\n",
       "      <td>0.13</td>\n",
       "      <td>0.12</td>\n",
       "    </tr>\n",
       "    <tr>\n",
       "      <th>Decision Tree</th>\n",
       "      <td>1.00</td>\n",
       "      <td>0.78</td>\n",
       "      <td>1.00</td>\n",
       "      <td>0.49</td>\n",
       "      <td>1.00</td>\n",
       "      <td>0.45</td>\n",
       "      <td>1.00</td>\n",
       "      <td>0.47</td>\n",
       "    </tr>\n",
       "    <tr>\n",
       "      <th>Decision Tree Tuned</th>\n",
       "      <td>0.87</td>\n",
       "      <td>0.85</td>\n",
       "      <td>0.48</td>\n",
       "      <td>0.43</td>\n",
       "      <td>0.80</td>\n",
       "      <td>0.73</td>\n",
       "      <td>0.60</td>\n",
       "      <td>0.54</td>\n",
       "    </tr>\n",
       "    <tr>\n",
       "      <th>Random Forest</th>\n",
       "      <td>0.87</td>\n",
       "      <td>0.86</td>\n",
       "      <td>0.43</td>\n",
       "      <td>0.40</td>\n",
       "      <td>0.83</td>\n",
       "      <td>0.80</td>\n",
       "      <td>0.57</td>\n",
       "      <td>0.54</td>\n",
       "    </tr>\n",
       "    <tr>\n",
       "      <th>Random Forest Tuned</th>\n",
       "      <td>0.88</td>\n",
       "      <td>0.86</td>\n",
       "      <td>0.51</td>\n",
       "      <td>0.44</td>\n",
       "      <td>0.86</td>\n",
       "      <td>0.77</td>\n",
       "      <td>0.64</td>\n",
       "      <td>0.56</td>\n",
       "    </tr>\n",
       "    <tr>\n",
       "      <th>Gradient Boosting Classifier</th>\n",
       "      <td>0.87</td>\n",
       "      <td>0.86</td>\n",
       "      <td>0.50</td>\n",
       "      <td>0.45</td>\n",
       "      <td>0.82</td>\n",
       "      <td>0.78</td>\n",
       "      <td>0.62</td>\n",
       "      <td>0.57</td>\n",
       "    </tr>\n",
       "    <tr>\n",
       "      <th>Gradient Boosting Classifier Tuned</th>\n",
       "      <td>0.88</td>\n",
       "      <td>0.86</td>\n",
       "      <td>0.50</td>\n",
       "      <td>0.43</td>\n",
       "      <td>0.84</td>\n",
       "      <td>0.79</td>\n",
       "      <td>0.63</td>\n",
       "      <td>0.56</td>\n",
       "    </tr>\n",
       "    <tr>\n",
       "      <th>Bagging Classifier</th>\n",
       "      <td>0.99</td>\n",
       "      <td>0.85</td>\n",
       "      <td>0.95</td>\n",
       "      <td>0.44</td>\n",
       "      <td>1.00</td>\n",
       "      <td>0.72</td>\n",
       "      <td>0.97</td>\n",
       "      <td>0.54</td>\n",
       "    </tr>\n",
       "    <tr>\n",
       "      <th>Ada Boosting Classifier</th>\n",
       "      <td>0.86</td>\n",
       "      <td>0.86</td>\n",
       "      <td>0.49</td>\n",
       "      <td>0.46</td>\n",
       "      <td>0.74</td>\n",
       "      <td>0.73</td>\n",
       "      <td>0.59</td>\n",
       "      <td>0.57</td>\n",
       "    </tr>\n",
       "    <tr>\n",
       "      <th>Soft Voting Classifier</th>\n",
       "      <td>0.90</td>\n",
       "      <td>0.86</td>\n",
       "      <td>0.53</td>\n",
       "      <td>0.40</td>\n",
       "      <td>0.96</td>\n",
       "      <td>0.82</td>\n",
       "      <td>0.69</td>\n",
       "      <td>0.53</td>\n",
       "    </tr>\n",
       "    <tr>\n",
       "      <th>Hard Voting Classifier</th>\n",
       "      <td>0.88</td>\n",
       "      <td>0.86</td>\n",
       "      <td>0.48</td>\n",
       "      <td>0.40</td>\n",
       "      <td>0.91</td>\n",
       "      <td>0.82</td>\n",
       "      <td>0.62</td>\n",
       "      <td>0.54</td>\n",
       "    </tr>\n",
       "  </tbody>\n",
       "</table>\n",
       "</div>"
      ],
      "text/plain": [
       "                                    TrainAccuracy  TestAccuracy  Train_Recall  \\\n",
       "Logistic Regression                          0.79          0.79          0.06   \n",
       "Linear Discriminant Analysis                 0.80          0.81          0.19   \n",
       "Naive Bayes                                  0.78          0.79          0.08   \n",
       "Decision Tree                                1.00          0.78          1.00   \n",
       "Decision Tree Tuned                          0.87          0.85          0.48   \n",
       "Random Forest                                0.87          0.86          0.43   \n",
       "Random Forest Tuned                          0.88          0.86          0.51   \n",
       "Gradient Boosting Classifier                 0.87          0.86          0.50   \n",
       "Gradient Boosting Classifier Tuned           0.88          0.86          0.50   \n",
       "Bagging Classifier                           0.99          0.85          0.95   \n",
       "Ada Boosting Classifier                      0.86          0.86          0.49   \n",
       "Soft Voting Classifier                       0.90          0.86          0.53   \n",
       "Hard Voting Classifier                       0.88          0.86          0.48   \n",
       "\n",
       "                                    TestRecall  TrainPrecision  TestPrecision  \\\n",
       "Logistic Regression                       0.06            0.40           0.38   \n",
       "Linear Discriminant Analysis              0.20            0.57           0.56   \n",
       "Naive Bayes                               0.07            0.36           0.36   \n",
       "Decision Tree                             0.49            1.00           0.45   \n",
       "Decision Tree Tuned                       0.43            0.80           0.73   \n",
       "Random Forest                             0.40            0.83           0.80   \n",
       "Random Forest Tuned                       0.44            0.86           0.77   \n",
       "Gradient Boosting Classifier              0.45            0.82           0.78   \n",
       "Gradient Boosting Classifier Tuned        0.43            0.84           0.79   \n",
       "Bagging Classifier                        0.44            1.00           0.72   \n",
       "Ada Boosting Classifier                   0.46            0.74           0.73   \n",
       "Soft Voting Classifier                    0.40            0.96           0.82   \n",
       "Hard Voting Classifier                    0.40            0.91           0.82   \n",
       "\n",
       "                                    TrainF1Score  TestF1Score  \n",
       "Logistic Regression                         0.10         0.10  \n",
       "Linear Discriminant Analysis                0.29         0.29  \n",
       "Naive Bayes                                 0.13         0.12  \n",
       "Decision Tree                               1.00         0.47  \n",
       "Decision Tree Tuned                         0.60         0.54  \n",
       "Random Forest                               0.57         0.54  \n",
       "Random Forest Tuned                         0.64         0.56  \n",
       "Gradient Boosting Classifier                0.62         0.57  \n",
       "Gradient Boosting Classifier Tuned          0.63         0.56  \n",
       "Bagging Classifier                          0.97         0.54  \n",
       "Ada Boosting Classifier                     0.59         0.57  \n",
       "Soft Voting Classifier                      0.69         0.53  \n",
       "Hard Voting Classifier                      0.62         0.54  "
      ]
     },
     "execution_count": 33,
     "metadata": {},
     "output_type": "execute_result"
    }
   ],
   "source": [
    "models_list = [lr_model, lda_model, GNB_model, dt_model, gs_dt_tuned, RF_model, gs_rf_tuned, gbc_model, gs_gbc_tuned, bc_model, \n",
    "          abc_model, soft_vc_model, hard_vc_model]\n",
    "\n",
    "index_list = ['Logistic Regression','Linear Discriminant Analysis','Naive Bayes','Decision Tree','Decision Tree Tuned', \n",
    "              'Random Forest','Random Forest Tuned', 'Gradient Boosting Classifier','Gradient Boosting Classifier Tuned',\n",
    "              'Bagging Classifier','Ada Boosting Classifier','Soft Voting Classifier', 'Hard Voting Classifier']\n",
    "\n",
    "all_model_comparison = get_summary_of_models(models_list)\n",
    "\n",
    "all_model_comparison = all_model_comparison.set_index(pd.Index(index_list))\n",
    "\n",
    "all_model_comparison"
   ]
  },
  {
   "cell_type": "code",
   "execution_count": 34,
   "id": "f74a7488",
   "metadata": {},
   "outputs": [
    {
     "data": {
      "text/html": [
       "<div>\n",
       "<style scoped>\n",
       "    .dataframe tbody tr th:only-of-type {\n",
       "        vertical-align: middle;\n",
       "    }\n",
       "\n",
       "    .dataframe tbody tr th {\n",
       "        vertical-align: top;\n",
       "    }\n",
       "\n",
       "    .dataframe thead th {\n",
       "        text-align: right;\n",
       "    }\n",
       "</style>\n",
       "<table border=\"1\" class=\"dataframe\">\n",
       "  <thead>\n",
       "    <tr style=\"text-align: right;\">\n",
       "      <th></th>\n",
       "      <th>Train ROC-AUC Score</th>\n",
       "      <th>Test ROC-AUC Score</th>\n",
       "    </tr>\n",
       "  </thead>\n",
       "  <tbody>\n",
       "    <tr>\n",
       "      <th>Logistic Regression</th>\n",
       "      <td>0.67</td>\n",
       "      <td>0.67</td>\n",
       "    </tr>\n",
       "    <tr>\n",
       "      <th>Linear Discriminant Analysis</th>\n",
       "      <td>0.76</td>\n",
       "      <td>0.75</td>\n",
       "    </tr>\n",
       "    <tr>\n",
       "      <th>Naive Bayes</th>\n",
       "      <td>0.75</td>\n",
       "      <td>0.74</td>\n",
       "    </tr>\n",
       "    <tr>\n",
       "      <th>Decision Tree</th>\n",
       "      <td>1.00</td>\n",
       "      <td>0.67</td>\n",
       "    </tr>\n",
       "    <tr>\n",
       "      <th>Decision Tree Tuned</th>\n",
       "      <td>0.91</td>\n",
       "      <td>0.83</td>\n",
       "    </tr>\n",
       "    <tr>\n",
       "      <th>Random Forest</th>\n",
       "      <td>0.89</td>\n",
       "      <td>0.85</td>\n",
       "    </tr>\n",
       "    <tr>\n",
       "      <th>Random Forest Tuned</th>\n",
       "      <td>0.94</td>\n",
       "      <td>0.85</td>\n",
       "    </tr>\n",
       "    <tr>\n",
       "      <th>Gradient Boosting Classifier</th>\n",
       "      <td>0.89</td>\n",
       "      <td>0.86</td>\n",
       "    </tr>\n",
       "    <tr>\n",
       "      <th>Gradient Boosting Classifier Tuned</th>\n",
       "      <td>0.90</td>\n",
       "      <td>0.86</td>\n",
       "    </tr>\n",
       "    <tr>\n",
       "      <th>Bagging Classifier</th>\n",
       "      <td>1.00</td>\n",
       "      <td>0.81</td>\n",
       "    </tr>\n",
       "    <tr>\n",
       "      <th>Ada Boosting Classifier</th>\n",
       "      <td>0.86</td>\n",
       "      <td>0.85</td>\n",
       "    </tr>\n",
       "  </tbody>\n",
       "</table>\n",
       "</div>"
      ],
      "text/plain": [
       "                                    Train ROC-AUC Score  Test ROC-AUC Score\n",
       "Logistic Regression                                0.67                0.67\n",
       "Linear Discriminant Analysis                       0.76                0.75\n",
       "Naive Bayes                                        0.75                0.74\n",
       "Decision Tree                                      1.00                0.67\n",
       "Decision Tree Tuned                                0.91                0.83\n",
       "Random Forest                                      0.89                0.85\n",
       "Random Forest Tuned                                0.94                0.85\n",
       "Gradient Boosting Classifier                       0.89                0.86\n",
       "Gradient Boosting Classifier Tuned                 0.90                0.86\n",
       "Bagging Classifier                                 1.00                0.81\n",
       "Ada Boosting Classifier                            0.86                0.85"
      ]
     },
     "execution_count": 34,
     "metadata": {},
     "output_type": "execute_result"
    }
   ],
   "source": [
    "models_list = [lr_model, lda_model, GNB_model, dt_model, gs_dt_tuned, RF_model, gs_rf_tuned, gbc_model, gs_gbc_tuned, bc_model, \n",
    "              abc_model]\n",
    "\n",
    "index_list = ['Logistic Regression','Linear Discriminant Analysis','Naive Bayes','Decision Tree','Decision Tree Tuned', \n",
    "              'Random Forest','Random Forest Tuned', 'Gradient Boosting Classifier','Gradient Boosting Classifier Tuned',\n",
    "              'Bagging Classifier','Ada Boosting Classifier']\n",
    "\n",
    "model_auc_score = get_ROC_AUC_score_of_models(models_list)\n",
    "\n",
    "model_auc_score = model_auc_score.set_index(pd.Index(index_list))\n",
    "\n",
    "model_auc_score"
   ]
  },
  {
   "cell_type": "code",
   "execution_count": null,
   "id": "99880349",
   "metadata": {},
   "outputs": [],
   "source": []
  }
 ],
 "metadata": {
  "kernelspec": {
   "display_name": "Python 3 (ipykernel)",
   "language": "python",
   "name": "python3"
  },
  "language_info": {
   "codemirror_mode": {
    "name": "ipython",
    "version": 3
   },
   "file_extension": ".py",
   "mimetype": "text/x-python",
   "name": "python",
   "nbconvert_exporter": "python",
   "pygments_lexer": "ipython3",
   "version": "3.10.9"
  }
 },
 "nbformat": 4,
 "nbformat_minor": 5
}
