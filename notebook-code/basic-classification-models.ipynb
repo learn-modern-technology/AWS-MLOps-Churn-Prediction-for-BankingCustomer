{
 "cells": [
  {
   "cell_type": "code",
   "execution_count": 1,
   "id": "bf685804",
   "metadata": {},
   "outputs": [],
   "source": [
    "import pandas as pd\n",
    "import numpy as np\n",
    "import matplotlib.pyplot as plt\n",
    "import seaborn as sns\n",
    "\n",
    "# ------------Split Train and Test Data----------\n",
    "from sklearn.model_selection import train_test_split\n",
    "\n",
    "# -----Classification ML Algorithms--------------\n",
    "from sklearn.linear_model import LinearRegression\n",
    "from sklearn.linear_model import LogisticRegression\n",
    "from sklearn.tree import DecisionTreeClassifier\n",
    "from sklearn.discriminant_analysis import LinearDiscriminantAnalysis\n",
    "from sklearn.naive_bayes import GaussianNB \n",
    "\n",
    "from sklearn.ensemble import RandomForestClassifier\n",
    "from sklearn.ensemble import GradientBoostingClassifier\n",
    "from sklearn.ensemble import AdaBoostClassifier\n",
    "from sklearn.ensemble import BaggingClassifier\n",
    "from sklearn.ensemble import VotingClassifier\n",
    "\n",
    "from sklearn.svm import SVC \n",
    "\n",
    "from sklearn.neighbors import KNeighborsClassifier\n",
    "\n",
    "# ----------HyperParameter Tuning --------------\n",
    "from sklearn.model_selection import GridSearchCV\n",
    "\n",
    "# ---------Evaluating Performance Metrics-------\n",
    "from sklearn import metrics\n",
    "from sklearn.metrics import classification_report\n",
    "from sklearn.metrics import roc_auc_score\n",
    "from sklearn.metrics import accuracy_score\n",
    "from sklearn.metrics import precision_recall_curve\n",
    "from sklearn.metrics import precision_score, recall_score, f1_score\n",
    "from sklearn.metrics import confusion_matrix\n",
    "\n",
    "# ---------SMOTE for OvrSampling----------------\n",
    "from imblearn.over_sampling import SMOTE\n",
    "\n",
    "# --------Supress Future Warning----------------\n",
    "import warnings\n",
    "warnings.filterwarnings(\"ignore\")"
   ]
  },
  {
   "cell_type": "code",
   "execution_count": 2,
   "id": "10da39aa",
   "metadata": {},
   "outputs": [],
   "source": [
    "df = pd.read_csv('../data/AfterDataCleaning.csv')"
   ]
  },
  {
   "cell_type": "code",
   "execution_count": 3,
   "id": "9493e7d5",
   "metadata": {},
   "outputs": [
    {
     "data": {
      "text/html": [
       "<div>\n",
       "<style scoped>\n",
       "    .dataframe tbody tr th:only-of-type {\n",
       "        vertical-align: middle;\n",
       "    }\n",
       "\n",
       "    .dataframe tbody tr th {\n",
       "        vertical-align: top;\n",
       "    }\n",
       "\n",
       "    .dataframe thead th {\n",
       "        text-align: right;\n",
       "    }\n",
       "</style>\n",
       "<table border=\"1\" class=\"dataframe\">\n",
       "  <thead>\n",
       "    <tr style=\"text-align: right;\">\n",
       "      <th></th>\n",
       "      <th>CreditScore</th>\n",
       "      <th>Geography</th>\n",
       "      <th>Gender</th>\n",
       "      <th>Age</th>\n",
       "      <th>Tenure</th>\n",
       "      <th>Balance</th>\n",
       "      <th>NumOfProducts</th>\n",
       "      <th>HasCrCard</th>\n",
       "      <th>IsActiveMember</th>\n",
       "      <th>EstimatedSalary</th>\n",
       "      <th>Exited</th>\n",
       "    </tr>\n",
       "  </thead>\n",
       "  <tbody>\n",
       "    <tr>\n",
       "      <th>0</th>\n",
       "      <td>619</td>\n",
       "      <td>1</td>\n",
       "      <td>0</td>\n",
       "      <td>42</td>\n",
       "      <td>2</td>\n",
       "      <td>0.00</td>\n",
       "      <td>1</td>\n",
       "      <td>1</td>\n",
       "      <td>1</td>\n",
       "      <td>101348.88</td>\n",
       "      <td>1</td>\n",
       "    </tr>\n",
       "    <tr>\n",
       "      <th>1</th>\n",
       "      <td>608</td>\n",
       "      <td>3</td>\n",
       "      <td>0</td>\n",
       "      <td>41</td>\n",
       "      <td>1</td>\n",
       "      <td>83807.86</td>\n",
       "      <td>1</td>\n",
       "      <td>0</td>\n",
       "      <td>1</td>\n",
       "      <td>112542.58</td>\n",
       "      <td>0</td>\n",
       "    </tr>\n",
       "    <tr>\n",
       "      <th>2</th>\n",
       "      <td>502</td>\n",
       "      <td>1</td>\n",
       "      <td>0</td>\n",
       "      <td>42</td>\n",
       "      <td>8</td>\n",
       "      <td>159660.80</td>\n",
       "      <td>3</td>\n",
       "      <td>1</td>\n",
       "      <td>0</td>\n",
       "      <td>113931.57</td>\n",
       "      <td>1</td>\n",
       "    </tr>\n",
       "    <tr>\n",
       "      <th>3</th>\n",
       "      <td>699</td>\n",
       "      <td>1</td>\n",
       "      <td>0</td>\n",
       "      <td>39</td>\n",
       "      <td>1</td>\n",
       "      <td>0.00</td>\n",
       "      <td>2</td>\n",
       "      <td>0</td>\n",
       "      <td>0</td>\n",
       "      <td>93826.63</td>\n",
       "      <td>0</td>\n",
       "    </tr>\n",
       "    <tr>\n",
       "      <th>4</th>\n",
       "      <td>850</td>\n",
       "      <td>3</td>\n",
       "      <td>0</td>\n",
       "      <td>43</td>\n",
       "      <td>2</td>\n",
       "      <td>125510.82</td>\n",
       "      <td>1</td>\n",
       "      <td>1</td>\n",
       "      <td>1</td>\n",
       "      <td>79084.10</td>\n",
       "      <td>0</td>\n",
       "    </tr>\n",
       "  </tbody>\n",
       "</table>\n",
       "</div>"
      ],
      "text/plain": [
       "   CreditScore  Geography  Gender  Age  Tenure    Balance  NumOfProducts  \\\n",
       "0          619          1       0   42       2       0.00              1   \n",
       "1          608          3       0   41       1   83807.86              1   \n",
       "2          502          1       0   42       8  159660.80              3   \n",
       "3          699          1       0   39       1       0.00              2   \n",
       "4          850          3       0   43       2  125510.82              1   \n",
       "\n",
       "   HasCrCard  IsActiveMember  EstimatedSalary  Exited  \n",
       "0          1               1        101348.88       1  \n",
       "1          0               1        112542.58       0  \n",
       "2          1               0        113931.57       1  \n",
       "3          0               0         93826.63       0  \n",
       "4          1               1         79084.10       0  "
      ]
     },
     "execution_count": 3,
     "metadata": {},
     "output_type": "execute_result"
    }
   ],
   "source": [
    "df.head()"
   ]
  },
  {
   "cell_type": "code",
   "execution_count": 5,
   "id": "434dc17f",
   "metadata": {},
   "outputs": [
    {
     "name": "stdout",
     "output_type": "stream",
     "text": [
      "Shape of X_train is- (7000, 10)\n",
      "Shape of X_test is- (3000, 10)\n",
      "Shape of y_train is- (7000,)\n",
      "Shape of y_test is- (3000,)\n"
     ]
    }
   ],
   "source": [
    "X = df.drop('Exited',axis=1)\n",
    "Y = df['Exited']\n",
    "\n",
    "X_train, X_test, y_train, y_test = train_test_split(X,Y, test_size=0.3, random_state=1234)\n",
    "\n",
    "print(f'Shape of X_train is- {X_train.shape}')\n",
    "print(f'Shape of X_test is- {X_test.shape}')\n",
    "print(f'Shape of y_train is- {y_train.shape}')\n",
    "print(f'Shape of y_test is- {y_test.shape}')"
   ]
  },
  {
   "cell_type": "code",
   "execution_count": 5,
   "id": "7f0f1910",
   "metadata": {},
   "outputs": [
    {
     "name": "stdout",
     "output_type": "stream",
     "text": [
      "Revised Shape of X_train is- (1558, 14)\n",
      "Revised Shape of y_train is- (1558,)\n"
     ]
    }
   ],
   "source": [
    "#sm = SMOTE(sampling_strategy=0.3, random_state=123)\n",
    "#X_train, y_train = sm.fit_resample(X_train, y_train.ravel(),)\n",
    "#\n",
    "#print(f'Revised Shape of X_train is- {X_train.shape}')\n",
    "#print(f'Revised Shape of y_train is- {y_train.shape}')"
   ]
  },
  {
   "cell_type": "code",
   "execution_count": 6,
   "id": "4ea9a080",
   "metadata": {},
   "outputs": [],
   "source": [
    "##  Function to calculate different metric scores of the model - Accuracy, Recall and Precision\n",
    "def get_metrics_score(model, X_training_data, X_test_data, Y_training_data, Y_test_data, flag=True):\n",
    "    '''\n",
    "    model : classifier to predict values of X\n",
    "\n",
    "    '''\n",
    "    # defining an empty list to store train and test results\n",
    "    score_list=[] \n",
    "    \n",
    "    pred_train = model.predict(X_training_data)\n",
    "    pred_test = model.predict(X_test_data)\n",
    "    \n",
    "    train_acc = accuracy_score(Y_training_data, pred_train)\n",
    "    test_acc = accuracy_score(Y_test_data, pred_test)\n",
    "    \n",
    "    train_recall = recall_score(Y_training_data,pred_train)\n",
    "    test_recall = recall_score(Y_test_data,pred_test)\n",
    "    \n",
    "    train_precision = precision_score(Y_training_data,pred_train)\n",
    "    test_precision = precision_score(Y_test_data,pred_test)\n",
    "    \n",
    "    train_f1 = f1_score(Y_training_data,pred_train)\n",
    "    test_f1 = f1_score(Y_test_data,pred_test)\n",
    "\n",
    "    score_list.extend((train_acc,test_acc,train_recall,test_recall,train_precision,test_precision,train_f1,test_f1))\n",
    "    \n",
    "    # If the flag is set to True then only the following print statements will be dispayed. The default value is set to True.\n",
    "    if flag == True: \n",
    "        print(\"Accuracy on training set : \",accuracy_score(Y_training_data,pred_train))\n",
    "        print(\"Accuracy on test set : \",accuracy_score(Y_test_data,pred_test))\n",
    "        print(\"Recall on training set : \",recall_score(Y_training_data,pred_train))\n",
    "        print(\"Recall on test set : \",recall_score(Y_test_data,pred_test))\n",
    "        print(\"Precision on training set : \",precision_score(Y_training_data,pred_train))\n",
    "        print(\"Precision on test set : \",precision_score(Y_test_data,pred_test))\n",
    "        print(\"F1-Score on training set : \",f1_score(Y_training_data,pred_train))\n",
    "        print(\"F1-Score on test set : \",f1_score(Y_test_data,pred_test))\n",
    "    \n",
    "    return score_list # returning the list with train and test scores"
   ]
  },
  {
   "cell_type": "code",
   "execution_count": 7,
   "id": "b0d744a5",
   "metadata": {},
   "outputs": [],
   "source": [
    "def get_summary_of_models(models):\n",
    "    # defining list of models\n",
    "\n",
    "    # defining empty lists to add train and test results\n",
    "    acc_train = []\n",
    "    acc_test = []\n",
    "    recall_train = []\n",
    "    recall_test = []\n",
    "    precision_train = []\n",
    "    precision_test = []\n",
    "    f1_train =[]\n",
    "    f1_test = []\n",
    "    roc_auc_train = []\n",
    "    roc_auc_test = []\n",
    "    \n",
    "    # looping through all the models to get the accuracy, precall and precision scores\n",
    "    for idx,model in enumerate(models):\n",
    "            #print(model)\n",
    "            j = get_metrics_score(model,X_train, X_test, y_train, y_test,False)\n",
    "            acc_train.append(np.round(j[0],2))\n",
    "            acc_test.append(np.round(j[1],2))\n",
    "            recall_train.append(np.round(j[2],2))\n",
    "            recall_test.append(np.round(j[3],2))\n",
    "            precision_train.append(np.round(j[4],2))\n",
    "            precision_test.append(np.round(j[5],2))\n",
    "            f1_train.append(np.round(j[6],2))\n",
    "            f1_test.append(np.round(j[7],2))\n",
    "    \n",
    "    model_metrics = pd.DataFrame({'TrainAccuracy': acc_train, 'TestAccuracy': acc_test, 'Train_Recall':recall_train, \n",
    "                                  'TestRecall':recall_test, 'TrainPrecision':precision_train, 'TestPrecision':precision_test, \n",
    "                                  'TrainF1Score':f1_train, 'TestF1Score':f1_test\n",
    "                                 })\n",
    "    \n",
    "    return model_metrics"
   ]
  },
  {
   "cell_type": "code",
   "execution_count": 8,
   "id": "d765eb38",
   "metadata": {},
   "outputs": [],
   "source": [
    "##  Function to calculate different metric scores of the model - Accuracy, Recall and Precision\n",
    "def get_ROC_AUC_score(model, X_training_data, X_test_data, Y_training_data, Y_test_data, flag=True):\n",
    "    '''\n",
    "    model : classifier to predict values of X\n",
    "\n",
    "    '''\n",
    "    # defining an empty list to store train and test results\n",
    "    score_list=[] \n",
    "    \n",
    "    pred_train_prob = model.predict_proba(X_training_data)\n",
    "    pred_train_prob = pred_train_prob[:,1]\n",
    "    train_auc = roc_auc_score(Y_training_data, pred_train_prob)\n",
    "    pred_test_prob = model.predict_proba(X_test_data)\n",
    "    pred_test_prob = pred_test_prob[:,1]\n",
    "    test_auc = roc_auc_score(Y_test_data,pred_test_prob)\n",
    "\n",
    "    score_list.extend((train_auc,test_auc))\n",
    "    \n",
    "    # If the flag is set to True then only the following print statements will be dispayed. The default value is set to True.\n",
    "    if flag == True:    \n",
    "        print(\"ROC AUC Score on training set : \",roc_auc_score(Y_training_data,pred_train_prob))\n",
    "        print(\"ROC AUC Score on test set : \",roc_auc_score(Y_test_data,pred_test_prob))\n",
    "        \n",
    "    return score_list"
   ]
  },
  {
   "cell_type": "code",
   "execution_count": 9,
   "id": "eaf380d1",
   "metadata": {},
   "outputs": [],
   "source": [
    "def get_ROC_AUC_score_of_models(models):\n",
    "    # defining list of models\n",
    "\n",
    "    roc_auc_train = []\n",
    "    roc_auc_test = []\n",
    "    \n",
    "    # looping through all the models to get the accuracy, precall and precision scores\n",
    "    for idx,model in enumerate(models):\n",
    "            #print(model)\n",
    "            j = get_ROC_AUC_score(model,X_train, X_test, y_train, y_test,False)\n",
    "            roc_auc_train.append(np.round(j[0],2))\n",
    "            roc_auc_test.append(np.round(j[1],2))\n",
    "    \n",
    "    model_auc_score = pd.DataFrame({'Train ROC-AUC Score': roc_auc_train, 'Test ROC-AUC Score': roc_auc_test})\n",
    "    \n",
    "    return model_auc_score"
   ]
  },
  {
   "cell_type": "markdown",
   "id": "b0ef2ba9",
   "metadata": {},
   "source": [
    "## 1. Logistic Regression"
   ]
  },
  {
   "cell_type": "code",
   "execution_count": 10,
   "id": "0e7b936c",
   "metadata": {},
   "outputs": [
    {
     "name": "stdout",
     "output_type": "stream",
     "text": [
      "Accuracy on training set :  0.6548571428571428\n",
      "Accuracy on test set :  0.6563333333333333\n",
      "Recall on training set :  0.6713189113747383\n",
      "Recall on test set :  0.6639072847682119\n",
      "Precision on training set :  0.3309253525971792\n",
      "Precision on test set :  0.32628152969894225\n",
      "F1-Score on training set :  0.44331797235023035\n",
      "F1-Score on test set :  0.43753409710856517\n"
     ]
    }
   ],
   "source": [
    "lr_model = LogisticRegression(class_weight='balanced', random_state=123)\n",
    "lr_model.fit(X_train,y_train)\n",
    "y_lr_train_predicted = lr_model.predict(X_train)\n",
    "y_lr_test_predicted = lr_model.predict(X_test)\n",
    "metrics.accuracy_score(y_train,y_lr_train_predicted)\n",
    "#Using above defined function to get accuracy, recall and precision on train and test set\n",
    "lr_score=get_metrics_score(lr_model, X_train, X_test, y_train, y_test)"
   ]
  },
  {
   "cell_type": "code",
   "execution_count": 11,
   "id": "69735616",
   "metadata": {},
   "outputs": [
    {
     "name": "stdout",
     "output_type": "stream",
     "text": [
      "Classification Report for Training Data- \n",
      "               precision    recall  f1-score   support\n",
      "\n",
      "           0       0.88      0.65      0.75      5567\n",
      "           1       0.33      0.67      0.44      1433\n",
      "\n",
      "    accuracy                           0.65      7000\n",
      "   macro avg       0.61      0.66      0.60      7000\n",
      "weighted avg       0.77      0.65      0.69      7000\n",
      "\n",
      "\n",
      "Classification Report for Test Data- \n",
      "               precision    recall  f1-score   support\n",
      "\n",
      "           0       0.89      0.65      0.75      2396\n",
      "           1       0.33      0.66      0.44       604\n",
      "\n",
      "    accuracy                           0.66      3000\n",
      "   macro avg       0.61      0.66      0.60      3000\n",
      "weighted avg       0.77      0.66      0.69      3000\n",
      "\n",
      "Confusion matrix for the train Data- \n",
      " [[3622 1945]\n",
      " [ 471  962]]\n",
      "\n",
      "Confusion matrix for the test Data- \n",
      " [[1568  828]\n",
      " [ 203  401]]\n"
     ]
    }
   ],
   "source": [
    "print('Classification Report for Training Data- \\n',classification_report(y_train, y_lr_train_predicted))\n",
    "print('\\nClassification Report for Test Data- \\n',classification_report(y_test, y_lr_test_predicted))\n",
    "print('Confusion matrix for the train Data- \\n',confusion_matrix(y_train, y_lr_train_predicted))\n",
    "print('\\nConfusion matrix for the test Data- \\n',confusion_matrix(y_test, y_lr_test_predicted))"
   ]
  },
  {
   "cell_type": "markdown",
   "id": "1bc45115",
   "metadata": {},
   "source": [
    "## 2. Linear Discriminant Analysis"
   ]
  },
  {
   "cell_type": "code",
   "execution_count": 12,
   "id": "35047752",
   "metadata": {},
   "outputs": [
    {
     "name": "stdout",
     "output_type": "stream",
     "text": [
      "Accuracy on training set :  0.8045714285714286\n",
      "Accuracy on test set :  0.807\n",
      "Recall on training set :  0.19120725750174458\n",
      "Recall on test set :  0.1986754966887417\n",
      "Precision on training set :  0.567287784679089\n",
      "Precision on test set :  0.5581395348837209\n",
      "F1-Score on training set :  0.2860125260960334\n",
      "F1-Score on test set :  0.293040293040293\n"
     ]
    }
   ],
   "source": [
    "lda_model = LinearDiscriminantAnalysis(n_components=1)\n",
    "lda_model.fit(X_train,y_train)\n",
    "y_lda_train_predicted = lda_model.predict(X_train)\n",
    "y_lda_test_predicted = lda_model.predict(X_test)\n",
    "\n",
    "#Using above defined function to get accuracy, recall and precision on train and test set\n",
    "lda_score=get_metrics_score(lda_model, X_train, X_test, y_train, y_test)"
   ]
  },
  {
   "cell_type": "code",
   "execution_count": 13,
   "id": "b92f87c8",
   "metadata": {},
   "outputs": [
    {
     "name": "stdout",
     "output_type": "stream",
     "text": [
      "Classification Report for Training Data- \n",
      "               precision    recall  f1-score   support\n",
      "\n",
      "           0       0.82      0.96      0.89      5567\n",
      "           1       0.57      0.19      0.29      1433\n",
      "\n",
      "    accuracy                           0.80      7000\n",
      "   macro avg       0.69      0.58      0.59      7000\n",
      "weighted avg       0.77      0.80      0.76      7000\n",
      "\n",
      "\n",
      "Classification Report for Test Data- \n",
      "               precision    recall  f1-score   support\n",
      "\n",
      "           0       0.83      0.96      0.89      2396\n",
      "           1       0.56      0.20      0.29       604\n",
      "\n",
      "    accuracy                           0.81      3000\n",
      "   macro avg       0.69      0.58      0.59      3000\n",
      "weighted avg       0.77      0.81      0.77      3000\n",
      "\n",
      "Confusion matrix for the train data- \n",
      " [[5358  209]\n",
      " [1159  274]]\n",
      "\n",
      "Confusion matrix for the test data- \n",
      " [[2301   95]\n",
      " [ 484  120]]\n"
     ]
    }
   ],
   "source": [
    "print('Classification Report for Training Data- \\n',classification_report(y_train, y_lda_train_predicted))\n",
    "print('\\nClassification Report for Test Data- \\n',classification_report(y_test, y_lda_test_predicted))\n",
    "print('Confusion matrix for the train data- \\n',confusion_matrix(y_train, y_lda_train_predicted))\n",
    "print('\\nConfusion matrix for the test data- \\n',confusion_matrix(y_test, y_lda_test_predicted))"
   ]
  },
  {
   "cell_type": "markdown",
   "id": "c3ed3efa",
   "metadata": {},
   "source": [
    "## 3 Gaussian Naive Bayes"
   ]
  },
  {
   "cell_type": "code",
   "execution_count": 14,
   "id": "82cd96fb",
   "metadata": {},
   "outputs": [
    {
     "name": "stdout",
     "output_type": "stream",
     "text": [
      "Accuracy on training set :  0.7827142857142857\n",
      "Accuracy on test set :  0.7873333333333333\n",
      "Recall on training set :  0.07606420097697139\n",
      "Recall on test set :  0.0728476821192053\n",
      "Precision on training set :  0.3562091503267974\n",
      "Precision on test set :  0.36065573770491804\n",
      "F1-Score on training set :  0.12535940195514667\n",
      "F1-Score on test set :  0.1212121212121212\n"
     ]
    }
   ],
   "source": [
    "GNB_model = GaussianNB()\n",
    "GNB_model.fit(X_train, y_train)\n",
    "\n",
    "# make predictions for train data\n",
    "y_gnb_train_predicted = GNB_model.predict(X_train)\n",
    "# make predictions for test data\n",
    "y_gnb_test_predicted = GNB_model.predict(X_test)\n",
    "#Using above defined function to get accuracy, recall and precision on train and test set\n",
    "gnb_score=get_metrics_score(GNB_model, X_train, X_test, y_train, y_test)"
   ]
  },
  {
   "cell_type": "code",
   "execution_count": 15,
   "id": "b83408eb",
   "metadata": {},
   "outputs": [
    {
     "name": "stdout",
     "output_type": "stream",
     "text": [
      "Classification Report for Training Data- \n",
      "               precision    recall  f1-score   support\n",
      "\n",
      "           0       0.80      0.96      0.88      5567\n",
      "           1       0.36      0.08      0.13      1433\n",
      "\n",
      "    accuracy                           0.78      7000\n",
      "   macro avg       0.58      0.52      0.50      7000\n",
      "weighted avg       0.71      0.78      0.72      7000\n",
      "\n",
      "\n",
      "Classification Report for Test Data- \n",
      "               precision    recall  f1-score   support\n",
      "\n",
      "           0       0.81      0.97      0.88      2396\n",
      "           1       0.36      0.07      0.12       604\n",
      "\n",
      "    accuracy                           0.79      3000\n",
      "   macro avg       0.58      0.52      0.50      3000\n",
      "weighted avg       0.72      0.79      0.73      3000\n",
      "\n",
      "Confusion matrix for the train data- \n",
      " [[5370  197]\n",
      " [1324  109]]\n",
      "\n",
      "Confusion matrix for the test data- \n",
      " [[2318   78]\n",
      " [ 560   44]]\n"
     ]
    }
   ],
   "source": [
    "# summarize the fit of the model\n",
    "print('Classification Report for Training Data- \\n',classification_report(y_train, y_gnb_train_predicted))\n",
    "print('\\nClassification Report for Test Data- \\n',classification_report(y_test, y_gnb_test_predicted))\n",
    "print('Confusion matrix for the train data- \\n',confusion_matrix(y_train, y_gnb_train_predicted))\n",
    "print('\\nConfusion matrix for the test data- \\n',confusion_matrix(y_test, y_gnb_test_predicted))"
   ]
  },
  {
   "cell_type": "markdown",
   "id": "4bd050e8",
   "metadata": {},
   "source": [
    "## 4. Decision Tree Classifier"
   ]
  },
  {
   "cell_type": "code",
   "execution_count": 16,
   "id": "d8ec1146",
   "metadata": {},
   "outputs": [
    {
     "name": "stdout",
     "output_type": "stream",
     "text": [
      "Decision Tree Score is  1.0\n",
      "Accuracy on training set :  1.0\n",
      "Accuracy on test set :  0.8056666666666666\n",
      "Recall on training set :  1.0\n",
      "Recall on test set :  0.47019867549668876\n",
      "Precision on training set :  1.0\n",
      "Precision on test set :  0.5191956124314442\n",
      "F1-Score on training set :  1.0\n",
      "F1-Score on test set :  0.49348392701998256\n",
      "Classification report for the training data \n",
      "               precision    recall  f1-score   support\n",
      "\n",
      "           0       1.00      1.00      1.00      5567\n",
      "           1       1.00      1.00      1.00      1433\n",
      "\n",
      "    accuracy                           1.00      7000\n",
      "   macro avg       1.00      1.00      1.00      7000\n",
      "weighted avg       1.00      1.00      1.00      7000\n",
      "\n",
      "Classification report for the test data \n",
      "               precision    recall  f1-score   support\n",
      "\n",
      "           0       0.87      0.89      0.88      2396\n",
      "           1       0.52      0.47      0.49       604\n",
      "\n",
      "    accuracy                           0.81      3000\n",
      "   macro avg       0.69      0.68      0.69      3000\n",
      "weighted avg       0.80      0.81      0.80      3000\n",
      "\n",
      "Confusion matrix for the train data- \n",
      " [[5567    0]\n",
      " [   0 1433]]\n",
      "\n",
      "Confusion matrix for the test data- \n",
      " [[2133  263]\n",
      " [ 320  284]]\n"
     ]
    }
   ],
   "source": [
    "dt_model = DecisionTreeClassifier(class_weight='balanced')\n",
    "dt_model.fit(X_train,y_train)\n",
    "y_dt_train_predicted = dt_model.predict(X_train)\n",
    "y_dt_test_predicted = dt_model.predict(X_test)\n",
    "print('Decision Tree Score is ',dt_model.score(X_train, y_train))\n",
    "dt_score=gnb_score=get_metrics_score(dt_model, X_train, X_test, y_train, y_test)\n",
    "\n",
    "# summarize the fit of the model\n",
    "print('Classification report for the training data \\n',classification_report(y_train, y_dt_train_predicted))\n",
    "print('Classification report for the test data \\n',classification_report(y_test, y_dt_test_predicted))\n",
    "print('Confusion matrix for the train data- \\n',confusion_matrix(y_train, y_dt_train_predicted))\n",
    "print('\\nConfusion matrix for the test data- \\n',confusion_matrix(y_test, y_dt_test_predicted))"
   ]
  },
  {
   "cell_type": "markdown",
   "id": "123353b6",
   "metadata": {},
   "source": [
    "## 5. GridSearch on Decision Tree Classifier"
   ]
  },
  {
   "cell_type": "code",
   "execution_count": 18,
   "id": "65accc1e",
   "metadata": {},
   "outputs": [
    {
     "name": "stdout",
     "output_type": "stream",
     "text": [
      "Fitting 5 folds for each of 420 candidates, totalling 2100 fits\n"
     ]
    },
    {
     "data": {
      "text/html": [
       "<style>#sk-container-id-1 {color: black;background-color: white;}#sk-container-id-1 pre{padding: 0;}#sk-container-id-1 div.sk-toggleable {background-color: white;}#sk-container-id-1 label.sk-toggleable__label {cursor: pointer;display: block;width: 100%;margin-bottom: 0;padding: 0.3em;box-sizing: border-box;text-align: center;}#sk-container-id-1 label.sk-toggleable__label-arrow:before {content: \"▸\";float: left;margin-right: 0.25em;color: #696969;}#sk-container-id-1 label.sk-toggleable__label-arrow:hover:before {color: black;}#sk-container-id-1 div.sk-estimator:hover label.sk-toggleable__label-arrow:before {color: black;}#sk-container-id-1 div.sk-toggleable__content {max-height: 0;max-width: 0;overflow: hidden;text-align: left;background-color: #f0f8ff;}#sk-container-id-1 div.sk-toggleable__content pre {margin: 0.2em;color: black;border-radius: 0.25em;background-color: #f0f8ff;}#sk-container-id-1 input.sk-toggleable__control:checked~div.sk-toggleable__content {max-height: 200px;max-width: 100%;overflow: auto;}#sk-container-id-1 input.sk-toggleable__control:checked~label.sk-toggleable__label-arrow:before {content: \"▾\";}#sk-container-id-1 div.sk-estimator input.sk-toggleable__control:checked~label.sk-toggleable__label {background-color: #d4ebff;}#sk-container-id-1 div.sk-label input.sk-toggleable__control:checked~label.sk-toggleable__label {background-color: #d4ebff;}#sk-container-id-1 input.sk-hidden--visually {border: 0;clip: rect(1px 1px 1px 1px);clip: rect(1px, 1px, 1px, 1px);height: 1px;margin: -1px;overflow: hidden;padding: 0;position: absolute;width: 1px;}#sk-container-id-1 div.sk-estimator {font-family: monospace;background-color: #f0f8ff;border: 1px dotted black;border-radius: 0.25em;box-sizing: border-box;margin-bottom: 0.5em;}#sk-container-id-1 div.sk-estimator:hover {background-color: #d4ebff;}#sk-container-id-1 div.sk-parallel-item::after {content: \"\";width: 100%;border-bottom: 1px solid gray;flex-grow: 1;}#sk-container-id-1 div.sk-label:hover label.sk-toggleable__label {background-color: #d4ebff;}#sk-container-id-1 div.sk-serial::before {content: \"\";position: absolute;border-left: 1px solid gray;box-sizing: border-box;top: 0;bottom: 0;left: 50%;z-index: 0;}#sk-container-id-1 div.sk-serial {display: flex;flex-direction: column;align-items: center;background-color: white;padding-right: 0.2em;padding-left: 0.2em;position: relative;}#sk-container-id-1 div.sk-item {position: relative;z-index: 1;}#sk-container-id-1 div.sk-parallel {display: flex;align-items: stretch;justify-content: center;background-color: white;position: relative;}#sk-container-id-1 div.sk-item::before, #sk-container-id-1 div.sk-parallel-item::before {content: \"\";position: absolute;border-left: 1px solid gray;box-sizing: border-box;top: 0;bottom: 0;left: 50%;z-index: -1;}#sk-container-id-1 div.sk-parallel-item {display: flex;flex-direction: column;z-index: 1;position: relative;background-color: white;}#sk-container-id-1 div.sk-parallel-item:first-child::after {align-self: flex-end;width: 50%;}#sk-container-id-1 div.sk-parallel-item:last-child::after {align-self: flex-start;width: 50%;}#sk-container-id-1 div.sk-parallel-item:only-child::after {width: 0;}#sk-container-id-1 div.sk-dashed-wrapped {border: 1px dashed gray;margin: 0 0.4em 0.5em 0.4em;box-sizing: border-box;padding-bottom: 0.4em;background-color: white;}#sk-container-id-1 div.sk-label label {font-family: monospace;font-weight: bold;display: inline-block;line-height: 1.2em;}#sk-container-id-1 div.sk-label-container {text-align: center;}#sk-container-id-1 div.sk-container {/* jupyter's `normalize.less` sets `[hidden] { display: none; }` but bootstrap.min.css set `[hidden] { display: none !important; }` so we also need the `!important` here to be able to override the default hidden behavior on the sphinx rendered scikit-learn.org. See: https://github.com/scikit-learn/scikit-learn/issues/21755 */display: inline-block !important;position: relative;}#sk-container-id-1 div.sk-text-repr-fallback {display: none;}</style><div id=\"sk-container-id-1\" class=\"sk-top-container\"><div class=\"sk-text-repr-fallback\"><pre>GridSearchCV(cv=5, estimator=DecisionTreeClassifier(), n_jobs=-1,\n",
       "             param_grid={&#x27;class_weight&#x27;: [&#x27;balanced&#x27;],\n",
       "                         &#x27;criterion&#x27;: [&#x27;gini&#x27;, &#x27;entropy&#x27;],\n",
       "                         &#x27;max_depth&#x27;: [10, 15, 20, 25, 30],\n",
       "                         &#x27;min_samples_leaf&#x27;: [9, 12, 15, 18, 21, 24],\n",
       "                         &#x27;min_samples_split&#x27;: [3, 6, 9, 12, 15, 30, 35]},\n",
       "             verbose=True)</pre><b>In a Jupyter environment, please rerun this cell to show the HTML representation or trust the notebook. <br />On GitHub, the HTML representation is unable to render, please try loading this page with nbviewer.org.</b></div><div class=\"sk-container\" hidden><div class=\"sk-item sk-dashed-wrapped\"><div class=\"sk-label-container\"><div class=\"sk-label sk-toggleable\"><input class=\"sk-toggleable__control sk-hidden--visually\" id=\"sk-estimator-id-1\" type=\"checkbox\" ><label for=\"sk-estimator-id-1\" class=\"sk-toggleable__label sk-toggleable__label-arrow\">GridSearchCV</label><div class=\"sk-toggleable__content\"><pre>GridSearchCV(cv=5, estimator=DecisionTreeClassifier(), n_jobs=-1,\n",
       "             param_grid={&#x27;class_weight&#x27;: [&#x27;balanced&#x27;],\n",
       "                         &#x27;criterion&#x27;: [&#x27;gini&#x27;, &#x27;entropy&#x27;],\n",
       "                         &#x27;max_depth&#x27;: [10, 15, 20, 25, 30],\n",
       "                         &#x27;min_samples_leaf&#x27;: [9, 12, 15, 18, 21, 24],\n",
       "                         &#x27;min_samples_split&#x27;: [3, 6, 9, 12, 15, 30, 35]},\n",
       "             verbose=True)</pre></div></div></div><div class=\"sk-parallel\"><div class=\"sk-parallel-item\"><div class=\"sk-item\"><div class=\"sk-label-container\"><div class=\"sk-label sk-toggleable\"><input class=\"sk-toggleable__control sk-hidden--visually\" id=\"sk-estimator-id-2\" type=\"checkbox\" ><label for=\"sk-estimator-id-2\" class=\"sk-toggleable__label sk-toggleable__label-arrow\">estimator: DecisionTreeClassifier</label><div class=\"sk-toggleable__content\"><pre>DecisionTreeClassifier()</pre></div></div></div><div class=\"sk-serial\"><div class=\"sk-item\"><div class=\"sk-estimator sk-toggleable\"><input class=\"sk-toggleable__control sk-hidden--visually\" id=\"sk-estimator-id-3\" type=\"checkbox\" ><label for=\"sk-estimator-id-3\" class=\"sk-toggleable__label sk-toggleable__label-arrow\">DecisionTreeClassifier</label><div class=\"sk-toggleable__content\"><pre>DecisionTreeClassifier()</pre></div></div></div></div></div></div></div></div></div></div>"
      ],
      "text/plain": [
       "GridSearchCV(cv=5, estimator=DecisionTreeClassifier(), n_jobs=-1,\n",
       "             param_grid={'class_weight': ['balanced'],\n",
       "                         'criterion': ['gini', 'entropy'],\n",
       "                         'max_depth': [10, 15, 20, 25, 30],\n",
       "                         'min_samples_leaf': [9, 12, 15, 18, 21, 24],\n",
       "                         'min_samples_split': [3, 6, 9, 12, 15, 30, 35]},\n",
       "             verbose=True)"
      ]
     },
     "execution_count": 18,
     "metadata": {},
     "output_type": "execute_result"
    }
   ],
   "source": [
    "param_grid = {\n",
    "        'max_depth' : [10,15,20,25,30], # maximum number of levels allowed in each decision tree\n",
    "        'min_samples_split' : [3,6,9,12,15,30,35], # minimum sample number to split a node\n",
    "        'min_samples_leaf' : [9,12,15,18,21,24],\n",
    "        'criterion' :['gini', 'entropy'],\n",
    "        'class_weight': ['balanced']\n",
    "    \n",
    "}\n",
    "\n",
    "dt_tuned = DecisionTreeClassifier()\n",
    "\n",
    "gs_dt = GridSearchCV(estimator = dt_tuned, \n",
    "                      param_grid = param_grid, \n",
    "                      cv = 5,\n",
    "                      verbose = True,\n",
    "                      n_jobs= -1\n",
    "                      )\n",
    "\n",
    "gs_dt.fit(X_train, y_train)"
   ]
  },
  {
   "cell_type": "code",
   "execution_count": 19,
   "id": "48cdfb03",
   "metadata": {},
   "outputs": [
    {
     "name": "stdout",
     "output_type": "stream",
     "text": [
      "Best Params are- {'class_weight': 'balanced', 'criterion': 'entropy', 'max_depth': 10, 'min_samples_leaf': 9, 'min_samples_split': 15}\n",
      "\n",
      "\n",
      "Best Score is- 0.7581428571428571\n",
      "Accuracy on training set :  0.818\n",
      "Accuracy on test set :  0.756\n",
      "Recall on training set :  0.8681088625261689\n",
      "Recall on test set :  0.6771523178807947\n",
      "Precision on training set :  0.5341348218119365\n",
      "Precision on test set :  0.4323467230443975\n",
      "F1-Score on training set :  0.6613503455608719\n",
      "F1-Score on test set :  0.5277419354838709\n"
     ]
    }
   ],
   "source": [
    "print('Best Params are-', gs_dt.best_params_)\n",
    "print('\\n\\nBest Score is-',gs_dt.best_score_)\n",
    "\n",
    "# Set the clf to the best combination of parameters\n",
    "gs_dt_tuned = gs_dt.best_estimator_\n",
    "\n",
    "gs_dt_tuned.fit(X_train, y_train)\n",
    "\n",
    "y_gs_dt_train_predicted = gs_dt_tuned.predict(X_train)\n",
    "\n",
    "y_gs_dt_test_predicted = gs_dt_tuned.predict(X_test)\n",
    "\n",
    "dt_score=get_metrics_score(gs_dt_tuned,X_train, X_test, y_train, y_test)"
   ]
  },
  {
   "cell_type": "code",
   "execution_count": 20,
   "id": "f3eff446",
   "metadata": {},
   "outputs": [
    {
     "data": {
      "text/plain": [
       "Text(0.5, 0, 'Decision Tree Feature Importance')"
      ]
     },
     "execution_count": 20,
     "metadata": {},
     "output_type": "execute_result"
    },
    {
     "data": {
      "image/png": "[encoded data removed]",
      "text/plain": [
       "<Figure size 640x480 with 1 Axes>"
      ]
     },
     "metadata": {},
     "output_type": "display_data"
    }
   ],
   "source": [
    "sorted_idx = gs_dt_tuned.feature_importances_.argsort()\n",
    "plt.barh(X_train.columns,gs_dt_tuned.feature_importances_[sorted_idx])\n",
    "plt.xlabel(\"Decision Tree Feature Importance\")"
   ]
  },
  {
   "cell_type": "markdown",
   "id": "7ef04c61",
   "metadata": {},
   "source": [
    "## 6. Random Forest Ensemble Technique"
   ]
  },
  {
   "cell_type": "code",
   "execution_count": 21,
   "id": "ff76281e",
   "metadata": {},
   "outputs": [
    {
     "name": "stdout",
     "output_type": "stream",
     "text": [
      "Accuracy on training set :  0.832\n",
      "Accuracy on test set :  0.806\n",
      "Recall on training set :  0.7634333565945569\n",
      "Recall on test set :  0.6672185430463576\n",
      "Precision on training set :  0.5665458311755567\n",
      "Precision on test set :  0.514030612244898\n",
      "F1-Score on training set :  0.6504161712247325\n",
      "F1-Score on test set :  0.5806916426512969\n",
      "\n",
      "\n",
      "Classification report for the training data \n",
      "               precision    recall  f1-score   support\n",
      "\n",
      "           0       0.93      0.85      0.89      5567\n",
      "           1       0.57      0.76      0.65      1433\n",
      "\n",
      "    accuracy                           0.83      7000\n",
      "   macro avg       0.75      0.81      0.77      7000\n",
      "weighted avg       0.86      0.83      0.84      7000\n",
      "\n",
      "Classification report for the test data \n",
      "               precision    recall  f1-score   support\n",
      "\n",
      "           0       0.91      0.84      0.87      2396\n",
      "           1       0.51      0.67      0.58       604\n",
      "\n",
      "    accuracy                           0.81      3000\n",
      "   macro avg       0.71      0.75      0.73      3000\n",
      "weighted avg       0.83      0.81      0.81      3000\n",
      "\n",
      "Confusion matrix for the train data- \n",
      " [[4730  837]\n",
      " [ 339 1094]]\n",
      "\n",
      "Confusion matrix for the test data- \n",
      " [[2015  381]\n",
      " [ 201  403]]\n"
     ]
    }
   ],
   "source": [
    "RF_model=RandomForestClassifier(max_depth=7,max_features=5,min_samples_leaf=10,min_samples_split=25,n_estimators=40,\n",
    "                                class_weight='balanced',random_state=1)\n",
    "RF_model.fit(X_train, y_train)\n",
    "\n",
    "y_rf_train_predicted = RF_model.predict(X_train)\n",
    "y_rf_test_predicted = RF_model.predict(X_test)\n",
    "rf_score=get_metrics_score(RF_model,X_train, X_test, y_train, y_test)\n",
    "\n",
    "# summarize the fit of the model\n",
    "print('\\n\\nClassification report for the training data \\n',classification_report(y_train, y_rf_train_predicted))\n",
    "print('Classification report for the test data \\n',classification_report(y_test, y_rf_test_predicted))\n",
    "print('Confusion matrix for the train data- \\n',confusion_matrix(y_train, y_rf_train_predicted))\n",
    "print('\\nConfusion matrix for the test data- \\n',confusion_matrix(y_test, y_rf_test_predicted))"
   ]
  },
  {
   "cell_type": "markdown",
   "id": "2056570c",
   "metadata": {},
   "source": [
    "## 7. RandomForest Tuned"
   ]
  },
  {
   "cell_type": "code",
   "execution_count": 22,
   "id": "d0ee655b",
   "metadata": {},
   "outputs": [
    {
     "name": "stdout",
     "output_type": "stream",
     "text": [
      "Fitting 3 folds for each of 768 candidates, totalling 2304 fits\n"
     ]
    },
    {
     "data": {
      "text/html": [
       "<style>#sk-container-id-2 {color: black;background-color: white;}#sk-container-id-2 pre{padding: 0;}#sk-container-id-2 div.sk-toggleable {background-color: white;}#sk-container-id-2 label.sk-toggleable__label {cursor: pointer;display: block;width: 100%;margin-bottom: 0;padding: 0.3em;box-sizing: border-box;text-align: center;}#sk-container-id-2 label.sk-toggleable__label-arrow:before {content: \"▸\";float: left;margin-right: 0.25em;color: #696969;}#sk-container-id-2 label.sk-toggleable__label-arrow:hover:before {color: black;}#sk-container-id-2 div.sk-estimator:hover label.sk-toggleable__label-arrow:before {color: black;}#sk-container-id-2 div.sk-toggleable__content {max-height: 0;max-width: 0;overflow: hidden;text-align: left;background-color: #f0f8ff;}#sk-container-id-2 div.sk-toggleable__content pre {margin: 0.2em;color: black;border-radius: 0.25em;background-color: #f0f8ff;}#sk-container-id-2 input.sk-toggleable__control:checked~div.sk-toggleable__content {max-height: 200px;max-width: 100%;overflow: auto;}#sk-container-id-2 input.sk-toggleable__control:checked~label.sk-toggleable__label-arrow:before {content: \"▾\";}#sk-container-id-2 div.sk-estimator input.sk-toggleable__control:checked~label.sk-toggleable__label {background-color: #d4ebff;}#sk-container-id-2 div.sk-label input.sk-toggleable__control:checked~label.sk-toggleable__label {background-color: #d4ebff;}#sk-container-id-2 input.sk-hidden--visually {border: 0;clip: rect(1px 1px 1px 1px);clip: rect(1px, 1px, 1px, 1px);height: 1px;margin: -1px;overflow: hidden;padding: 0;position: absolute;width: 1px;}#sk-container-id-2 div.sk-estimator {font-family: monospace;background-color: #f0f8ff;border: 1px dotted black;border-radius: 0.25em;box-sizing: border-box;margin-bottom: 0.5em;}#sk-container-id-2 div.sk-estimator:hover {background-color: #d4ebff;}#sk-container-id-2 div.sk-parallel-item::after {content: \"\";width: 100%;border-bottom: 1px solid gray;flex-grow: 1;}#sk-container-id-2 div.sk-label:hover label.sk-toggleable__label {background-color: #d4ebff;}#sk-container-id-2 div.sk-serial::before {content: \"\";position: absolute;border-left: 1px solid gray;box-sizing: border-box;top: 0;bottom: 0;left: 50%;z-index: 0;}#sk-container-id-2 div.sk-serial {display: flex;flex-direction: column;align-items: center;background-color: white;padding-right: 0.2em;padding-left: 0.2em;position: relative;}#sk-container-id-2 div.sk-item {position: relative;z-index: 1;}#sk-container-id-2 div.sk-parallel {display: flex;align-items: stretch;justify-content: center;background-color: white;position: relative;}#sk-container-id-2 div.sk-item::before, #sk-container-id-2 div.sk-parallel-item::before {content: \"\";position: absolute;border-left: 1px solid gray;box-sizing: border-box;top: 0;bottom: 0;left: 50%;z-index: -1;}#sk-container-id-2 div.sk-parallel-item {display: flex;flex-direction: column;z-index: 1;position: relative;background-color: white;}#sk-container-id-2 div.sk-parallel-item:first-child::after {align-self: flex-end;width: 50%;}#sk-container-id-2 div.sk-parallel-item:last-child::after {align-self: flex-start;width: 50%;}#sk-container-id-2 div.sk-parallel-item:only-child::after {width: 0;}#sk-container-id-2 div.sk-dashed-wrapped {border: 1px dashed gray;margin: 0 0.4em 0.5em 0.4em;box-sizing: border-box;padding-bottom: 0.4em;background-color: white;}#sk-container-id-2 div.sk-label label {font-family: monospace;font-weight: bold;display: inline-block;line-height: 1.2em;}#sk-container-id-2 div.sk-label-container {text-align: center;}#sk-container-id-2 div.sk-container {/* jupyter's `normalize.less` sets `[hidden] { display: none; }` but bootstrap.min.css set `[hidden] { display: none !important; }` so we also need the `!important` here to be able to override the default hidden behavior on the sphinx rendered scikit-learn.org. See: https://github.com/scikit-learn/scikit-learn/issues/21755 */display: inline-block !important;position: relative;}#sk-container-id-2 div.sk-text-repr-fallback {display: none;}</style><div id=\"sk-container-id-2\" class=\"sk-top-container\"><div class=\"sk-text-repr-fallback\"><pre>GridSearchCV(cv=3, estimator=RandomForestClassifier(random_state=123),\n",
       "             n_jobs=-1,\n",
       "             param_grid={&#x27;class_weight&#x27;: [&#x27;balanced&#x27;],\n",
       "                         &#x27;max_depth&#x27;: [5, 7, 10, 15],\n",
       "                         &#x27;max_features&#x27;: [3, 5, 7, 9],\n",
       "                         &#x27;min_samples_leaf&#x27;: [10, 12, 15, 18],\n",
       "                         &#x27;min_samples_split&#x27;: [3, 6, 9, 12],\n",
       "                         &#x27;n_estimators&#x27;: [25, 30, 35]},\n",
       "             verbose=True)</pre><b>In a Jupyter environment, please rerun this cell to show the HTML representation or trust the notebook. <br />On GitHub, the HTML representation is unable to render, please try loading this page with nbviewer.org.</b></div><div class=\"sk-container\" hidden><div class=\"sk-item sk-dashed-wrapped\"><div class=\"sk-label-container\"><div class=\"sk-label sk-toggleable\"><input class=\"sk-toggleable__control sk-hidden--visually\" id=\"sk-estimator-id-4\" type=\"checkbox\" ><label for=\"sk-estimator-id-4\" class=\"sk-toggleable__label sk-toggleable__label-arrow\">GridSearchCV</label><div class=\"sk-toggleable__content\"><pre>GridSearchCV(cv=3, estimator=RandomForestClassifier(random_state=123),\n",
       "             n_jobs=-1,\n",
       "             param_grid={&#x27;class_weight&#x27;: [&#x27;balanced&#x27;],\n",
       "                         &#x27;max_depth&#x27;: [5, 7, 10, 15],\n",
       "                         &#x27;max_features&#x27;: [3, 5, 7, 9],\n",
       "                         &#x27;min_samples_leaf&#x27;: [10, 12, 15, 18],\n",
       "                         &#x27;min_samples_split&#x27;: [3, 6, 9, 12],\n",
       "                         &#x27;n_estimators&#x27;: [25, 30, 35]},\n",
       "             verbose=True)</pre></div></div></div><div class=\"sk-parallel\"><div class=\"sk-parallel-item\"><div class=\"sk-item\"><div class=\"sk-label-container\"><div class=\"sk-label sk-toggleable\"><input class=\"sk-toggleable__control sk-hidden--visually\" id=\"sk-estimator-id-5\" type=\"checkbox\" ><label for=\"sk-estimator-id-5\" class=\"sk-toggleable__label sk-toggleable__label-arrow\">estimator: RandomForestClassifier</label><div class=\"sk-toggleable__content\"><pre>RandomForestClassifier(random_state=123)</pre></div></div></div><div class=\"sk-serial\"><div class=\"sk-item\"><div class=\"sk-estimator sk-toggleable\"><input class=\"sk-toggleable__control sk-hidden--visually\" id=\"sk-estimator-id-6\" type=\"checkbox\" ><label for=\"sk-estimator-id-6\" class=\"sk-toggleable__label sk-toggleable__label-arrow\">RandomForestClassifier</label><div class=\"sk-toggleable__content\"><pre>RandomForestClassifier(random_state=123)</pre></div></div></div></div></div></div></div></div></div></div>"
      ],
      "text/plain": [
       "GridSearchCV(cv=3, estimator=RandomForestClassifier(random_state=123),\n",
       "             n_jobs=-1,\n",
       "             param_grid={'class_weight': ['balanced'],\n",
       "                         'max_depth': [5, 7, 10, 15],\n",
       "                         'max_features': [3, 5, 7, 9],\n",
       "                         'min_samples_leaf': [10, 12, 15, 18],\n",
       "                         'min_samples_split': [3, 6, 9, 12],\n",
       "                         'n_estimators': [25, 30, 35]},\n",
       "             verbose=True)"
      ]
     },
     "execution_count": 22,
     "metadata": {},
     "output_type": "execute_result"
    }
   ],
   "source": [
    "param_grid = {\n",
    "        #'max_depth': [5,7,9,11,13],\n",
    "        'max_features': [3,5,7,9],\n",
    "        'n_estimators': [25,30,35], # number of trees in the random forest\n",
    "        'max_depth' : [5,7,10,15], # maximum number of levels allowed in each decision tree\n",
    "        'min_samples_split' : [3,6,9,12], #,15,20,25,30, # minimum sample number to split a node\n",
    "        'min_samples_leaf' : [10,12,15,18], # minimum sample number that can be stored in a leaf node\n",
    "        'class_weight': ['balanced']\n",
    "}\n",
    "\n",
    "rf_tuned = RandomForestClassifier(random_state=123)\n",
    "\n",
    "gs_rf = GridSearchCV(estimator = rf_tuned, \n",
    "                      param_grid = param_grid, \n",
    "                      cv = 3,\n",
    "                      verbose = True,\n",
    "                      n_jobs= -1\n",
    "                      )\n",
    "\n",
    "gs_rf.fit(X_train, y_train)"
   ]
  },
  {
   "cell_type": "code",
   "execution_count": 23,
   "id": "7af0b7db",
   "metadata": {},
   "outputs": [
    {
     "name": "stdout",
     "output_type": "stream",
     "text": [
      "Best Params are- {'class_weight': 'balanced', 'max_depth': 15, 'max_features': 9, 'min_samples_leaf': 10, 'min_samples_split': 3, 'n_estimators': 35}\n",
      "\n",
      "\n",
      "Best Score is- 0.8277139726044839\n",
      "\n",
      "Classification report for the training data \n",
      "               precision    recall  f1-score   support\n",
      "\n",
      "           0       0.96      0.90      0.93      5567\n",
      "           1       0.69      0.86      0.77      1433\n",
      "\n",
      "    accuracy                           0.89      7000\n",
      "   macro avg       0.83      0.88      0.85      7000\n",
      "weighted avg       0.91      0.89      0.90      7000\n",
      "\n",
      "Classification report for the test data \n",
      "               precision    recall  f1-score   support\n",
      "\n",
      "           0       0.91      0.87      0.89      2396\n",
      "           1       0.57      0.65      0.61       604\n",
      "\n",
      "    accuracy                           0.83      3000\n",
      "   macro avg       0.74      0.76      0.75      3000\n",
      "weighted avg       0.84      0.83      0.83      3000\n",
      "\n",
      "Confusion matrix for the train data- \n",
      " [[5023  544]\n",
      " [ 205 1228]]\n",
      "\n",
      "Confusion matrix for the test data- \n",
      " [[2094  302]\n",
      " [ 209  395]]\n"
     ]
    }
   ],
   "source": [
    "print('Best Params are-', gs_rf.best_params_)\n",
    "print('\\n\\nBest Score is-',gs_rf.best_score_)\n",
    "\n",
    "# Set the clf to the best combination of parameters\n",
    "gs_rf_tuned = gs_rf.best_estimator_\n",
    "\n",
    "gs_rf_tuned.fit(X_train, y_train)\n",
    "\n",
    "y_gs_rf_train_predicted = gs_rf_tuned.predict(X_train)\n",
    "y_gs_rf_test_predicted = gs_rf_tuned.predict(X_test)\n",
    "\n",
    "# summarize the fit of the model\n",
    "print('\\nClassification report for the training data \\n',classification_report(y_train, y_gs_rf_train_predicted))\n",
    "print('Classification report for the test data \\n',classification_report(y_test, y_gs_rf_test_predicted))\n",
    "print('Confusion matrix for the train data- \\n',confusion_matrix(y_train, y_gs_rf_train_predicted))\n",
    "print('\\nConfusion matrix for the test data- \\n',confusion_matrix(y_test, y_gs_rf_test_predicted))"
   ]
  },
  {
   "cell_type": "code",
   "execution_count": 24,
   "id": "be336da5",
   "metadata": {},
   "outputs": [
    {
     "data": {
      "text/plain": [
       "Text(0.5, 0, 'Random Forest Feature Importance')"
      ]
     },
     "execution_count": 24,
     "metadata": {},
     "output_type": "execute_result"
    },
    {
     "data": {
      "image/png": "[encoded data removed]",
      "text/plain": [
       "<Figure size 640x480 with 1 Axes>"
      ]
     },
     "metadata": {},
     "output_type": "display_data"
    }
   ],
   "source": [
    "sorted_idx = gs_rf_tuned.feature_importances_.argsort()\n",
    "plt.barh(X_train.columns,gs_rf_tuned.feature_importances_[sorted_idx])\n",
    "plt.xlabel(\"Random Forest Feature Importance\")"
   ]
  },
  {
   "cell_type": "markdown",
   "id": "2a01587d",
   "metadata": {},
   "source": [
    "## 8. Gradient Boosting"
   ]
  },
  {
   "cell_type": "code",
   "execution_count": 28,
   "id": "8ef249fa",
   "metadata": {},
   "outputs": [
    {
     "name": "stdout",
     "output_type": "stream",
     "text": [
      "Accuracy on training set :  0.8741428571428571\n",
      "Accuracy on test set :  0.8633333333333333\n",
      "Recall on training set :  0.4961618981158409\n",
      "Recall on test set :  0.445364238410596\n",
      "Precision on training set :  0.8172413793103448\n",
      "Precision on test set :  0.7819767441860465\n",
      "F1-Score on training set :  0.617455492835432\n",
      "F1-Score on test set :  0.5675105485232067\n",
      "Classification Report for Training Data- \n",
      "               precision    recall  f1-score   support\n",
      "\n",
      "           0       0.88      0.97      0.92      5567\n",
      "           1       0.82      0.50      0.62      1433\n",
      "\n",
      "    accuracy                           0.87      7000\n",
      "   macro avg       0.85      0.73      0.77      7000\n",
      "weighted avg       0.87      0.87      0.86      7000\n",
      "\n",
      "Classification Report for Test Data- \n",
      "               precision    recall  f1-score   support\n",
      "\n",
      "           0       0.87      0.97      0.92      2396\n",
      "           1       0.78      0.45      0.57       604\n",
      "\n",
      "    accuracy                           0.86      3000\n",
      "   macro avg       0.83      0.71      0.74      3000\n",
      "weighted avg       0.86      0.86      0.85      3000\n",
      "\n",
      "Confusion Matrix for Training Data- \n",
      " [[5408  159]\n",
      " [ 722  711]]\n",
      "\n",
      "Confusion Matrix for Test Data - \n",
      " [[2321   75]\n",
      " [ 335  269]]\n"
     ]
    }
   ],
   "source": [
    "gbc_model = GradientBoostingClassifier(random_state=1)\n",
    "gbc_model.fit(X_train,y_train)\n",
    "# make predictions for train data\n",
    "y_gbc_train_predicted = gbc_model.predict(X_train)\n",
    "\n",
    "# make predictions for test data\n",
    "y_gbc_test_predicted = gbc_model.predict(X_test)\n",
    "gbc_score=get_metrics_score(gbc_model,X_train, X_test, y_train, y_test)\n",
    "\n",
    "# summarize the fit of the model\n",
    "print('Classification Report for Training Data- \\n',classification_report(y_train, y_gbc_train_predicted))\n",
    "print('Classification Report for Test Data- \\n',classification_report(y_test, y_gbc_test_predicted))\n",
    "print('Confusion Matrix for Training Data- \\n',confusion_matrix(y_train, y_gbc_train_predicted))\n",
    "print('\\nConfusion Matrix for Test Data - \\n',confusion_matrix(y_test, y_gbc_test_predicted))"
   ]
  },
  {
   "cell_type": "markdown",
   "id": "aa7d52b2",
   "metadata": {},
   "source": [
    "## 9. Gradient Boosting Tuned"
   ]
  },
  {
   "cell_type": "code",
   "execution_count": 29,
   "id": "08df51b5",
   "metadata": {},
   "outputs": [
    {
     "name": "stdout",
     "output_type": "stream",
     "text": [
      "Fitting 3 folds for each of 480 candidates, totalling 1440 fits\n"
     ]
    },
    {
     "data": {
      "text/html": [
       "<style>#sk-container-id-3 {color: black;background-color: white;}#sk-container-id-3 pre{padding: 0;}#sk-container-id-3 div.sk-toggleable {background-color: white;}#sk-container-id-3 label.sk-toggleable__label {cursor: pointer;display: block;width: 100%;margin-bottom: 0;padding: 0.3em;box-sizing: border-box;text-align: center;}#sk-container-id-3 label.sk-toggleable__label-arrow:before {content: \"▸\";float: left;margin-right: 0.25em;color: #696969;}#sk-container-id-3 label.sk-toggleable__label-arrow:hover:before {color: black;}#sk-container-id-3 div.sk-estimator:hover label.sk-toggleable__label-arrow:before {color: black;}#sk-container-id-3 div.sk-toggleable__content {max-height: 0;max-width: 0;overflow: hidden;text-align: left;background-color: #f0f8ff;}#sk-container-id-3 div.sk-toggleable__content pre {margin: 0.2em;color: black;border-radius: 0.25em;background-color: #f0f8ff;}#sk-container-id-3 input.sk-toggleable__control:checked~div.sk-toggleable__content {max-height: 200px;max-width: 100%;overflow: auto;}#sk-container-id-3 input.sk-toggleable__control:checked~label.sk-toggleable__label-arrow:before {content: \"▾\";}#sk-container-id-3 div.sk-estimator input.sk-toggleable__control:checked~label.sk-toggleable__label {background-color: #d4ebff;}#sk-container-id-3 div.sk-label input.sk-toggleable__control:checked~label.sk-toggleable__label {background-color: #d4ebff;}#sk-container-id-3 input.sk-hidden--visually {border: 0;clip: rect(1px 1px 1px 1px);clip: rect(1px, 1px, 1px, 1px);height: 1px;margin: -1px;overflow: hidden;padding: 0;position: absolute;width: 1px;}#sk-container-id-3 div.sk-estimator {font-family: monospace;background-color: #f0f8ff;border: 1px dotted black;border-radius: 0.25em;box-sizing: border-box;margin-bottom: 0.5em;}#sk-container-id-3 div.sk-estimator:hover {background-color: #d4ebff;}#sk-container-id-3 div.sk-parallel-item::after {content: \"\";width: 100%;border-bottom: 1px solid gray;flex-grow: 1;}#sk-container-id-3 div.sk-label:hover label.sk-toggleable__label {background-color: #d4ebff;}#sk-container-id-3 div.sk-serial::before {content: \"\";position: absolute;border-left: 1px solid gray;box-sizing: border-box;top: 0;bottom: 0;left: 50%;z-index: 0;}#sk-container-id-3 div.sk-serial {display: flex;flex-direction: column;align-items: center;background-color: white;padding-right: 0.2em;padding-left: 0.2em;position: relative;}#sk-container-id-3 div.sk-item {position: relative;z-index: 1;}#sk-container-id-3 div.sk-parallel {display: flex;align-items: stretch;justify-content: center;background-color: white;position: relative;}#sk-container-id-3 div.sk-item::before, #sk-container-id-3 div.sk-parallel-item::before {content: \"\";position: absolute;border-left: 1px solid gray;box-sizing: border-box;top: 0;bottom: 0;left: 50%;z-index: -1;}#sk-container-id-3 div.sk-parallel-item {display: flex;flex-direction: column;z-index: 1;position: relative;background-color: white;}#sk-container-id-3 div.sk-parallel-item:first-child::after {align-self: flex-end;width: 50%;}#sk-container-id-3 div.sk-parallel-item:last-child::after {align-self: flex-start;width: 50%;}#sk-container-id-3 div.sk-parallel-item:only-child::after {width: 0;}#sk-container-id-3 div.sk-dashed-wrapped {border: 1px dashed gray;margin: 0 0.4em 0.5em 0.4em;box-sizing: border-box;padding-bottom: 0.4em;background-color: white;}#sk-container-id-3 div.sk-label label {font-family: monospace;font-weight: bold;display: inline-block;line-height: 1.2em;}#sk-container-id-3 div.sk-label-container {text-align: center;}#sk-container-id-3 div.sk-container {/* jupyter's `normalize.less` sets `[hidden] { display: none; }` but bootstrap.min.css set `[hidden] { display: none !important; }` so we also need the `!important` here to be able to override the default hidden behavior on the sphinx rendered scikit-learn.org. See: https://github.com/scikit-learn/scikit-learn/issues/21755 */display: inline-block !important;position: relative;}#sk-container-id-3 div.sk-text-repr-fallback {display: none;}</style><div id=\"sk-container-id-3\" class=\"sk-top-container\"><div class=\"sk-text-repr-fallback\"><pre>GridSearchCV(cv=3, estimator=GradientBoostingClassifier(random_state=1),\n",
       "             n_jobs=-1,\n",
       "             param_grid={&#x27;learning_rate&#x27;: [0.1],\n",
       "                         &#x27;max_depth&#x27;: [1, 2, 3, 4, 5, 10, 15, 20],\n",
       "                         &#x27;max_features&#x27;: [0.8],\n",
       "                         &#x27;min_samples_leaf&#x27;: [3, 6, 9, 12, 15],\n",
       "                         &#x27;min_samples_split&#x27;: [30, 35, 40, 45],\n",
       "                         &#x27;n_estimators&#x27;: [20, 30, 40], &#x27;subsample&#x27;: [0.9]},\n",
       "             return_train_score=True, verbose=1)</pre><b>In a Jupyter environment, please rerun this cell to show the HTML representation or trust the notebook. <br />On GitHub, the HTML representation is unable to render, please try loading this page with nbviewer.org.</b></div><div class=\"sk-container\" hidden><div class=\"sk-item sk-dashed-wrapped\"><div class=\"sk-label-container\"><div class=\"sk-label sk-toggleable\"><input class=\"sk-toggleable__control sk-hidden--visually\" id=\"sk-estimator-id-7\" type=\"checkbox\" ><label for=\"sk-estimator-id-7\" class=\"sk-toggleable__label sk-toggleable__label-arrow\">GridSearchCV</label><div class=\"sk-toggleable__content\"><pre>GridSearchCV(cv=3, estimator=GradientBoostingClassifier(random_state=1),\n",
       "             n_jobs=-1,\n",
       "             param_grid={&#x27;learning_rate&#x27;: [0.1],\n",
       "                         &#x27;max_depth&#x27;: [1, 2, 3, 4, 5, 10, 15, 20],\n",
       "                         &#x27;max_features&#x27;: [0.8],\n",
       "                         &#x27;min_samples_leaf&#x27;: [3, 6, 9, 12, 15],\n",
       "                         &#x27;min_samples_split&#x27;: [30, 35, 40, 45],\n",
       "                         &#x27;n_estimators&#x27;: [20, 30, 40], &#x27;subsample&#x27;: [0.9]},\n",
       "             return_train_score=True, verbose=1)</pre></div></div></div><div class=\"sk-parallel\"><div class=\"sk-parallel-item\"><div class=\"sk-item\"><div class=\"sk-label-container\"><div class=\"sk-label sk-toggleable\"><input class=\"sk-toggleable__control sk-hidden--visually\" id=\"sk-estimator-id-8\" type=\"checkbox\" ><label for=\"sk-estimator-id-8\" class=\"sk-toggleable__label sk-toggleable__label-arrow\">estimator: GradientBoostingClassifier</label><div class=\"sk-toggleable__content\"><pre>GradientBoostingClassifier(random_state=1)</pre></div></div></div><div class=\"sk-serial\"><div class=\"sk-item\"><div class=\"sk-estimator sk-toggleable\"><input class=\"sk-toggleable__control sk-hidden--visually\" id=\"sk-estimator-id-9\" type=\"checkbox\" ><label for=\"sk-estimator-id-9\" class=\"sk-toggleable__label sk-toggleable__label-arrow\">GradientBoostingClassifier</label><div class=\"sk-toggleable__content\"><pre>GradientBoostingClassifier(random_state=1)</pre></div></div></div></div></div></div></div></div></div></div>"
      ],
      "text/plain": [
       "GridSearchCV(cv=3, estimator=GradientBoostingClassifier(random_state=1),\n",
       "             n_jobs=-1,\n",
       "             param_grid={'learning_rate': [0.1],\n",
       "                         'max_depth': [1, 2, 3, 4, 5, 10, 15, 20],\n",
       "                         'max_features': [0.8],\n",
       "                         'min_samples_leaf': [3, 6, 9, 12, 15],\n",
       "                         'min_samples_split': [30, 35, 40, 45],\n",
       "                         'n_estimators': [20, 30, 40], 'subsample': [0.9]},\n",
       "             return_train_score=True, verbose=1)"
      ]
     },
     "execution_count": 29,
     "metadata": {},
     "output_type": "execute_result"
    }
   ],
   "source": [
    "# Choose the type of classifier. \n",
    "gbc_tuned = GradientBoostingClassifier(random_state=1)\n",
    "\n",
    "# Grid of parameters to choose from article\n",
    "param_grid = {\n",
    "    \"n_estimators\": [20,30,40],\n",
    "    \"subsample\":[0.9],\n",
    "    \"max_features\":[0.8],\n",
    "    \"learning_rate\": [0.1],\n",
    "    'max_depth' : [1,2,3,4,5,10,15,20], # maximum number of levels allowed in each decision tree\n",
    "    'min_samples_split' : [30,35,40,45], # minimum sample number to split a node\n",
    "    'min_samples_leaf' : [3,6,9,12,15]\n",
    "}\n",
    "\n",
    "\n",
    "gs_gbc = GridSearchCV(estimator = gbc_tuned, \n",
    "                      param_grid = param_grid, \n",
    "                      cv = 3,\n",
    "                      verbose = 1,\n",
    "                      return_train_score = True,\n",
    "                      n_jobs= -1\n",
    "                      )\n",
    "\n",
    "gs_gbc.fit(X_train, y_train)"
   ]
  },
  {
   "cell_type": "code",
   "execution_count": 30,
   "id": "d27a25a6",
   "metadata": {
    "scrolled": false
   },
   "outputs": [
    {
     "name": "stdout",
     "output_type": "stream",
     "text": [
      "Best Params are- {'learning_rate': 0.1, 'max_depth': 5, 'max_features': 0.8, 'min_samples_leaf': 3, 'min_samples_split': 40, 'n_estimators': 40, 'subsample': 0.9}\n",
      "\n",
      "\n",
      "Best Score is- 0.8635707904409896\n",
      "Classification report for the training data \n",
      "               precision    recall  f1-score   support\n",
      "\n",
      "           0       0.88      0.98      0.93      5567\n",
      "           1       0.84      0.50      0.63      1433\n",
      "\n",
      "    accuracy                           0.88      7000\n",
      "   macro avg       0.86      0.74      0.78      7000\n",
      "weighted avg       0.87      0.88      0.87      7000\n",
      "\n",
      "Classification report for the test data \n",
      "               precision    recall  f1-score   support\n",
      "\n",
      "           0       0.87      0.97      0.92      2396\n",
      "           1       0.79      0.43      0.56       604\n",
      "\n",
      "    accuracy                           0.86      3000\n",
      "   macro avg       0.83      0.70      0.74      3000\n",
      "weighted avg       0.86      0.86      0.85      3000\n",
      "\n",
      "Confusion matrix for the train data- \n",
      " [[5431  136]\n",
      " [ 717  716]]\n",
      "\n",
      "Confusion matrix for the test data- \n",
      " [[2327   69]\n",
      " [ 342  262]]\n"
     ]
    }
   ],
   "source": [
    "print('Best Params are-', gs_gbc.best_params_)\n",
    "print('\\n\\nBest Score is-',gs_gbc.best_score_)\n",
    "\n",
    "# Set the clf to the best combination of parameters\n",
    "gs_gbc_tuned = gs_gbc.best_estimator_\n",
    "gs_gbc_tuned.fit(X_train, y_train)\n",
    "\n",
    "y_gs_gbc_train_predicted = gs_gbc_tuned.predict(X_train)\n",
    "y_gs_gbc_test_predicted = gs_gbc_tuned.predict(X_test)\n",
    "\n",
    "# summarize the fit of the model\n",
    "print('Classification report for the training data \\n',classification_report(y_train, y_gs_gbc_train_predicted))\n",
    "print('Classification report for the test data \\n',classification_report(y_test, y_gs_gbc_test_predicted))\n",
    "print('Confusion matrix for the train data- \\n',confusion_matrix(y_train, y_gs_gbc_train_predicted))\n",
    "print('\\nConfusion matrix for the test data- \\n',confusion_matrix(y_test, y_gs_gbc_test_predicted))"
   ]
  },
  {
   "cell_type": "code",
   "execution_count": 31,
   "id": "47e0ea52",
   "metadata": {},
   "outputs": [
    {
     "data": {
      "text/plain": [
       "Text(0.5, 0, 'Gradient Boosting Feature Importance')"
      ]
     },
     "execution_count": 31,
     "metadata": {},
     "output_type": "execute_result"
    },
    {
     "data": {
      "image/png": "[encoded data removed]",
      "text/plain": [
       "<Figure size 640x480 with 1 Axes>"
      ]
     },
     "metadata": {},
     "output_type": "display_data"
    }
   ],
   "source": [
    "sorted_idx = gs_gbc_tuned.feature_importances_.argsort()\n",
    "plt.barh(X_train.columns,gs_gbc_tuned.feature_importances_[sorted_idx])\n",
    "plt.xlabel(\"Gradient Boosting Feature Importance\")"
   ]
  },
  {
   "cell_type": "markdown",
   "id": "baf0f7d2",
   "metadata": {},
   "source": [
    "## 10. Bagging Classifier"
   ]
  },
  {
   "cell_type": "code",
   "execution_count": 32,
   "id": "a00ba17e",
   "metadata": {},
   "outputs": [
    {
     "name": "stdout",
     "output_type": "stream",
     "text": [
      "Accuracy on training set :  0.9882857142857143\n",
      "Accuracy on test set :  0.853\n",
      "Recall on training set :  0.9462665736217725\n",
      "Recall on test set :  0.43543046357615894\n",
      "Precision on training set :  0.9963262307127112\n",
      "Precision on test set :  0.7245179063360881\n",
      "F1-Score on training set :  0.9706513958482461\n",
      "F1-Score on test set :  0.5439503619441571\n",
      "Classification Report for Training Data- \n",
      "               precision    recall  f1-score   support\n",
      "\n",
      "           0       0.99      1.00      0.99      5567\n",
      "           1       1.00      0.95      0.97      1433\n",
      "\n",
      "    accuracy                           0.99      7000\n",
      "   macro avg       0.99      0.97      0.98      7000\n",
      "weighted avg       0.99      0.99      0.99      7000\n",
      "\n",
      "Classification Report for Test Data- \n",
      "               precision    recall  f1-score   support\n",
      "\n",
      "           0       0.87      0.96      0.91      2396\n",
      "           1       0.72      0.44      0.54       604\n",
      "\n",
      "    accuracy                           0.85      3000\n",
      "   macro avg       0.80      0.70      0.73      3000\n",
      "weighted avg       0.84      0.85      0.84      3000\n",
      "\n",
      "Confusion Matrix for Training Data- \n",
      " [[5562    5]\n",
      " [  77 1356]]\n",
      "\n",
      "Confusion Matrix for Test Data - \n",
      " [[2296  100]\n",
      " [ 341  263]]\n"
     ]
    }
   ],
   "source": [
    "bc_model = BaggingClassifier(random_state=1)\n",
    "bc_model.fit(X_train,y_train)\n",
    "# make predictions for train data\n",
    "y_bc_train_predicted = bc_model.predict(X_train)\n",
    "\n",
    "# make predictions for test data\n",
    "y_bc_test_predicted = bc_model.predict(X_test)\n",
    "bc_score=get_metrics_score(bc_model,X_train, X_test, y_train, y_test)\n",
    "\n",
    "# summarize the fit of the model\n",
    "print('Classification Report for Training Data- \\n',classification_report(y_train, y_bc_train_predicted))\n",
    "print('Classification Report for Test Data- \\n',classification_report(y_test, y_bc_test_predicted))\n",
    "print('Confusion Matrix for Training Data- \\n',confusion_matrix(y_train, y_bc_train_predicted))\n",
    "print('\\nConfusion Matrix for Test Data - \\n',confusion_matrix(y_test, y_bc_test_predicted))"
   ]
  },
  {
   "cell_type": "markdown",
   "id": "7d35cee3",
   "metadata": {},
   "source": [
    "## 11. Ada Boosting Classifier"
   ]
  },
  {
   "cell_type": "code",
   "execution_count": 33,
   "id": "70646865",
   "metadata": {},
   "outputs": [
    {
     "name": "stdout",
     "output_type": "stream",
     "text": [
      "Accuracy on training set :  0.8595714285714285\n",
      "Accuracy on test set :  0.857\n",
      "Recall on training set :  0.4884856943475227\n",
      "Recall on test set :  0.46357615894039733\n",
      "Precision on training set :  0.7368421052631579\n",
      "Precision on test set :  0.7272727272727273\n",
      "F1-Score on training set :  0.5874947545111204\n",
      "F1-Score on test set :  0.5662285136501517\n",
      "Classification Report for Training Data- \n",
      "               precision    recall  f1-score   support\n",
      "\n",
      "           0       0.88      0.96      0.92      5567\n",
      "           1       0.74      0.49      0.59      1433\n",
      "\n",
      "    accuracy                           0.86      7000\n",
      "   macro avg       0.81      0.72      0.75      7000\n",
      "weighted avg       0.85      0.86      0.85      7000\n",
      "\n",
      "Classification Report for Test Data- \n",
      "               precision    recall  f1-score   support\n",
      "\n",
      "           0       0.88      0.96      0.91      2396\n",
      "           1       0.73      0.46      0.57       604\n",
      "\n",
      "    accuracy                           0.86      3000\n",
      "   macro avg       0.80      0.71      0.74      3000\n",
      "weighted avg       0.85      0.86      0.84      3000\n",
      "\n",
      "Confusion Matrix for Training Data- \n",
      " [[5317  250]\n",
      " [ 733  700]]\n",
      "\n",
      "Confusion Matrix for Test Data - \n",
      " [[2291  105]\n",
      " [ 324  280]]\n"
     ]
    }
   ],
   "source": [
    "abc_model = AdaBoostClassifier(random_state=1)\n",
    "abc_model.fit(X_train,y_train)\n",
    "# make predictions for train data\n",
    "y_abc_train_predicted = abc_model.predict(X_train)\n",
    "\n",
    "# make predictions for test data\n",
    "y_abc_test_predicted = abc_model.predict(X_test)\n",
    "abc_score=get_metrics_score(abc_model,X_train, X_test, y_train, y_test)\n",
    "\n",
    "# summarize the fit of the model\n",
    "print('Classification Report for Training Data- \\n',classification_report(y_train, y_abc_train_predicted))\n",
    "print('Classification Report for Test Data- \\n',classification_report(y_test, y_abc_test_predicted))\n",
    "print('Confusion Matrix for Training Data- \\n',confusion_matrix(y_train, y_abc_train_predicted))\n",
    "print('\\nConfusion Matrix for Test Data - \\n',confusion_matrix(y_test, y_abc_test_predicted))"
   ]
  },
  {
   "cell_type": "markdown",
   "id": "60e85dda",
   "metadata": {},
   "source": [
    "## 12 Voting Classifier"
   ]
  },
  {
   "cell_type": "code",
   "execution_count": 34,
   "id": "c60ae3dd",
   "metadata": {},
   "outputs": [],
   "source": [
    "# defining list of models\n",
    "estimator= [('LR',lr_model), ('LDA',lda_model), ('GNB',GNB_model), ('DT',dt_model), ('GSDT',gs_dt_tuned), ('RF',RF_model),\n",
    "            ('GSRF',gs_rf_tuned), ('GBC',gbc_model), ('GSGBC',gs_gbc_tuned), ('BC', bc_model),('ABC',abc_model)]"
   ]
  },
  {
   "cell_type": "code",
   "execution_count": 35,
   "id": "2cd8a00d",
   "metadata": {},
   "outputs": [
    {
     "name": "stdout",
     "output_type": "stream",
     "text": [
      "Accuracy on training set :  0.8595714285714285\n",
      "Accuracy on test set :  0.857\n",
      "Recall on training set :  0.4884856943475227\n",
      "Recall on test set :  0.46357615894039733\n",
      "Precision on training set :  0.7368421052631579\n",
      "Precision on test set :  0.7272727272727273\n",
      "F1-Score on training set :  0.5874947545111204\n",
      "F1-Score on test set :  0.5662285136501517\n",
      "Classification Report for Training Data- \n",
      "               precision    recall  f1-score   support\n",
      "\n",
      "           0       0.94      0.98      0.96      5567\n",
      "           1       0.91      0.74      0.82      1433\n",
      "\n",
      "    accuracy                           0.93      7000\n",
      "   macro avg       0.92      0.86      0.89      7000\n",
      "weighted avg       0.93      0.93      0.93      7000\n",
      "\n",
      "Classification Report for Test Data- \n",
      "               precision    recall  f1-score   support\n",
      "\n",
      "           0       0.88      0.95      0.91      2396\n",
      "           1       0.71      0.51      0.59       604\n",
      "\n",
      "    accuracy                           0.86      3000\n",
      "   macro avg       0.80      0.73      0.75      3000\n",
      "weighted avg       0.85      0.86      0.85      3000\n",
      "\n",
      "Confusion Matrix for Training Data- \n",
      " [[5468   99]\n",
      " [ 379 1054]]\n",
      "\n",
      "Confusion Matrix for Test Data - \n",
      " [[2271  125]\n",
      " [ 297  307]]\n"
     ]
    }
   ],
   "source": [
    "soft_vc_model = VotingClassifier(estimators= estimator, voting='soft')\n",
    "soft_vc_model.fit(X_train,y_train)\n",
    "\n",
    "# make predictions for train data\n",
    "y_soft_vc_train_predicted = soft_vc_model.predict(X_train)\n",
    "\n",
    "# make predictions for test data\n",
    "y_soft_vc_test_predicted = soft_vc_model.predict(X_test)\n",
    "soft_vc_score=get_metrics_score(abc_model,X_train, X_test, y_train, y_test)\n",
    "\n",
    "# summarize the fit of the model\n",
    "print('Classification Report for Training Data- \\n',classification_report(y_train, y_soft_vc_train_predicted))\n",
    "print('Classification Report for Test Data- \\n',classification_report(y_test, y_soft_vc_test_predicted))\n",
    "print('Confusion Matrix for Training Data- \\n',confusion_matrix(y_train, y_soft_vc_train_predicted))\n",
    "print('\\nConfusion Matrix for Test Data - \\n',confusion_matrix(y_test, y_soft_vc_test_predicted))"
   ]
  },
  {
   "cell_type": "code",
   "execution_count": 36,
   "id": "24830728",
   "metadata": {
    "scrolled": false
   },
   "outputs": [
    {
     "name": "stdout",
     "output_type": "stream",
     "text": [
      "Accuracy on training set :  0.8595714285714285\n",
      "Accuracy on test set :  0.857\n",
      "Recall on training set :  0.4884856943475227\n",
      "Recall on test set :  0.46357615894039733\n",
      "Precision on training set :  0.7368421052631579\n",
      "Precision on test set :  0.7272727272727273\n",
      "F1-Score on training set :  0.5874947545111204\n",
      "F1-Score on test set :  0.5662285136501517\n",
      "Classification Report for Training Data- \n",
      "               precision    recall  f1-score   support\n",
      "\n",
      "           0       0.92      0.97      0.94      5567\n",
      "           1       0.86      0.67      0.75      1433\n",
      "\n",
      "    accuracy                           0.91      7000\n",
      "   macro avg       0.89      0.82      0.85      7000\n",
      "weighted avg       0.91      0.91      0.91      7000\n",
      "\n",
      "Classification Report for Test Data- \n",
      "               precision    recall  f1-score   support\n",
      "\n",
      "           0       0.88      0.96      0.92      2396\n",
      "           1       0.74      0.49      0.59       604\n",
      "\n",
      "    accuracy                           0.86      3000\n",
      "   macro avg       0.81      0.72      0.75      3000\n",
      "weighted avg       0.85      0.86      0.85      3000\n",
      "\n",
      "Confusion Matrix for Training Data- \n",
      " [[5408  159]\n",
      " [ 473  960]]\n",
      "\n",
      "Confusion Matrix for Test Data - \n",
      " [[2295  101]\n",
      " [ 310  294]]\n"
     ]
    }
   ],
   "source": [
    "hard_vc_model = VotingClassifier(estimators= estimator, voting='hard')\n",
    "hard_vc_model.fit(X_train,y_train)\n",
    "\n",
    "# make predictions for train data\n",
    "y_hard_vc_train_predicted = hard_vc_model.predict(X_train)\n",
    "\n",
    "# make predictions for test data\n",
    "y_hard_vc_test_predicted = hard_vc_model.predict(X_test)\n",
    "hard_vc_score=get_metrics_score(abc_model,X_train, X_test, y_train, y_test)\n",
    "\n",
    "# summarize the fit of the model\n",
    "print('Classification Report for Training Data- \\n',classification_report(y_train, y_hard_vc_train_predicted))\n",
    "print('Classification Report for Test Data- \\n',classification_report(y_test, y_hard_vc_test_predicted))\n",
    "print('Confusion Matrix for Training Data- \\n',confusion_matrix(y_train, y_hard_vc_train_predicted))\n",
    "print('\\nConfusion Matrix for Test Data - \\n',confusion_matrix(y_test, y_hard_vc_test_predicted))"
   ]
  },
  {
   "cell_type": "code",
   "execution_count": 37,
   "id": "db4e1d74",
   "metadata": {},
   "outputs": [
    {
     "data": {
      "text/plain": [
       "<Figure size 1200x600 with 0 Axes>"
      ]
     },
     "metadata": {},
     "output_type": "display_data"
    },
    {
     "data": {
      "image/png": "[encoded data removed]",
      "text/plain": [
       "<Figure size 640x480 with 1 Axes>"
      ]
     },
     "metadata": {},
     "output_type": "display_data"
    }
   ],
   "source": [
    "models_list = [lr_model, lda_model, GNB_model, dt_model, gs_dt_tuned, RF_model, gs_rf_tuned, gbc_model, gs_gbc_tuned, bc_model, \n",
    "          abc_model, soft_vc_model]\n",
    "\n",
    "probability_list = [c.fit(X_train, y_train).predict_proba(X) for c in models_list]\n",
    "\n",
    "class1_1 = [pr[0, 0] for pr in probability_list]\n",
    "class2_1 = [pr[0, 1] for pr in probability_list]\n",
    "\n",
    "# plotting\n",
    "\n",
    "N = 12  # number of groups\n",
    "ind = np.arange(N)  # group positions\n",
    "width = 0.35  # bar width\n",
    "\n",
    "plt.figure(figsize=(12,6))\n",
    "fig, ax = plt.subplots()\n",
    "\n",
    "# bars for classifier 1-11\n",
    "p1 = ax.bar(ind, np.hstack(([class1_1[:-1], [0]])), width, color=\"green\", edgecolor=\"k\")\n",
    "p2 = ax.bar(\n",
    "    ind + width,\n",
    "    np.hstack(([class2_1[:-1], [0]])),\n",
    "    width,\n",
    "    color=\"lightgreen\",\n",
    "    edgecolor=\"k\",\n",
    ")\n",
    "\n",
    "# bars for VotingClassifier\n",
    "p3 = ax.bar(ind, [0, 0, 0, 0, 0, 0, 0, 0, 0, 0, 0, class1_1[-1]], width, color=\"blue\", edgecolor=\"k\")\n",
    "p4 = ax.bar(\n",
    "    ind + width, [0, 0, 0, 0, 0, 0, 0, 0, 0, 0, 0, class2_1[-1]], width, color=\"steelblue\", edgecolor=\"k\"\n",
    ")\n",
    "\n",
    "# plot annotations\n",
    "plt.axvline(10.8, color=\"k\", linestyle=\"dashed\")\n",
    "ax.set_xticks(ind + width)\n",
    "ax.set_xticklabels(\n",
    "    ['Logistic Regression','Linear Discriminant Analysis','Naive Bayes','Decision Tree','Decision Tree Tuned', \n",
    "     'Random Forest','Random Forest Tuned', 'Gradient Boosting','Gradient Boosting Tuned',\n",
    "     'Bagging Classifier','Ada Boosting Classifier','Soft Voting Classifier'],\n",
    "    rotation=90,\n",
    "    ha=\"right\",\n",
    ")\n",
    "plt.ylim([0, 1])\n",
    "plt.title(\"Class probabilities by different classifiers\")\n",
    "plt.legend([p1[0], p2[0]], [\"No\", \"Yes\"], loc=\"upper left\")\n",
    "plt.tight_layout()\n",
    "plt.show()"
   ]
  },
  {
   "cell_type": "code",
   "execution_count": 38,
   "id": "8c117dea",
   "metadata": {},
   "outputs": [
    {
     "data": {
      "text/html": [
       "<div>\n",
       "<style scoped>\n",
       "    .dataframe tbody tr th:only-of-type {\n",
       "        vertical-align: middle;\n",
       "    }\n",
       "\n",
       "    .dataframe tbody tr th {\n",
       "        vertical-align: top;\n",
       "    }\n",
       "\n",
       "    .dataframe thead th {\n",
       "        text-align: right;\n",
       "    }\n",
       "</style>\n",
       "<table border=\"1\" class=\"dataframe\">\n",
       "  <thead>\n",
       "    <tr style=\"text-align: right;\">\n",
       "      <th></th>\n",
       "      <th>TrainAccuracy</th>\n",
       "      <th>TestAccuracy</th>\n",
       "      <th>Train_Recall</th>\n",
       "      <th>TestRecall</th>\n",
       "      <th>TrainPrecision</th>\n",
       "      <th>TestPrecision</th>\n",
       "      <th>TrainF1Score</th>\n",
       "      <th>TestF1Score</th>\n",
       "    </tr>\n",
       "  </thead>\n",
       "  <tbody>\n",
       "    <tr>\n",
       "      <th>Logistic Regression</th>\n",
       "      <td>0.65</td>\n",
       "      <td>0.66</td>\n",
       "      <td>0.67</td>\n",
       "      <td>0.66</td>\n",
       "      <td>0.33</td>\n",
       "      <td>0.33</td>\n",
       "      <td>0.44</td>\n",
       "      <td>0.44</td>\n",
       "    </tr>\n",
       "    <tr>\n",
       "      <th>Linear Discriminant Analysis</th>\n",
       "      <td>0.80</td>\n",
       "      <td>0.81</td>\n",
       "      <td>0.19</td>\n",
       "      <td>0.20</td>\n",
       "      <td>0.57</td>\n",
       "      <td>0.56</td>\n",
       "      <td>0.29</td>\n",
       "      <td>0.29</td>\n",
       "    </tr>\n",
       "    <tr>\n",
       "      <th>Naive Bayes</th>\n",
       "      <td>0.78</td>\n",
       "      <td>0.79</td>\n",
       "      <td>0.08</td>\n",
       "      <td>0.07</td>\n",
       "      <td>0.36</td>\n",
       "      <td>0.36</td>\n",
       "      <td>0.13</td>\n",
       "      <td>0.12</td>\n",
       "    </tr>\n",
       "    <tr>\n",
       "      <th>Decision Tree</th>\n",
       "      <td>1.00</td>\n",
       "      <td>0.81</td>\n",
       "      <td>1.00</td>\n",
       "      <td>0.48</td>\n",
       "      <td>1.00</td>\n",
       "      <td>0.53</td>\n",
       "      <td>1.00</td>\n",
       "      <td>0.50</td>\n",
       "    </tr>\n",
       "    <tr>\n",
       "      <th>Decision Tree Tuned</th>\n",
       "      <td>0.82</td>\n",
       "      <td>0.76</td>\n",
       "      <td>0.87</td>\n",
       "      <td>0.68</td>\n",
       "      <td>0.53</td>\n",
       "      <td>0.43</td>\n",
       "      <td>0.66</td>\n",
       "      <td>0.53</td>\n",
       "    </tr>\n",
       "    <tr>\n",
       "      <th>Random Forest</th>\n",
       "      <td>0.83</td>\n",
       "      <td>0.81</td>\n",
       "      <td>0.76</td>\n",
       "      <td>0.67</td>\n",
       "      <td>0.57</td>\n",
       "      <td>0.51</td>\n",
       "      <td>0.65</td>\n",
       "      <td>0.58</td>\n",
       "    </tr>\n",
       "    <tr>\n",
       "      <th>Random Forest Tuned</th>\n",
       "      <td>0.89</td>\n",
       "      <td>0.83</td>\n",
       "      <td>0.86</td>\n",
       "      <td>0.65</td>\n",
       "      <td>0.69</td>\n",
       "      <td>0.57</td>\n",
       "      <td>0.77</td>\n",
       "      <td>0.61</td>\n",
       "    </tr>\n",
       "    <tr>\n",
       "      <th>Gradient Boosting Classifier</th>\n",
       "      <td>0.87</td>\n",
       "      <td>0.86</td>\n",
       "      <td>0.50</td>\n",
       "      <td>0.45</td>\n",
       "      <td>0.82</td>\n",
       "      <td>0.78</td>\n",
       "      <td>0.62</td>\n",
       "      <td>0.57</td>\n",
       "    </tr>\n",
       "    <tr>\n",
       "      <th>Gradient Boosting Classifier Tuned</th>\n",
       "      <td>0.88</td>\n",
       "      <td>0.86</td>\n",
       "      <td>0.50</td>\n",
       "      <td>0.43</td>\n",
       "      <td>0.84</td>\n",
       "      <td>0.79</td>\n",
       "      <td>0.63</td>\n",
       "      <td>0.56</td>\n",
       "    </tr>\n",
       "    <tr>\n",
       "      <th>Bagging Classifier</th>\n",
       "      <td>0.99</td>\n",
       "      <td>0.85</td>\n",
       "      <td>0.95</td>\n",
       "      <td>0.44</td>\n",
       "      <td>1.00</td>\n",
       "      <td>0.72</td>\n",
       "      <td>0.97</td>\n",
       "      <td>0.54</td>\n",
       "    </tr>\n",
       "    <tr>\n",
       "      <th>Ada Boosting Classifier</th>\n",
       "      <td>0.86</td>\n",
       "      <td>0.86</td>\n",
       "      <td>0.49</td>\n",
       "      <td>0.46</td>\n",
       "      <td>0.74</td>\n",
       "      <td>0.73</td>\n",
       "      <td>0.59</td>\n",
       "      <td>0.57</td>\n",
       "    </tr>\n",
       "    <tr>\n",
       "      <th>Soft Voting Classifier</th>\n",
       "      <td>0.93</td>\n",
       "      <td>0.86</td>\n",
       "      <td>0.74</td>\n",
       "      <td>0.51</td>\n",
       "      <td>0.91</td>\n",
       "      <td>0.72</td>\n",
       "      <td>0.82</td>\n",
       "      <td>0.60</td>\n",
       "    </tr>\n",
       "    <tr>\n",
       "      <th>Hard Voting Classifier</th>\n",
       "      <td>0.91</td>\n",
       "      <td>0.86</td>\n",
       "      <td>0.67</td>\n",
       "      <td>0.49</td>\n",
       "      <td>0.86</td>\n",
       "      <td>0.74</td>\n",
       "      <td>0.75</td>\n",
       "      <td>0.59</td>\n",
       "    </tr>\n",
       "  </tbody>\n",
       "</table>\n",
       "</div>"
      ],
      "text/plain": [
       "                                    TrainAccuracy  TestAccuracy  Train_Recall  \\\n",
       "Logistic Regression                          0.65          0.66          0.67   \n",
       "Linear Discriminant Analysis                 0.80          0.81          0.19   \n",
       "Naive Bayes                                  0.78          0.79          0.08   \n",
       "Decision Tree                                1.00          0.81          1.00   \n",
       "Decision Tree Tuned                          0.82          0.76          0.87   \n",
       "Random Forest                                0.83          0.81          0.76   \n",
       "Random Forest Tuned                          0.89          0.83          0.86   \n",
       "Gradient Boosting Classifier                 0.87          0.86          0.50   \n",
       "Gradient Boosting Classifier Tuned           0.88          0.86          0.50   \n",
       "Bagging Classifier                           0.99          0.85          0.95   \n",
       "Ada Boosting Classifier                      0.86          0.86          0.49   \n",
       "Soft Voting Classifier                       0.93          0.86          0.74   \n",
       "Hard Voting Classifier                       0.91          0.86          0.67   \n",
       "\n",
       "                                    TestRecall  TrainPrecision  TestPrecision  \\\n",
       "Logistic Regression                       0.66            0.33           0.33   \n",
       "Linear Discriminant Analysis              0.20            0.57           0.56   \n",
       "Naive Bayes                               0.07            0.36           0.36   \n",
       "Decision Tree                             0.48            1.00           0.53   \n",
       "Decision Tree Tuned                       0.68            0.53           0.43   \n",
       "Random Forest                             0.67            0.57           0.51   \n",
       "Random Forest Tuned                       0.65            0.69           0.57   \n",
       "Gradient Boosting Classifier              0.45            0.82           0.78   \n",
       "Gradient Boosting Classifier Tuned        0.43            0.84           0.79   \n",
       "Bagging Classifier                        0.44            1.00           0.72   \n",
       "Ada Boosting Classifier                   0.46            0.74           0.73   \n",
       "Soft Voting Classifier                    0.51            0.91           0.72   \n",
       "Hard Voting Classifier                    0.49            0.86           0.74   \n",
       "\n",
       "                                    TrainF1Score  TestF1Score  \n",
       "Logistic Regression                         0.44         0.44  \n",
       "Linear Discriminant Analysis                0.29         0.29  \n",
       "Naive Bayes                                 0.13         0.12  \n",
       "Decision Tree                               1.00         0.50  \n",
       "Decision Tree Tuned                         0.66         0.53  \n",
       "Random Forest                               0.65         0.58  \n",
       "Random Forest Tuned                         0.77         0.61  \n",
       "Gradient Boosting Classifier                0.62         0.57  \n",
       "Gradient Boosting Classifier Tuned          0.63         0.56  \n",
       "Bagging Classifier                          0.97         0.54  \n",
       "Ada Boosting Classifier                     0.59         0.57  \n",
       "Soft Voting Classifier                      0.82         0.60  \n",
       "Hard Voting Classifier                      0.75         0.59  "
      ]
     },
     "execution_count": 38,
     "metadata": {},
     "output_type": "execute_result"
    }
   ],
   "source": [
    "models_list = [lr_model, lda_model, GNB_model, dt_model, gs_dt_tuned, RF_model, gs_rf_tuned, gbc_model, gs_gbc_tuned, bc_model, \n",
    "          abc_model, soft_vc_model, hard_vc_model]\n",
    "\n",
    "index_list = ['Logistic Regression','Linear Discriminant Analysis','Naive Bayes','Decision Tree','Decision Tree Tuned', \n",
    "              'Random Forest','Random Forest Tuned', 'Gradient Boosting Classifier','Gradient Boosting Classifier Tuned',\n",
    "              'Bagging Classifier','Ada Boosting Classifier','Soft Voting Classifier', 'Hard Voting Classifier']\n",
    "\n",
    "all_model_comparison = get_summary_of_models(models_list)\n",
    "\n",
    "all_model_comparison = all_model_comparison.set_index(pd.Index(index_list))\n",
    "\n",
    "all_model_comparison"
   ]
  },
  {
   "cell_type": "code",
   "execution_count": 39,
   "id": "f74a7488",
   "metadata": {},
   "outputs": [
    {
     "data": {
      "text/html": [
       "<div>\n",
       "<style scoped>\n",
       "    .dataframe tbody tr th:only-of-type {\n",
       "        vertical-align: middle;\n",
       "    }\n",
       "\n",
       "    .dataframe tbody tr th {\n",
       "        vertical-align: top;\n",
       "    }\n",
       "\n",
       "    .dataframe thead th {\n",
       "        text-align: right;\n",
       "    }\n",
       "</style>\n",
       "<table border=\"1\" class=\"dataframe\">\n",
       "  <thead>\n",
       "    <tr style=\"text-align: right;\">\n",
       "      <th></th>\n",
       "      <th>Train ROC-AUC Score</th>\n",
       "      <th>Test ROC-AUC Score</th>\n",
       "    </tr>\n",
       "  </thead>\n",
       "  <tbody>\n",
       "    <tr>\n",
       "      <th>Logistic Regression</th>\n",
       "      <td>0.71</td>\n",
       "      <td>0.71</td>\n",
       "    </tr>\n",
       "    <tr>\n",
       "      <th>Linear Discriminant Analysis</th>\n",
       "      <td>0.76</td>\n",
       "      <td>0.75</td>\n",
       "    </tr>\n",
       "    <tr>\n",
       "      <th>Naive Bayes</th>\n",
       "      <td>0.75</td>\n",
       "      <td>0.74</td>\n",
       "    </tr>\n",
       "    <tr>\n",
       "      <th>Decision Tree</th>\n",
       "      <td>1.00</td>\n",
       "      <td>0.69</td>\n",
       "    </tr>\n",
       "    <tr>\n",
       "      <th>Decision Tree Tuned</th>\n",
       "      <td>0.93</td>\n",
       "      <td>0.78</td>\n",
       "    </tr>\n",
       "    <tr>\n",
       "      <th>Random Forest</th>\n",
       "      <td>0.90</td>\n",
       "      <td>0.85</td>\n",
       "    </tr>\n",
       "    <tr>\n",
       "      <th>Random Forest Tuned</th>\n",
       "      <td>0.96</td>\n",
       "      <td>0.85</td>\n",
       "    </tr>\n",
       "    <tr>\n",
       "      <th>Gradient Boosting Classifier</th>\n",
       "      <td>0.89</td>\n",
       "      <td>0.86</td>\n",
       "    </tr>\n",
       "    <tr>\n",
       "      <th>Gradient Boosting Classifier Tuned</th>\n",
       "      <td>0.90</td>\n",
       "      <td>0.86</td>\n",
       "    </tr>\n",
       "    <tr>\n",
       "      <th>Bagging Classifier</th>\n",
       "      <td>1.00</td>\n",
       "      <td>0.81</td>\n",
       "    </tr>\n",
       "    <tr>\n",
       "      <th>Ada Boosting Classifier</th>\n",
       "      <td>0.86</td>\n",
       "      <td>0.85</td>\n",
       "    </tr>\n",
       "  </tbody>\n",
       "</table>\n",
       "</div>"
      ],
      "text/plain": [
       "                                    Train ROC-AUC Score  Test ROC-AUC Score\n",
       "Logistic Regression                                0.71                0.71\n",
       "Linear Discriminant Analysis                       0.76                0.75\n",
       "Naive Bayes                                        0.75                0.74\n",
       "Decision Tree                                      1.00                0.69\n",
       "Decision Tree Tuned                                0.93                0.78\n",
       "Random Forest                                      0.90                0.85\n",
       "Random Forest Tuned                                0.96                0.85\n",
       "Gradient Boosting Classifier                       0.89                0.86\n",
       "Gradient Boosting Classifier Tuned                 0.90                0.86\n",
       "Bagging Classifier                                 1.00                0.81\n",
       "Ada Boosting Classifier                            0.86                0.85"
      ]
     },
     "execution_count": 39,
     "metadata": {},
     "output_type": "execute_result"
    }
   ],
   "source": [
    "models_list = [lr_model, lda_model, GNB_model, dt_model, gs_dt_tuned, RF_model, gs_rf_tuned, gbc_model, gs_gbc_tuned, bc_model, \n",
    "              abc_model]\n",
    "\n",
    "index_list = ['Logistic Regression','Linear Discriminant Analysis','Naive Bayes','Decision Tree','Decision Tree Tuned', \n",
    "              'Random Forest','Random Forest Tuned', 'Gradient Boosting Classifier','Gradient Boosting Classifier Tuned',\n",
    "              'Bagging Classifier','Ada Boosting Classifier']\n",
    "\n",
    "model_auc_score = get_ROC_AUC_score_of_models(models_list)\n",
    "\n",
    "model_auc_score = model_auc_score.set_index(pd.Index(index_list))\n",
    "\n",
    "model_auc_score"
   ]
  },
  {
   "cell_type": "markdown",
   "id": "70184ddc",
   "metadata": {},
   "source": [
    "# 13. StackingCVClassifier"
   ]
  },
  {
   "cell_type": "code",
   "execution_count": 40,
   "id": "06c1be27",
   "metadata": {},
   "outputs": [
    {
     "name": "stdout",
     "output_type": "stream",
     "text": [
      "Accuracy on training set :  0.8637142857142858\n",
      "Accuracy on test set :  0.8396666666666667\n",
      "Recall on training set :  0.7083042568039079\n",
      "Recall on test set :  0.6341059602649006\n",
      "Precision on training set :  0.6544165054803353\n",
      "Precision on test set :  0.5956454121306376\n",
      "F1-Score on training set :  0.6802949061662198\n",
      "F1-Score on test set :  0.6142742582197273\n",
      "Classification Report for Training Data- \n",
      "               precision    recall  f1-score   support\n",
      "\n",
      "           0       0.92      0.90      0.91      5567\n",
      "           1       0.65      0.71      0.68      1433\n",
      "\n",
      "    accuracy                           0.86      7000\n",
      "   macro avg       0.79      0.81      0.80      7000\n",
      "weighted avg       0.87      0.86      0.87      7000\n",
      "\n",
      "Classification Report for Test Data- \n",
      "               precision    recall  f1-score   support\n",
      "\n",
      "           0       0.91      0.89      0.90      2396\n",
      "           1       0.60      0.63      0.61       604\n",
      "\n",
      "    accuracy                           0.84      3000\n",
      "   macro avg       0.75      0.76      0.76      3000\n",
      "weighted avg       0.84      0.84      0.84      3000\n",
      "\n",
      "Confusion Matrix for Training Data- \n",
      " [[5031  536]\n",
      " [ 418 1015]]\n",
      "\n",
      "Confusion Matrix for Test Data - \n",
      " [[2136  260]\n",
      " [ 221  383]]\n"
     ]
    }
   ],
   "source": [
    "from mlxtend.classifier import StackingCVClassifier\n",
    "\n",
    "stack_clf_model = StackingCVClassifier(classifiers= models_list,\n",
    "                                       shuffle = False,\n",
    "                                       use_probas = True,\n",
    "                                       cv = 5,\n",
    "                                       meta_classifier = gs_rf_tuned\n",
    "                                      )\n",
    "stack_clf_model.fit(X_train,y_train)\n",
    "\n",
    "# make predictions for train data\n",
    "y_stack_clf_train_predicted = stack_clf_model.predict(X_train)\n",
    "\n",
    "# make predictions for test data\n",
    "y_stack_clf_test_predicted = stack_clf_model.predict(X_test)\n",
    "stack_clf_score=get_metrics_score(stack_clf_model,X_train, X_test, y_train, y_test)\n",
    "\n",
    "# summarize the fit of the model\n",
    "print('Classification Report for Training Data- \\n',classification_report(y_train, y_stack_clf_train_predicted))\n",
    "print('Classification Report for Test Data- \\n',classification_report(y_test, y_stack_clf_test_predicted))\n",
    "print('Confusion Matrix for Training Data- \\n',confusion_matrix(y_train, y_stack_clf_train_predicted))\n",
    "print('\\nConfusion Matrix for Test Data - \\n',confusion_matrix(y_test, y_stack_clf_test_predicted))"
   ]
  },
  {
   "cell_type": "markdown",
   "id": "98c7f2cc",
   "metadata": {},
   "source": [
    "## Random Forest Tuned seems to be the best performing model in all parameters."
   ]
  }
 ],
 "metadata": {
  "kernelspec": {
   "display_name": "Python 3 (ipykernel)",
   "language": "python",
   "name": "python3"
  },
  "language_info": {
   "codemirror_mode": {
    "name": "ipython",
    "version": 3
   },
   "file_extension": ".py",
   "mimetype": "text/x-python",
   "name": "python",
   "nbconvert_exporter": "python",
   "pygments_lexer": "ipython3",
   "version": "3.10.9"
  }
 },
 "nbformat": 4,
 "nbformat_minor": 5
}
